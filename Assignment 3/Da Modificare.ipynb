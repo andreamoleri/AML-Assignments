{
 "nbformat": 4,
 "nbformat_minor": 0,
 "metadata": {
  "colab": {
   "provenance": [],
   "gpuType": "T4",
   "authorship_tag": "ABX9TyNbPEUQ8G99xfVDnj1P0OsY"
  },
  "kernelspec": {
   "name": "python3",
   "display_name": "Python 3"
  },
  "language_info": {
   "name": "python"
  },
  "accelerator": "GPU"
 },
 "cells": [
  {
   "cell_type": "markdown",
   "source": [
    "Below 7000 parameters tale per cui sia uno dei migliori. Lavora con i layer , così da capire i smallest parameters tale per cui sia buono. Task"
   ],
   "metadata": {
    "id": "FLvmSeN1La27"
   }
  }
 ]
}
