{
 "cells": [
  {
   "cell_type": "markdown",
   "metadata": {
    "id": "FH5ja_uiJbr6"
   },
   "source": [
    "# Predicting Default Payments with Fully-Connected NNs\n",
    "\n",
    "The dataset contains information on default payments, demographic factors, credit data, history of payment, and bill statements of credit card clients in Taiwan from April 2005 to September 2005."
   ]
  },
  {
   "cell_type": "markdown",
   "metadata": {
    "id": "0-FgzT_cJbsH"
   },
   "source": [
    "## Inspecting the Data\n",
    "\n",
    "In this first code block, we will explore the dataset by examining its dimensionality and distribution. The training set is made up of **25,500 samples**, each with **24 attributes** that capture a wide array of data points relevant to the problem. This dimensionality provides a thorough representation of the features. Looking at the output, we find that there are **2 unique target classes**, indicating a binary classification problem. The label distribution reveals a notable class imbalance: **19,815 samples** belong to class **0**, while only **5,685 samples** are in class **1**. Recognizing this disparity is extremely important, as it can impact model performance, particularly regarding accuracy and recall metrics. To address such imbalances, techniques that consider the uneven distribution of classes may be required.\n",
    "\n",
    "The dataset has no missing values across all features, so data absence will not hinder our analysis. This preliminary analysis also indicates that the numerical features vary significantly. For instance, the `LIMIT_BAL` feature ranges from **10,000 to 1,000,000**, while `PAY_AMT1` ranges from **0 to 1,684,259**. This variation suggests the need for normalization or standardization during preprocessing to prevent any single feature from disproportionately influencing the model due to its scale.\n",
    "\n",
    "Examining the first few samples of the training set provides insights into the data's underlying structure. For example, some features contain negative values, particularly the payment history features. Understanding the implications of these values is important for interpreting the dataset and training the model effectively. These features may indicate insolvencies, which are important for predicting defaults."
   ]
  },
  {
   "cell_type": "code",
   "execution_count": 24,
   "metadata": {
    "ExecuteTime": {
     "end_time": "2024-10-25T09:35:23.866501Z",
     "start_time": "2024-10-25T09:35:23.608626Z"
    }
   },
   "outputs": [
    {
     "name": "stdout",
     "output_type": "stream",
     "text": [
      "\n",
      "Training set dimensions: (25500, 24)\n",
      "Features count: 24\n",
      "Number of target classes: 2\n",
      "\n",
      "First 5 training samples:\n",
      "         0         1    2    3    4     5    6    7    8    9   ...       14  \\\n",
      "0  21870.0   70000.0  2.0  3.0  2.0  26.0  0.0  0.0  0.0  0.0  ...   8948.0   \n",
      "1  15211.0  320000.0  2.0  2.0  2.0  28.0 -1.0 -1.0 -1.0 -1.0  ...    944.0   \n",
      "2  20041.0   30000.0  2.0  2.0  2.0  36.0  0.0 -1.0 -1.0  0.0  ...  30452.0   \n",
      "3   9190.0   20000.0  2.0  3.0  1.0  35.0  0.0  0.0  2.0  2.0  ...  18621.0   \n",
      "4   6260.0   80000.0  1.0  2.0  2.0  32.0  1.0  2.0  0.0  0.0  ...  28242.0   \n",
      "\n",
      "        15       16       17      18       19      20      21      22      23  \n",
      "0   9006.0  10570.0  11421.0  2000.0   1200.0  1500.0  2000.0  1000.0  2000.0  \n",
      "1    473.0   1747.0   1193.0   390.0    944.0   473.0  5000.0  1200.0   980.0  \n",
      "2  29667.0  28596.0  29180.0   490.0  33299.0  1400.0   572.0   584.0   400.0  \n",
      "3  18024.0  18434.0  19826.0  3000.0   1000.0     0.0   700.0  1700.0     0.0  \n",
      "4  21400.0      0.0      0.0     7.0   1200.0  1408.0     0.0     0.0     0.0  \n",
      "\n",
      "[5 rows x 24 columns]\n",
      "\n",
      "Labels distribution:\n",
      " 0    19815\n",
      "1     5685\n",
      "Name: count, dtype: int64\n",
      "\n",
      "Missing values:\n",
      " ID                            0\n",
      "LIMIT_BAL                     0\n",
      "SEX                           0\n",
      "EDUCATION                     0\n",
      "MARRIAGE                      0\n",
      "AGE                           0\n",
      "PAY_0                         0\n",
      "PAY_2                         0\n",
      "PAY_3                         0\n",
      "PAY_4                         0\n",
      "PAY_5                         0\n",
      "PAY_6                         0\n",
      "BILL_AMT1                     0\n",
      "BILL_AMT2                     0\n",
      "BILL_AMT3                     0\n",
      "BILL_AMT4                     0\n",
      "BILL_AMT5                     0\n",
      "BILL_AMT6                     0\n",
      "PAY_AMT1                      0\n",
      "PAY_AMT2                      0\n",
      "PAY_AMT3                      0\n",
      "PAY_AMT4                      0\n",
      "PAY_AMT5                      0\n",
      "PAY_AMT6                      0\n",
      "default payment next month    0\n",
      "dtype: int64\n",
      "\n",
      "Summary statistics:\n",
      "                 ID       LIMIT_BAL           SEX     EDUCATION      MARRIAGE  \\\n",
      "count  25500.00000    25500.000000  25500.000000  25500.000000  25500.000000   \n",
      "mean   14956.95702   167569.007059      1.604118      1.852353      1.550392   \n",
      "std     8667.36982   130002.156470      0.489049      0.787991      0.522757   \n",
      "min        1.00000    10000.000000      1.000000      0.000000      0.000000   \n",
      "25%     7432.75000    50000.000000      1.000000      1.000000      1.000000   \n",
      "50%    14942.50000   140000.000000      2.000000      2.000000      2.000000   \n",
      "75%    22431.25000   240000.000000      2.000000      2.000000      2.000000   \n",
      "max    30000.00000  1000000.000000      2.000000      6.000000      3.000000   \n",
      "\n",
      "                AGE         PAY_0         PAY_2         PAY_3         PAY_4  \\\n",
      "count  25500.000000  25500.000000  25500.000000  25500.000000  25500.000000   \n",
      "mean      35.509294     -0.013098     -0.130784     -0.163294     -0.218235   \n",
      "std        9.200408      1.126314      1.199481      1.199697      1.169681   \n",
      "min       21.000000     -2.000000     -2.000000     -2.000000     -2.000000   \n",
      "25%       28.000000     -1.000000     -1.000000     -1.000000     -1.000000   \n",
      "50%       34.000000      0.000000      0.000000      0.000000      0.000000   \n",
      "75%       41.000000      0.000000      0.000000      0.000000      0.000000   \n",
      "max       79.000000      8.000000      8.000000      8.000000      8.000000   \n",
      "\n",
      "       ...      BILL_AMT4      BILL_AMT5      BILL_AMT6       PAY_AMT1  \\\n",
      "count  ...   25500.000000   25500.000000   25500.000000   25500.000000   \n",
      "mean   ...   43336.952196   40307.121059   38924.328157    5594.010863   \n",
      "std    ...   64433.082446   60870.691089   59659.509920   16235.253410   \n",
      "min    ... -170000.000000  -81334.000000 -339603.000000       0.000000   \n",
      "25%    ...    2338.750000    1767.250000    1266.750000    1000.000000   \n",
      "50%    ...   19111.000000   18112.500000   17150.000000    2100.000000   \n",
      "75%    ...   54475.000000   50178.250000   49132.500000    5006.000000   \n",
      "max    ...  891586.000000  927171.000000  961664.000000  873552.000000   \n",
      "\n",
      "           PAY_AMT2       PAY_AMT3       PAY_AMT4       PAY_AMT5  \\\n",
      "count  2.550000e+04   25500.000000   25500.000000   25500.000000   \n",
      "mean   5.934389e+03    5319.529647    4812.161373    4812.480431   \n",
      "std    2.381277e+04   18157.653215   15560.524538   15206.108094   \n",
      "min    0.000000e+00       0.000000       0.000000       0.000000   \n",
      "25%    8.270000e+02     396.000000     291.000000     251.000000   \n",
      "50%    2.002000e+03    1800.000000    1500.000000    1500.000000   \n",
      "75%    5.000000e+03    4560.500000    4000.000000    4071.500000   \n",
      "max    1.684259e+06  896040.000000  621000.000000  426529.000000   \n",
      "\n",
      "            PAY_AMT6  default payment next month  \n",
      "count   25500.000000                25500.000000  \n",
      "mean     5236.509176                    0.222941  \n",
      "std     17958.888070                    0.416227  \n",
      "min         0.000000                    0.000000  \n",
      "25%       125.750000                    0.000000  \n",
      "50%      1500.000000                    0.000000  \n",
      "75%      4000.000000                    0.000000  \n",
      "max    528666.000000                    1.000000  \n",
      "\n",
      "[8 rows x 25 columns]\n",
      "\n",
      "Test set dimensions: (4500, 23)\n",
      "\n",
      "Training set data:\n",
      " [[2.1870e+04 7.0000e+04 2.0000e+00 ... 2.0000e+03 1.0000e+03 2.0000e+03]\n",
      " [1.5211e+04 3.2000e+05 2.0000e+00 ... 5.0000e+03 1.2000e+03 9.8000e+02]\n",
      " [2.0041e+04 3.0000e+04 2.0000e+00 ... 5.7200e+02 5.8400e+02 4.0000e+02]\n",
      " ...\n",
      " [3.6200e+02 3.2000e+05 2.0000e+00 ... 2.6610e+03 2.7810e+03 2.5000e+03]\n",
      " [1.2822e+04 5.0000e+05 2.0000e+00 ... 2.3800e+03 2.7720e+03 3.0000e+03]\n",
      " [2.0757e+04 4.0000e+04 1.0000e+00 ... 2.7000e+03 0.0000e+00 0.0000e+00]]\n",
      "\n",
      "Training set labels:\n",
      " [0 0 0 ... 0 0 1]\n"
     ]
    }
   ],
   "source": [
    "# Import necessary libraries\n",
    "import pandas as pd  \n",
    "import numpy as np  \n",
    "import os \n",
    "\n",
    "# Set environment variable to suppress TensorFlow logging warnings\n",
    "os.environ['TF_CPP_MIN_LOG_LEVEL'] = '1'\n",
    "\n",
    "def load_data(path, train=True):\n",
    "    \"\"\"\n",
    "    Load and preprocess data from a specified CSV file.\n",
    "\n",
    "    Parameters:\n",
    "    path (str): The path to the CSV file to be loaded.\n",
    "    train (bool): A flag indicating whether to load training data or test data.\n",
    "                  If True, the data will be shuffled and returned without the last column (target variable).\n",
    "                  If False, the first column will be treated as labels, and the rest as features.\n",
    "\n",
    "    Returns:\n",
    "    Tuple[np.ndarray, np.ndarray]: A tuple containing:\n",
    "        - A NumPy array of features.\n",
    "        - A NumPy array of labels (if train is True) or a NumPy array of IDs (if train is False).\n",
    "    \"\"\"\n",
    "    # Load data from the specified CSV file with the given encoding\n",
    "    df = pd.read_csv(path, encoding=\"ISO-8859-2\")\n",
    "\n",
    "    if train:\n",
    "        # Shuffle the data and return features and labels for training\n",
    "        data = df.sample(frac=1, random_state=42).values\n",
    "        return data[:, :-1].astype(np.float32), data[:, -1]\n",
    "\n",
    "    # Return features and IDs for test data\n",
    "    return df.iloc[:, 1:].values.astype(np.float32), df.iloc[:, 0].astype(str)\n",
    "\n",
    "# Load training and testing data\n",
    "X_train, labels = load_data('./train.csv')  # Load training data\n",
    "X_test, ids = load_data('./test.csv', train=False)  # Load test data\n",
    "\n",
    "# Display the dimensions of the training set and the count of features\n",
    "print(f\"\\nTraining set dimensions: {X_train.shape}\\nFeatures count: {X_train.shape[1]}\")\n",
    "\n",
    "# Count the number of unique classes in the labels\n",
    "num_classes = len(np.unique(labels))\n",
    "print(f\"Number of target classes: {num_classes}\")\n",
    "\n",
    "# Display the first five samples of the training set\n",
    "print(\"\\nFirst 5 training samples:\\n\", pd.DataFrame(X_train).head())\n",
    "\n",
    "# Display the distribution of the labels in the training set\n",
    "print(\"\\nLabels distribution:\\n\", pd.Series(labels).value_counts())\n",
    "\n",
    "# Load the training data again for analysis\n",
    "train_data = pd.read_csv('./train.csv')\n",
    "\n",
    "# Display the count of missing values for each column in the training data\n",
    "print(\"\\nMissing values:\\n\", train_data.isnull().sum())\n",
    "\n",
    "# Display summary statistics for the training data\n",
    "print(\"\\nSummary statistics:\\n\", train_data.describe())\n",
    "\n",
    "# Display the dimensions of the test set\n",
    "print(\"\\nTest set dimensions:\", X_test.shape)\n",
    "\n",
    "# Display the actual training set data and corresponding labels\n",
    "print(\"\\nTraining set data:\\n\", X_train)\n",
    "print(\"\\nTraining set labels:\\n\", labels)"
   ]
  },
  {
   "cell_type": "markdown",
   "metadata": {
    "id": "PjWrQr5vWTTG"
   },
   "source": [
    "## Preparing the Data\n",
    "\n",
    "In this second code cell, we detail the pre-processing steps taken to prepare the dataset for model training. Based on insights gained from the initial data inspection, several decisions were made to ensure an effective analysis. The first step was to extract the relevant features and labels from the raw training dataset. We isolated the label column, `default payment next month`, for use in model training. The `ID` column was deemed unnecessary for predictive modeling, as it does not contribute in understanding the features that influence the outcome. As a consequence, it was dropped from the feature matrix to streamline the dataset. Next, we needed to address the varying scales of the features. The variance plot revealed that some features had significantly higher variances than others. This could skew the model's performance, as features with larger scales might dominate the learning process. To counter this, **StandardScaler** was used, which standardizes features by removing the mean and scaling to unit variance. This process ensures that each feature contributes equally to the analysis.\n",
    " \n",
    "The dataset was then split into training and validation sets using a stratified approach. This method preserves the original class distribution in both subsets, which is especially important due to the class imbalance identified earlier. The training set consists of **15,300 samples**, while the validation set includes **10,200 samples**. This balanced strategy minimizes the risk of overfitting and improves the reliability of model evaluation. After the data split, we applied **StandardScaler** to the training set, generating scaled feature values. The same scaler was applied to the validation set to ensure consistency in data transformation. This step is important for maintaining the same data distribution during both training and validation phases, thus enhancing the generalization of learned patterns.\n"
   ]
  },
  {
   "cell_type": "code",
   "execution_count": 25,
   "metadata": {
    "ExecuteTime": {
     "end_time": "2024-10-25T09:35:24.814935Z",
     "start_time": "2024-10-25T09:35:24.697571Z"
    },
    "id": "J84aUJVUJbsI"
   },
   "outputs": [
    {
     "name": "stdout",
     "output_type": "stream",
     "text": [
      "Shapes -> Train: (15300, 23), Val: (10200, 23), Encoded Train: (15300,), Encoded Val: (10200,)\n"
     ]
    }
   ],
   "source": [
    "import pandas as pd  \n",
    "from sklearn.model_selection import train_test_split  \n",
    "from sklearn.preprocessing import StandardScaler \n",
    "\n",
    "def preprocess_data(X, scaler=None):\n",
    "    \"\"\"\n",
    "    Preprocesses the input data by scaling the features using StandardScaler.\n",
    "    \n",
    "    Parameters:\n",
    "    X (pd.DataFrame or np.array): Feature data to be scaled.\n",
    "    scaler (StandardScaler, optional): Pre-fitted scaler object. If None, a new scaler will be fitted to the data.\n",
    "    \n",
    "    Returns:\n",
    "    tuple:\n",
    "        - Scaled feature matrix (np.array)\n",
    "        - Fitted scaler (StandardScaler object)\n",
    "    \n",
    "    The function either uses an existing scaler to transform the data or fits a new one if none is provided.\n",
    "    \"\"\"\n",
    "    # If no scaler is provided, fit a new StandardScaler to the data\n",
    "    if scaler is None:\n",
    "        scaler = StandardScaler().fit(X)\n",
    "    \n",
    "    # Transform the data using the fitted scaler\n",
    "    return scaler.transform(X), scaler\n",
    "\n",
    "# Load the training dataset\n",
    "df_train = pd.read_csv('./train.csv')\n",
    "\n",
    "# Extract the label column ('default payment next month') from the dataset\n",
    "labels_raw = df_train['default payment next month']\n",
    "\n",
    "# Specify columns to be dropped from the feature matrix (e.g., 'ID' and the label column)\n",
    "columns_to_drop = [\"ID\"]\n",
    "\n",
    "# Drop the specified columns and the label from the training dataset to create the feature matrix\n",
    "X_train_raw = df_train.drop(columns=columns_to_drop + ['default payment next month'])\n",
    "\n",
    "# Split the dataset into training and validation sets (60% train, 40% validation)\n",
    "# Stratify ensures that the class distribution is maintained in both train and validation sets\n",
    "X_train, X_val, y_train, y_val = train_test_split(X_train_raw, labels_raw, \n",
    "                                                  test_size=0.4, random_state=42, stratify=labels_raw)\n",
    "\n",
    "# Scale the training data using StandardScaler\n",
    "X_train_scaled, scaler = preprocess_data(X_train)\n",
    "\n",
    "# Use the same scaler to scale the validation data\n",
    "X_val_scaled, _ = preprocess_data(X_val, scaler)\n",
    "\n",
    "# Output the shapes of the scaled training and validation datasets as well as their corresponding label sets\n",
    "print(f\"Shapes -> Train: {X_train_scaled.shape}, Val: {X_val_scaled.shape}, \"\n",
    "      f\"Encoded Train: {y_train.shape}, Encoded Val: {y_val.shape}\")"
   ]
  },
  {
   "cell_type": "markdown",
   "metadata": {
    "id": "Eb9aljYxJbsK"
   },
   "source": [
    "## Building the Network\n",
    "\n",
    "In this third code cell, the procedure followed in choosing the network structure and hyperparameters will be described. Please note that to arrive at the following network, a lot of trial and error was necessary. While some high-level decisions, such as the choice of the sigmoid function for the output layer, are clear and almost mandatory, other choices—like the implementation of batch normalization and the selection of regularization parameters—were guided more by empirical observations than by any established principles.\n",
    "\n",
    "### Network Structure\n",
    "\n",
    "1. **Input Layer**: the model begins with an input layer that corresponds to the number of features in the dataset, totaling `23` after preprocessing.\n",
    "\n",
    "2. **Hidden Layers**:\n",
    "   - **Layer Configuration**: three hidden layers were used, with sizes decreasing from `256` to `128` and then to `64` neurons. This structure supports a hierarchical approach to feature extraction, enabling the model to learn progressively abstract representations of the data.\n",
    "   - **Activation Function**: all hidden layers employ the `ReLU` activation function. This choice facilitates faster convergence during training and mitigates the vanishing gradient problem often encountered with `sigmoid` or `tanh` functions.\n",
    "   - **Regularization**: each hidden layer includes L2 regularization (`kernel_regularizer=l2(0.01)`) to reduce overfitting by penalizing large weights.\n",
    "   - **Batch Normalization**: `Batch Normalization` was implemented after each layer to stabilize learning by normalizing the outputs of the previous layer. This adjustment enables higher learning rates and accelerates convergence.\n",
    "   - **Dropout Layers**: dropout layers were added, with rates of `0.3` for the first two layers and `0.2` for the last. This strategy prevents overfitting by randomly dropping a portion of neurons during training.\n",
    "\n",
    "3. **Output Layer**: the output layer consists of a single neuron with a `sigmoid` activation function, which aligns with the binary nature of the classification task. \n",
    "\n",
    "### Hyperparameters\n",
    "\n",
    "1. **Optimizer**: the `Adam` optimizer was selected, using a learning rate of `0.0005`. Adam is beneficial due to its adaptive learning rate properties, which promote faster convergence and training stability.\n",
    "\n",
    "2. **Loss Function**: the chosen loss function is `binary cross-entropy`, which is suitable for binary classification tasks. It assesses model performance by comparing predicted and actual labels.\n",
    "\n",
    "3. **Batch Size**: a batch size of `128` was used, providing stable gradient estimates and smoothing updates during training.\n",
    "\n",
    "4. **Epochs**: a maximum of `70` epochs was set, implementing early stopping to avert overfitting. Early stopping monitors validation loss and stops training if there’s no improvement for 15 consecutive epochs _(patience)_.\n",
    "\n",
    "5. **Learning Rate Adjustment**: the learning rate is adjusted dynamically using the `ReduceLROnPlateau` callback, which reduces the learning rate by a factor of `0.2` if the validation loss does not improve for `10` epochs. This helps fine-tune the learning process during training. The reason why this adjustment was added is because, empirically, it led to better results on the dataset at hand\n",
    "\n",
    "### Training and Evaluation\n",
    "\n",
    "- The model was trained with the shuffle option enabled, ensuring a randomized order of training samples for each epoch. This helps enhance generalization.\n",
    "- After training, the model was evaluated on the validation set, yielding a validation loss between **0.44** and **0.50**, an accuracy ranging from **0.81 to 0.83**, and an F1 score that falls between **0.45** and **0.50**. At the time of writing, the highest accuracy value recorded was **0.8316**. The model was saved locally for future reference. These variations arise from the random initialization of weights in neural networks, leading to differences in results across training sessions."
   ]
  },
  {
   "cell_type": "code",
   "execution_count": 36,
   "metadata": {
    "ExecuteTime": {
     "end_time": "2024-10-25T09:38:20.163125Z",
     "start_time": "2024-10-25T09:37:31.609469Z"
    },
    "id": "AS3zsRlBYHKW"
   },
   "outputs": [
    {
     "data": {
      "text/html": [
       "<pre style=\"white-space:pre;overflow-x:auto;line-height:normal;font-family:Menlo,'DejaVu Sans Mono',consolas,'Courier New',monospace\"><span style=\"font-weight: bold\">Model: \"sequential_11\"</span>\n",
       "</pre>\n"
      ],
      "text/plain": [
       "\u001b[1mModel: \"sequential_11\"\u001b[0m\n"
      ]
     },
     "metadata": {},
     "output_type": "display_data"
    },
    {
     "data": {
      "text/html": [
       "<pre style=\"white-space:pre;overflow-x:auto;line-height:normal;font-family:Menlo,'DejaVu Sans Mono',consolas,'Courier New',monospace\">┏━━━━━━━━━━━━━━━━━━━━━━━━━━━━━━━━━┳━━━━━━━━━━━━━━━━━━━━━━━━┳━━━━━━━━━━━━━━━┓\n",
       "┃<span style=\"font-weight: bold\"> Layer (type)                    </span>┃<span style=\"font-weight: bold\"> Output Shape           </span>┃<span style=\"font-weight: bold\">       Param # </span>┃\n",
       "┡━━━━━━━━━━━━━━━━━━━━━━━━━━━━━━━━━╇━━━━━━━━━━━━━━━━━━━━━━━━╇━━━━━━━━━━━━━━━┩\n",
       "│ dense_44 (<span style=\"color: #0087ff; text-decoration-color: #0087ff\">Dense</span>)                │ (<span style=\"color: #00d7ff; text-decoration-color: #00d7ff\">None</span>, <span style=\"color: #00af00; text-decoration-color: #00af00\">256</span>)            │         <span style=\"color: #00af00; text-decoration-color: #00af00\">6,144</span> │\n",
       "├─────────────────────────────────┼────────────────────────┼───────────────┤\n",
       "│ batch_normalization_33          │ (<span style=\"color: #00d7ff; text-decoration-color: #00d7ff\">None</span>, <span style=\"color: #00af00; text-decoration-color: #00af00\">256</span>)            │         <span style=\"color: #00af00; text-decoration-color: #00af00\">1,024</span> │\n",
       "│ (<span style=\"color: #0087ff; text-decoration-color: #0087ff\">BatchNormalization</span>)            │                        │               │\n",
       "├─────────────────────────────────┼────────────────────────┼───────────────┤\n",
       "│ dropout_33 (<span style=\"color: #0087ff; text-decoration-color: #0087ff\">Dropout</span>)            │ (<span style=\"color: #00d7ff; text-decoration-color: #00d7ff\">None</span>, <span style=\"color: #00af00; text-decoration-color: #00af00\">256</span>)            │             <span style=\"color: #00af00; text-decoration-color: #00af00\">0</span> │\n",
       "├─────────────────────────────────┼────────────────────────┼───────────────┤\n",
       "│ dense_45 (<span style=\"color: #0087ff; text-decoration-color: #0087ff\">Dense</span>)                │ (<span style=\"color: #00d7ff; text-decoration-color: #00d7ff\">None</span>, <span style=\"color: #00af00; text-decoration-color: #00af00\">128</span>)            │        <span style=\"color: #00af00; text-decoration-color: #00af00\">32,896</span> │\n",
       "├─────────────────────────────────┼────────────────────────┼───────────────┤\n",
       "│ batch_normalization_34          │ (<span style=\"color: #00d7ff; text-decoration-color: #00d7ff\">None</span>, <span style=\"color: #00af00; text-decoration-color: #00af00\">128</span>)            │           <span style=\"color: #00af00; text-decoration-color: #00af00\">512</span> │\n",
       "│ (<span style=\"color: #0087ff; text-decoration-color: #0087ff\">BatchNormalization</span>)            │                        │               │\n",
       "├─────────────────────────────────┼────────────────────────┼───────────────┤\n",
       "│ dropout_34 (<span style=\"color: #0087ff; text-decoration-color: #0087ff\">Dropout</span>)            │ (<span style=\"color: #00d7ff; text-decoration-color: #00d7ff\">None</span>, <span style=\"color: #00af00; text-decoration-color: #00af00\">128</span>)            │             <span style=\"color: #00af00; text-decoration-color: #00af00\">0</span> │\n",
       "├─────────────────────────────────┼────────────────────────┼───────────────┤\n",
       "│ dense_46 (<span style=\"color: #0087ff; text-decoration-color: #0087ff\">Dense</span>)                │ (<span style=\"color: #00d7ff; text-decoration-color: #00d7ff\">None</span>, <span style=\"color: #00af00; text-decoration-color: #00af00\">64</span>)             │         <span style=\"color: #00af00; text-decoration-color: #00af00\">8,256</span> │\n",
       "├─────────────────────────────────┼────────────────────────┼───────────────┤\n",
       "│ batch_normalization_35          │ (<span style=\"color: #00d7ff; text-decoration-color: #00d7ff\">None</span>, <span style=\"color: #00af00; text-decoration-color: #00af00\">64</span>)             │           <span style=\"color: #00af00; text-decoration-color: #00af00\">256</span> │\n",
       "│ (<span style=\"color: #0087ff; text-decoration-color: #0087ff\">BatchNormalization</span>)            │                        │               │\n",
       "├─────────────────────────────────┼────────────────────────┼───────────────┤\n",
       "│ dropout_35 (<span style=\"color: #0087ff; text-decoration-color: #0087ff\">Dropout</span>)            │ (<span style=\"color: #00d7ff; text-decoration-color: #00d7ff\">None</span>, <span style=\"color: #00af00; text-decoration-color: #00af00\">64</span>)             │             <span style=\"color: #00af00; text-decoration-color: #00af00\">0</span> │\n",
       "├─────────────────────────────────┼────────────────────────┼───────────────┤\n",
       "│ dense_47 (<span style=\"color: #0087ff; text-decoration-color: #0087ff\">Dense</span>)                │ (<span style=\"color: #00d7ff; text-decoration-color: #00d7ff\">None</span>, <span style=\"color: #00af00; text-decoration-color: #00af00\">1</span>)              │            <span style=\"color: #00af00; text-decoration-color: #00af00\">65</span> │\n",
       "└─────────────────────────────────┴────────────────────────┴───────────────┘\n",
       "</pre>\n"
      ],
      "text/plain": [
       "┏━━━━━━━━━━━━━━━━━━━━━━━━━━━━━━━━━┳━━━━━━━━━━━━━━━━━━━━━━━━┳━━━━━━━━━━━━━━━┓\n",
       "┃\u001b[1m \u001b[0m\u001b[1mLayer (type)                   \u001b[0m\u001b[1m \u001b[0m┃\u001b[1m \u001b[0m\u001b[1mOutput Shape          \u001b[0m\u001b[1m \u001b[0m┃\u001b[1m \u001b[0m\u001b[1m      Param #\u001b[0m\u001b[1m \u001b[0m┃\n",
       "┡━━━━━━━━━━━━━━━━━━━━━━━━━━━━━━━━━╇━━━━━━━━━━━━━━━━━━━━━━━━╇━━━━━━━━━━━━━━━┩\n",
       "│ dense_44 (\u001b[38;5;33mDense\u001b[0m)                │ (\u001b[38;5;45mNone\u001b[0m, \u001b[38;5;34m256\u001b[0m)            │         \u001b[38;5;34m6,144\u001b[0m │\n",
       "├─────────────────────────────────┼────────────────────────┼───────────────┤\n",
       "│ batch_normalization_33          │ (\u001b[38;5;45mNone\u001b[0m, \u001b[38;5;34m256\u001b[0m)            │         \u001b[38;5;34m1,024\u001b[0m │\n",
       "│ (\u001b[38;5;33mBatchNormalization\u001b[0m)            │                        │               │\n",
       "├─────────────────────────────────┼────────────────────────┼───────────────┤\n",
       "│ dropout_33 (\u001b[38;5;33mDropout\u001b[0m)            │ (\u001b[38;5;45mNone\u001b[0m, \u001b[38;5;34m256\u001b[0m)            │             \u001b[38;5;34m0\u001b[0m │\n",
       "├─────────────────────────────────┼────────────────────────┼───────────────┤\n",
       "│ dense_45 (\u001b[38;5;33mDense\u001b[0m)                │ (\u001b[38;5;45mNone\u001b[0m, \u001b[38;5;34m128\u001b[0m)            │        \u001b[38;5;34m32,896\u001b[0m │\n",
       "├─────────────────────────────────┼────────────────────────┼───────────────┤\n",
       "│ batch_normalization_34          │ (\u001b[38;5;45mNone\u001b[0m, \u001b[38;5;34m128\u001b[0m)            │           \u001b[38;5;34m512\u001b[0m │\n",
       "│ (\u001b[38;5;33mBatchNormalization\u001b[0m)            │                        │               │\n",
       "├─────────────────────────────────┼────────────────────────┼───────────────┤\n",
       "│ dropout_34 (\u001b[38;5;33mDropout\u001b[0m)            │ (\u001b[38;5;45mNone\u001b[0m, \u001b[38;5;34m128\u001b[0m)            │             \u001b[38;5;34m0\u001b[0m │\n",
       "├─────────────────────────────────┼────────────────────────┼───────────────┤\n",
       "│ dense_46 (\u001b[38;5;33mDense\u001b[0m)                │ (\u001b[38;5;45mNone\u001b[0m, \u001b[38;5;34m64\u001b[0m)             │         \u001b[38;5;34m8,256\u001b[0m │\n",
       "├─────────────────────────────────┼────────────────────────┼───────────────┤\n",
       "│ batch_normalization_35          │ (\u001b[38;5;45mNone\u001b[0m, \u001b[38;5;34m64\u001b[0m)             │           \u001b[38;5;34m256\u001b[0m │\n",
       "│ (\u001b[38;5;33mBatchNormalization\u001b[0m)            │                        │               │\n",
       "├─────────────────────────────────┼────────────────────────┼───────────────┤\n",
       "│ dropout_35 (\u001b[38;5;33mDropout\u001b[0m)            │ (\u001b[38;5;45mNone\u001b[0m, \u001b[38;5;34m64\u001b[0m)             │             \u001b[38;5;34m0\u001b[0m │\n",
       "├─────────────────────────────────┼────────────────────────┼───────────────┤\n",
       "│ dense_47 (\u001b[38;5;33mDense\u001b[0m)                │ (\u001b[38;5;45mNone\u001b[0m, \u001b[38;5;34m1\u001b[0m)              │            \u001b[38;5;34m65\u001b[0m │\n",
       "└─────────────────────────────────┴────────────────────────┴───────────────┘\n"
      ]
     },
     "metadata": {},
     "output_type": "display_data"
    },
    {
     "data": {
      "text/html": [
       "<pre style=\"white-space:pre;overflow-x:auto;line-height:normal;font-family:Menlo,'DejaVu Sans Mono',consolas,'Courier New',monospace\"><span style=\"font-weight: bold\"> Total params: </span><span style=\"color: #00af00; text-decoration-color: #00af00\">49,153</span> (192.00 KB)\n",
       "</pre>\n"
      ],
      "text/plain": [
       "\u001b[1m Total params: \u001b[0m\u001b[38;5;34m49,153\u001b[0m (192.00 KB)\n"
      ]
     },
     "metadata": {},
     "output_type": "display_data"
    },
    {
     "data": {
      "text/html": [
       "<pre style=\"white-space:pre;overflow-x:auto;line-height:normal;font-family:Menlo,'DejaVu Sans Mono',consolas,'Courier New',monospace\"><span style=\"font-weight: bold\"> Trainable params: </span><span style=\"color: #00af00; text-decoration-color: #00af00\">48,257</span> (188.50 KB)\n",
       "</pre>\n"
      ],
      "text/plain": [
       "\u001b[1m Trainable params: \u001b[0m\u001b[38;5;34m48,257\u001b[0m (188.50 KB)\n"
      ]
     },
     "metadata": {},
     "output_type": "display_data"
    },
    {
     "data": {
      "text/html": [
       "<pre style=\"white-space:pre;overflow-x:auto;line-height:normal;font-family:Menlo,'DejaVu Sans Mono',consolas,'Courier New',monospace\"><span style=\"font-weight: bold\"> Non-trainable params: </span><span style=\"color: #00af00; text-decoration-color: #00af00\">896</span> (3.50 KB)\n",
       "</pre>\n"
      ],
      "text/plain": [
       "\u001b[1m Non-trainable params: \u001b[0m\u001b[38;5;34m896\u001b[0m (3.50 KB)\n"
      ]
     },
     "metadata": {},
     "output_type": "display_data"
    },
    {
     "name": "stdout",
     "output_type": "stream",
     "text": [
      "Input Shape:  23\n",
      "Output Shape:  1\n",
      "Epoch 70/70 - accuracy: 0.8221 - loss: 0.4285 - val_accuracy: 0.8174 - val_loss: 0.4473 - learning_rate: 0.0001\n",
      "\n",
      "RESULTS:\n",
      "Validation Loss:     0.4459\n",
      "Validation Accuracy: 0.8187\n",
      "F1 Score:            0.4749\n"
     ]
    }
   ],
   "source": [
    "# Import necessary libraries for building the model and evaluation\n",
    "from keras.optimizers import Adam  # Adam optimizer for gradient descent\n",
    "from keras.layers import Dense, BatchNormalization, Dropout  # Layers for the neural network\n",
    "from keras.models import Sequential  # Sequential model type\n",
    "from tensorflow.keras.callbacks import EarlyStopping, ReduceLROnPlateau, Callback  # Callbacks for training\n",
    "from sklearn.metrics import f1_score  # F1 score for performance evaluation\n",
    "from keras.layers import Input  # Input layer for defining the model input shape\n",
    "from keras.regularizers import l2  # L2 regularization to prevent overfitting\n",
    "\n",
    "def build_model(input_shape):\n",
    "    \"\"\"\n",
    "    Builds a sequential neural network model with the specified input shape.\n",
    "\n",
    "    Parameters:\n",
    "    input_shape (int): The number of features in the input data.\n",
    "\n",
    "    Returns:\n",
    "    keras.models.Sequential: Compiled Keras model ready for training.\n",
    "    \"\"\"\n",
    "    model = Sequential()  # Initialize the sequential model\n",
    "    \n",
    "    # Input layer definition\n",
    "    model.add(Input(shape=(input_shape,)))\n",
    "    \n",
    "    # First hidden layer with 256 neurons, ReLU activation, and L2 regularization\n",
    "    model.add(Dense(256, activation='relu', kernel_regularizer=l2(0.01)))\n",
    "    model.add(BatchNormalization(momentum=0.9))  # Normalize outputs to stabilize learning\n",
    "    model.add(Dropout(0.3))  # Dropout layer to reduce overfitting\n",
    "    \n",
    "    # Second hidden layer with 128 neurons, ReLU activation, and L2 regularization\n",
    "    model.add(Dense(128, activation='relu', kernel_regularizer=l2(0.01)))\n",
    "    model.add(BatchNormalization(momentum=0.9))  # Normalize outputs\n",
    "    model.add(Dropout(0.3))  # Dropout layer\n",
    "    \n",
    "    # Third hidden layer with 64 neurons, ReLU activation, and L2 regularization\n",
    "    model.add(Dense(64, activation='relu', kernel_regularizer=l2(0.01)))\n",
    "    model.add(BatchNormalization(momentum=0.9))  # Normalize outputs\n",
    "    model.add(Dropout(0.2))  # Lower dropout rate in the final layers to retain more information\n",
    "    \n",
    "    # Output layer for binary classification\n",
    "    model.add(Dense(1, activation='sigmoid'))  # Sigmoid activation for binary output\n",
    "    \n",
    "    # Configure the Adam optimizer\n",
    "    optimizer = Adam(learning_rate=0.0005, beta_1=0.9, beta_2=0.999)\n",
    "    \n",
    "    # Compile the model with the specified loss function and metrics\n",
    "    model.compile(optimizer=optimizer,\n",
    "                  loss='binary_crossentropy',\n",
    "                  metrics=['accuracy'])\n",
    "    return model\n",
    "\n",
    "# Determine input shape based on the training data\n",
    "input_shape = X_train_scaled.shape[1]\n",
    "model = build_model(input_shape)  # Build the model\n",
    "\n",
    "# Set training parameters\n",
    "batch_size = 128  # Number of samples per gradient update\n",
    "epochs = 70       # Total number of epochs to train the model\n",
    "\n",
    "# Display the model summary to understand the architecture\n",
    "model.summary()\n",
    "\n",
    "# Early stopping callback to prevent overfitting\n",
    "early_stopping = EarlyStopping(\n",
    "    monitor='val_loss',  # Monitor validation loss\n",
    "    patience=15,  # Number of epochs to wait for improvement\n",
    "    restore_best_weights=True,  # Restore model weights from the best epoch\n",
    "    min_delta=0.001  # Minimum change to qualify as an improvement\n",
    ")\n",
    "\n",
    "# Reduce learning rate when validation loss plateaus\n",
    "reduce_lr = ReduceLROnPlateau(\n",
    "    monitor='val_loss',  # Monitor validation loss\n",
    "    factor=0.2,  # Factor by which the learning rate will be reduced\n",
    "    patience=10,  # Number of epochs to wait before reducing the learning rate\n",
    "    min_lr=1e-6,  # Minimum learning rate\n",
    "    min_delta=0.001  # Minimum change to qualify as an improvement\n",
    ")\n",
    "\n",
    "# Output the input shape for clarity\n",
    "dims = X_train_scaled.shape[1]\n",
    "print('Input Shape: ', dims)\n",
    "\n",
    "# Determine the number of output classes\n",
    "nb_classes = y_train.shape[1] if len(y_train.shape) > 1 else 1\n",
    "print('Output Shape: ', nb_classes)\n",
    "\n",
    "# Improved progress bar with rolling averages\n",
    "class ProgressBar(Callback):\n",
    "    def __init__(self, rolling_window=5):\n",
    "        super(ProgressBar, self).__init__()\n",
    "        self.rolling_window = rolling_window\n",
    "        self.metrics_history = {}\n",
    "    \n",
    "    def on_epoch_begin(self, epoch, logs=None):\n",
    "        self.epoch = epoch\n",
    "    \n",
    "    def _get_rolling_average(self, metric_name, current_value):\n",
    "        if metric_name not in self.metrics_history:\n",
    "            self.metrics_history[metric_name] = []\n",
    "        \n",
    "        history = self.metrics_history[metric_name]\n",
    "        history.append(current_value)\n",
    "        \n",
    "        if len(history) > self.rolling_window:\n",
    "            history.pop(0)\n",
    "        \n",
    "        return sum(history) / len(history)\n",
    "    \n",
    "    def on_epoch_end(self, epoch, logs=None):\n",
    "        metrics = []\n",
    "        for metric_name, value in logs.items():\n",
    "            avg_value = self._get_rolling_average(metric_name, value)\n",
    "            metrics.append(f\"{metric_name}: {avg_value:.4f}\")\n",
    "        \n",
    "        print(f\"\\rEpoch {self.epoch + 1}/{self.params['epochs']} - \" + \n",
    "              \" - \".join(metrics), end='')\n",
    "        \n",
    "# Train the model with specified parameters and callbacks\n",
    "history = model.fit(\n",
    "    X_train_scaled, y_train,  # Training data and labels\n",
    "    validation_data=(X_val_scaled, y_val),  # Validation data and labels\n",
    "    epochs=epochs,  # Number of epochs to train\n",
    "    batch_size=batch_size,  # Batch size\n",
    "    callbacks=[early_stopping, reduce_lr, ProgressBar(rolling_window=5)],  # Callbacks for training\n",
    "    verbose=0,  # Verbosity mode (0 = silent)\n",
    "    shuffle=True,  # Shuffle the training data\n",
    ")\n",
    "\n",
    "# Evaluate the model on the validation set\n",
    "val_loss, val_accuracy = model.evaluate(X_val_scaled, y_val, verbose=0)\n",
    "\n",
    "# Display the evaluation results\n",
    "print(\"\\n\\nRESULTS:\")\n",
    "print(f\"{'Validation Loss:':<20} {val_loss:.4f}\")\n",
    "print(f\"{'Validation Accuracy:':<20} {val_accuracy:.4f}\")\n",
    "\n",
    "# Make predictions on the validation set\n",
    "y_pred_prob = model.predict(X_val_scaled, verbose=0)\n",
    "y_pred = (y_pred_prob > 0.5).astype(int)  # Convert probabilities to binary predictions\n",
    "\n",
    "# Calculate the F1 score for model evaluation\n",
    "f1 = f1_score(y_val, y_pred)\n",
    "print(f\"{'F1 Score:':<20} {f1:.4f}\")"
   ]
  },
  {
   "cell_type": "markdown",
   "metadata": {
    "id": "8w7UIdtIWuCD"
   },
   "source": [
    "## Analyze and Comment the Training Results\n",
    "\n",
    "The following analysis reviews the training results over 70 epochs, highlighting key aspects of the model's performance and learning process. The loss curves exhibit a steep decline for both training and validation sets, with the most notable improvements occurring within the first **10 epochs**. After about **20 epochs**, the loss values stabilize around **0.5**, suggesting that the model has reached a solid optimization point. The training and validation loss curves align closely, indicating that the model is well-balanced and not suffering from underfitting or overfitting.\n",
    "\n",
    "In terms of accuracy, both training and validation metrics show a rapid increase, reaching approximately **80%** early in the process. Ultimately, the model achieves around **80-83%** accuracy (depending on the initial randomized weights of the model) on both sets. The close alignment of the accuracy curves suggests that the model generalizes well, performing reliably on unseen data. A positive observation is the smoothness of the loss and accuracy curves after the initial training phase, with no significant fluctuations. This consistent convergence pattern, along with the minimal gap between training and validation metrics, indicates that the selected hyperparameters and model architecture are appropriate for this task.\n",
    "\n",
    "To further enhance the analysis, a confusion matrix is also considered. The confusion matrix offers valuable insights into our model's classification performance for each of the two classes. \n",
    "\n",
    "- For **Class 0**, the model accurately identified about **7500** instances, but it misclassified about **400** cases as **Class 1**, leading to a true negative rate of about **95%**.\n",
    "- For **Class 1**, it correctly classified about **850** instances while incorrectly identifying about **1400** cases as **Class 0**, resulting in a true positive rate of approximately **40%**.\n",
    "\n",
    "This uneven performance highlights an interesting trend: the model performs better at identifying **Class 0** instances but has difficulty with **Class 1** predictions. This discrepancy could stem from several factors, such as a class imbalance in the training data, with **Class 0** being the majority class, or the more nuanced features associated with **Class 1** instances.\n",
    "\n",
    "_Note: All numerical values mentioned are approximated from the visualization. The exact values can be found in the printed metrics below the plots._"
   ]
  },
  {
   "cell_type": "code",
   "execution_count": 56,
   "metadata": {
    "ExecuteTime": {
     "end_time": "2024-10-25T10:27:22.078766Z",
     "start_time": "2024-10-25T10:27:20.901332Z"
    }
   },
   "outputs": [
    {
     "data": {
      "image/png": "[encoded data removed]",
      "text/plain": [
       "<Figure size 1200x500 with 2 Axes>"
      ]
     },
     "metadata": {},
     "output_type": "display_data"
    },
    {
     "name": "stdout",
     "output_type": "stream",
     "text": [
      "Final Training Loss: 0.4262\n",
      "Final Validation Loss: 0.4474\n",
      "Final Training Accuracy: 0.8237\n",
      "Final Validation Accuracy: 0.8166\n"
     ]
    },
    {
     "data": {
      "image/png": "[encoded data removed]",
      "text/plain": [
       "<Figure size 800x600 with 1 Axes>"
      ]
     },
     "metadata": {},
     "output_type": "display_data"
    }
   ],
   "source": [
    "# Import necessary libraries for plotting and evaluation\n",
    "import matplotlib.pyplot as plt  # Matplotlib for plotting\n",
    "import seaborn as sns  # Seaborn for enhanced visualization\n",
    "from sklearn.metrics import confusion_matrix  # Function to compute confusion matrix\n",
    "import numpy as np  # NumPy for numerical operations\n",
    "\n",
    "def plot_training_history(history):\n",
    "    \"\"\"\n",
    "    Plots the training and validation loss and accuracy over epochs.\n",
    "\n",
    "    Parameters:\n",
    "    history (keras.callbacks.History): The history object returned from model.fit(),\n",
    "                                        containing loss and accuracy metrics.\n",
    "    \"\"\"\n",
    "    plt.figure(figsize=(12, 5))  # Set the figure size for the plots\n",
    "\n",
    "    # Plot training and validation loss\n",
    "    plt.subplot(1, 2, 1)  # Create a subplot for loss\n",
    "    plt.plot(history.history['loss'], label='Training Loss')  # Plot training loss\n",
    "    plt.plot(history.history['val_loss'], label='Validation Loss')  # Plot validation loss\n",
    "    plt.title('Training and Validation Loss')  # Set title for the loss plot\n",
    "    plt.xlabel('Epochs')  # Set x-axis label\n",
    "    plt.ylabel('Loss')  # Set y-axis label\n",
    "    plt.legend()  # Display legend\n",
    "    plt.grid()  # Show grid for better readability\n",
    "\n",
    "    # Plot training and validation accuracy\n",
    "    plt.subplot(1, 2, 2)  # Create a subplot for accuracy\n",
    "    plt.plot(history.history['accuracy'], label='Training Accuracy')  # Plot training accuracy\n",
    "    plt.plot(history.history['val_accuracy'], label='Validation Accuracy')  # Plot validation accuracy\n",
    "    plt.title('Training and Validation Accuracy')  # Set title for the accuracy plot\n",
    "    plt.xlabel('Epochs')  # Set x-axis label\n",
    "    plt.ylabel('Accuracy')  # Set y-axis label\n",
    "    plt.legend()  # Display legend\n",
    "    plt.grid()  # Show grid for better readability\n",
    "\n",
    "    plt.tight_layout()  # Adjust subplot parameters for a cleaner layout\n",
    "    plt.show()  # Display the plots\n",
    "\n",
    "# Call the function to plot the training history\n",
    "plot_training_history(history)\n",
    "\n",
    "# Extract and print final metrics from the training history\n",
    "final_train_loss = history.history['loss'][-1]  # Final training loss\n",
    "final_val_loss = history.history['val_loss'][-1]  # Final validation loss\n",
    "final_train_accuracy = history.history['accuracy'][-1]  # Final training accuracy\n",
    "final_val_accuracy = history.history['val_accuracy'][-1]  # Final validation accuracy\n",
    "\n",
    "# Print the final metrics\n",
    "print(f\"Final Training Loss: {final_train_loss:.4f}\")\n",
    "print(f\"Final Validation Loss: {final_val_loss:.4f}\")\n",
    "print(f\"Final Training Accuracy: {final_train_accuracy:.4f}\")\n",
    "print(f\"Final Validation Accuracy: {final_val_accuracy:.4f}\")\n",
    "\n",
    "# Generate predictions on the validation set\n",
    "y_pred_prob = model.predict(X_val_scaled, verbose=0)  # Predict probabilities\n",
    "y_pred = (y_pred_prob > 0.5).astype(int)  # Convert probabilities to binary predictions\n",
    "\n",
    "# Compute confusion matrix for predicted vs. true labels\n",
    "cm = confusion_matrix(y_val, y_pred)  # Generate confusion matrix\n",
    "\n",
    "# Plot the confusion matrix using Seaborn's heatmap\n",
    "plt.figure(figsize=(8, 6))  # Set the figure size for the confusion matrix plot\n",
    "sns.heatmap(cm, annot=True, fmt='d', cmap='Blues', cbar=False,\n",
    "            xticklabels=[\"Class 0\", \"Class 1\"], yticklabels=[\"Class 0\", \"Class 1\"])  # Customize labels\n",
    "plt.title('Confusion Matrix')  # Set title for the confusion matrix plot\n",
    "plt.xlabel('Predicted Label')  # Set x-axis label\n",
    "plt.ylabel('True Label')  # Set y-axis label\n",
    "plt.show()  # Display the confusion matrix plot"
   ]
  },
  {
   "cell_type": "markdown",
   "metadata": {
    "id": "2jiOZzvyJbsN"
   },
   "source": [
    "## Validate the Model and Comment the Results\n",
    "\n",
    "1. **Predictions**: probability predictions were generated for the validation set using the trained model. Probabilities were thresholded at `0.5`, classifying outcomes into “Default” (1) or “No Default” (0).\n",
    "\n",
    "2. **Performance Metrics**: several key metrics were used to evaluate the model:\n",
    "   - **Precision**: the proportion of correctly predicted defaults among all predicted defaults. High precision indicates fewer false positives.\n",
    "   - **Recall**: the model's ability to identify actual defaults. High recall means fewer false negatives.\n",
    "   - **F1-Score**: the harmonic mean of precision and recall, useful for balancing these metrics in imbalanced datasets.\n",
    "   - **ROC AUC Score**: this measures the model’s ability to discriminate between classes across all thresholds. A higher AUC signifies better performance.\n",
    "\n",
    "#### Results Interpretation\n",
    "\n",
    "The classification report results shown below refer to the most accurate model that was built using the neural network. In other words, they refer to the model with `0.8316%` accuracy. Due to the non-determinism of the training process, every time the network is retrained, the values ​​will change. You can find the table with the updated results under the code cell\n",
    "\n",
    "```\n",
    "              precision    recall  f1-score   support\n",
    "\n",
    "  No Default       0.84      0.94      0.89      7926\n",
    "     Default       0.66      0.38      0.48      2274\n",
    "\n",
    "    accuracy                           0.82     10200\n",
    "   macro avg       0.75      0.66      0.69     10200\n",
    "weighted avg       0.80      0.82      0.80     10200\n",
    "```\n",
    "\n",
    "- **Precision for \"No Default\"**: `0.84`, meaning 84% of predictions for non-defaulting _(customers who pay on time)_ clients were correct.\n",
    "- **Recall for \"No Default\"**: `0.94`, indicating the model correctly identifies 94% of actual non-defaulters .\n",
    "- **Precision for \"Default\"**: `0.66`, suggesting correct predictions for defaulters _(customers who do not pay)_ 66% of the time.\n",
    "- **Recall for \"Default\"**: `0.38`, revealing that only 38% of actual defaulters were identified, leading to many false negatives.\n",
    "- **F1-Score for \"Default\"**: `0.48`, reflecting an imbalance in precision and recall for defaulters.\n",
    "- **Accuracy**: overall accuracy is `82%`, indicating reasonable performance but potentially masking issues with class balance.\n",
    "- **ROC AUC Score**: at `0.7775`, this indicates a good ability to differentiate between classes.\n",
    "\n",
    "#### Generalization Capability\n",
    "\n",
    "The evaluation results suggest the model is experiencing a slight **underfitting** for the default class. While it performs well in predicting non-defaulting clients, it inadequately captures defaulters, as evidenced by the low recall metric. In other words, despite overall accuracy, the model’s struggle to identify defaulting clients. This leaves room for improvement. Potential strategies may include data augmentation, by enhancing the representation of the defaulting class in the training data. During the training process, I also tried to adjust the loss function with class weights that took into account the imbalance of the dataset, but this approach did not give the expected results. Therefore, I believe that the best way to solve the problem is to expose the training algorithm to more data. With only about **22%** of clients defaulting, the dataset’s imbalance therefore limits the model's ability to learn the default class's characteristics. Therefore, metrics like F1-Score and ROC AUC are very important to consider, as accuracy alone may be misleading."
   ]
  },
  {
   "cell_type": "code",
   "execution_count": 57,
   "metadata": {
    "ExecuteTime": {
     "end_time": "2024-10-25T10:27:49.597064Z",
     "start_time": "2024-10-25T10:27:49.006597Z"
    },
    "id": "sgGlAIaEJbsO"
   },
   "outputs": [
    {
     "name": "stdout",
     "output_type": "stream",
     "text": [
      "\u001b[1m319/319\u001b[0m \u001b[32m━━━━━━━━━━━━━━━━━━━━\u001b[0m\u001b[37m\u001b[0m \u001b[1m0s\u001b[0m 1ms/step\n",
      "Classification Report:\n",
      "              precision    recall  f1-score   support\n",
      "\n",
      "  No Default       0.84      0.94      0.89      7926\n",
      "     Default       0.66      0.38      0.48      2274\n",
      "\n",
      "    accuracy                           0.82     10200\n",
      "   macro avg       0.75      0.66      0.69     10200\n",
      "weighted avg       0.80      0.82      0.80     10200\n",
      "\n",
      "ROC AUC Score: 0.7775\n"
     ]
    }
   ],
   "source": [
    "from sklearn.metrics import confusion_matrix, classification_report, roc_auc_score\n",
    "\n",
    "# Predict the probabilities for the validation set\n",
    "y_val_pred_prob = model.predict(X_val_scaled)\n",
    "\n",
    "# Convert predicted probabilities to binary predictions using a threshold of 0.5\n",
    "y_val_pred = (y_val_pred_prob > 0.5).astype(int)\n",
    "\n",
    "# Create a detailed classification report including precision, recall, and F1-score\n",
    "class_report = classification_report(y_val, y_val_pred, target_names=[\"No Default\", \"Default\"])\n",
    "print(\"Classification Report:\")\n",
    "print(class_report)\n",
    "\n",
    "# Calculate the ROC AUC score using the predicted probabilities\n",
    "roc_auc = roc_auc_score(y_val, y_val_pred_prob)\n",
    "print(f\"ROC AUC Score: {roc_auc:.4f}\")"
   ]
  },
  {
   "cell_type": "markdown",
   "metadata": {
    "id": "5MhCwXroWmf9"
   },
   "source": [
    "## Make Predictions _(on the provided test set)_\n",
    "\n",
    "Based on the training and validation results, it is possible to outline our expectations for the model's performance on the blind external test set.\n",
    "\n",
    "#### Anticipated Performance\n",
    "\n",
    "1. **Generalization Capability**: with a validation accuracy of around 80-83% and a ROC AUC score of 0.7775, the model is expected to perform well on the test set. These metrics suggest the model has identified significant patterns, although some underfitting, particularly in default class predictions, may impact test performance. In other words, an accuracy between 80%-83% on the test set in expected. \n",
    "\n",
    "2. **Class Imbalance Impact**: if the class distribution of the external test set mirrors that of the validation set, it could limit the model's ability to accurately predict defaults. Given the validation set's imbalance _(approximately 22% defaulting clients)_, similar results in precision and recall for the default class may occur.\n",
    "\n",
    "3. **Potential Overfitting Risk**: despite implementing strategies like dropout and early stopping to reduce overfitting, there remains a risk that the model may struggle with unseen data. If the test set exhibits different characteristics or distributions, performance metrics—especially recall for the default class—could decline. I also expect a rather low F1-Score, around 40-50%, as the analysis conducted does not indicate either perfect precision or perfect recall.\n",
    "\n",
    "4. While the model is likely to perform reasonably well on the blind external test set based on validation results, caution is needed regarding its generalization, particularly for the default class. If the test data aligns with the training distribution, results may reflect validation performance. However, any variations could lead to different outcomes, particularly in identifying defaulting customers. "
   ]
  },
  {
   "cell_type": "code",
   "execution_count": 64,
   "metadata": {
    "ExecuteTime": {
     "end_time": "2024-10-25T11:00:07.199020Z",
     "start_time": "2024-10-25T11:00:06.906783Z"
    }
   },
   "outputs": [
    {
     "name": "stdout",
     "output_type": "stream",
     "text": [
      "\u001b[1m141/141\u001b[0m \u001b[32m━━━━━━━━━━━━━━━━━━━━\u001b[0m\u001b[37m\u001b[0m \u001b[1m0s\u001b[0m 1ms/step\n"
     ]
    }
   ],
   "source": [
    "import pandas as pd  \n",
    "\n",
    "# Load the test dataset from a CSV file\n",
    "test_df = pd.read_csv('test.csv')\n",
    "\n",
    "# Drop the 'ID' column if it exists, as it is not needed for predictions\n",
    "if 'ID' in test_df.columns:\n",
    "    test_df = test_df.drop(columns=['ID'])\n",
    "\n",
    "# Copy the test dataset to preserve the original data structure\n",
    "X_test = test_df.copy()\n",
    "\n",
    "# Ensure that the number of features in the test set matches the expected number of features\n",
    "if X_test.shape[1] == scaler.n_features_in_:\n",
    "    # Standardize the test set using the same scaler fitted on the training data\n",
    "    X_test_scaled = scaler.transform(X_test)\n",
    "else:\n",
    "    # Raise an error if the number of columns does not match the training data\n",
    "    raise ValueError(\"Unable to standardize data: The number of columns does not match.\")\n",
    "\n",
    "# Predict the probabilities for the test set using the trained model\n",
    "test_predictions_prob = model.predict(X_test_scaled)\n",
    "\n",
    "# Convert predicted probabilities to binary class predictions using a threshold of 0.5\n",
    "test_predictions = (test_predictions_prob > 0.5).astype(int)"
   ]
  },
  {
   "cell_type": "markdown",
   "metadata": {},
   "source": [
    "# OPTIONAL -- Export the predictions in the format indicated in the assignment release page and verify you prediction on the [assessment page](https://aml-assignmentone-2425.streamlit.app/)."
   ]
  },
  {
   "cell_type": "code",
   "execution_count": 65,
   "metadata": {
    "ExecuteTime": {
     "end_time": "2024-10-25T11:00:12.812280Z",
     "start_time": "2024-10-25T11:00:12.801698Z"
    }
   },
   "outputs": [],
   "source": [
    "# Save the predictions to a CSV file without including the header or index\n",
    "pd.DataFrame(test_predictions, columns=['Predicted']).to_csv('test_predictions.csv', index=False, header=False)"
   ]
  },
  {
   "cell_type": "code",
   "execution_count": 60,
   "metadata": {
    "ExecuteTime": {
     "end_time": "2024-10-25T10:57:20.655369Z",
     "start_time": "2024-10-25T10:57:20.639068Z"
    }
   },
   "outputs": [
    {
     "name": "stdout",
     "output_type": "stream",
     "text": [
      "Accuracy: 0.8269\n",
      "F1 Score: 0.4831\n"
     ]
    }
   ],
   "source": [
    "from sklearn.metrics import accuracy_score, f1_score\n",
    "\n",
    "true_labels_df = pd.read_csv('test_with_labels_real.csv', header=None)  \n",
    "true_labels = true_labels_df[0].values \n",
    "\n",
    "predictions_df = pd.read_csv('test_predictions.csv', header=None)\n",
    "predictions = predictions_df[0].values \n",
    "\n",
    "accuracy = accuracy_score(true_labels, predictions)\n",
    "f1 = f1_score(true_labels, predictions)\n",
    "\n",
    "print(f'Accuracy: {accuracy:.4f}')\n",
    "print(f'F1 Score: {f1:.4f}')"
   ]
  }
 ],
 "metadata": {
  "colab": {
   "provenance": []
  },
  "kernelspec": {
   "display_name": "Python 3 (ipykernel)",
   "language": "python",
   "name": "python3"
  },
  "language_info": {
   "codemirror_mode": {
    "name": "ipython",
    "version": 3
   },
   "file_extension": ".py",
   "mimetype": "text/x-python",
   "name": "python",
   "nbconvert_exporter": "python",
   "pygments_lexer": "ipython3",
   "version": "3.11.5"
  }
 },
 "nbformat": 4,
 "nbformat_minor": 1
}
