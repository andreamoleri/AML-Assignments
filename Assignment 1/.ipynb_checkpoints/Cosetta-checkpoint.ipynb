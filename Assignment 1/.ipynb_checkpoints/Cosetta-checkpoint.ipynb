{
 "cells": [
  {
   "cell_type": "code",
   "id": "initial_id",
   "metadata": {
    "collapsed": true,
    "ExecuteTime": {
     "end_time": "2024-10-26T09:29:25.067619Z",
     "start_time": "2024-10-26T09:29:25.061159Z"
    }
   },
   "source": [
    "import random\n",
    "\n",
    "# Definizione degli array per ogni categoria alimentare\n",
    "proteine = [\"Pollo\", \"Manzo\", \"Uova\", \"Tofu\", \"Salmone\", \"Tacchino\", \"Tonno\", \"Legumi\", \"Formaggio\", \"Yogurt\"]\n",
    "carboidrati = [\"Riso\", \"Pasta\", \"Pane\", \"Patate\", \"Quinoa\", \"Avena\", \"Farro\", \"Orzo\", \"Mais\", \"Bulgur\"]\n",
    "grassi = [\"Olio d'oliva\", \"Burro\", \"Avocado\", \"Noci\", \"Mandorle\", \"Semi di chia\", \"Semi di lino\", \"Olio di cocco\", \"Pistacchi\", \"Semi di girasole\"]\n",
    "fibre = [\"Verdure miste\", \"Lenticchie\", \"Ceci\", \"Fagioli\", \"Broccoli\", \"Spinaci\", \"Carote\", \"Cavolfiore\", \"Frutta\", \"Piselli\"]\n",
    "\n",
    "# Funzione per selezionare casualmente un elemento da ciascun array\n",
    "def genera_dieta_oggi():\n",
    "    scelta_proteine = random.choice(proteine)\n",
    "    scelta_carboidrati = random.choice(carboidrati)\n",
    "    scelta_grassi = random.choice(grassi)\n",
    "    scelta_fibre = random.choice(fibre)\n",
    "    \n",
    "    # Stampa la dieta giornaliera\n",
    "    print(\"Dieta di Oggi:\")\n",
    "    print(f\"- Proteine: {scelta_proteine}\")\n",
    "    print(f\"- Carboidrati: {scelta_carboidrati}\")\n",
    "    print(f\"- Grassi: {scelta_grassi}\")\n",
    "    print(f\"- Fibre: {scelta_fibre}\")\n",
    "\n",
    "# Genera e stampa la dieta\n",
    "genera_dieta_oggi()"
   ],
   "outputs": [
    {
     "name": "stdout",
     "output_type": "stream",
     "text": [
      "Dieta di Oggi:\n",
      "- Proteine: Tofu\n",
      "- Carboidrati: Riso\n",
      "- Grassi: Olio di cocco\n",
      "- Fibre: Frutta\n"
     ]
    }
   ],
   "execution_count": 2
  },
  {
   "metadata": {
    "ExecuteTime": {
     "end_time": "2024-10-26T10:18:13.099016Z",
     "start_time": "2024-10-26T10:18:11.088101Z"
    }
   },
   "cell_type": "code",
   "source": [
    "import random\n",
    "\n",
    "# Definizione delle categorie alimentari come dizionari\n",
    "alimenti = {\n",
    "    \"proteine\": [\n",
    "        {\"nome\": \"Uova\", \"calorie\": 155, \"ideale_per\": \"colazione\"},\n",
    "        {\"nome\": \"Yogurt greco\", \"calorie\": 100, \"ideale_per\": \"colazione\"},\n",
    "        {\"nome\": \"Tofu\", \"calorie\": 76, \"ideale_per\": \"pranzo\"},\n",
    "        {\"nome\": \"Salmone\", \"calorie\": 208, \"ideale_per\": \"cena\"},\n",
    "        {\"nome\": \"Legumi (Lenticchie)\", \"calorie\": 116, \"ideale_per\": \"pranzo\"},\n",
    "        {\"nome\": \"Pollo\", \"calorie\": 165, \"ideale_per\": \"cena\"},\n",
    "        {\"nome\": \"Tacchino\", \"calorie\": 135, \"ideale_per\": \"pranzo\"},\n",
    "        {\"nome\": \"Tonno\", \"calorie\": 132, \"ideale_per\": \"pranzo\"},\n",
    "        {\"nome\": \"Manzo\", \"calorie\": 250, \"ideale_per\": \"cena\"},\n",
    "        {\"nome\": \"Formaggio (Mozzarella)\", \"calorie\": 280, \"ideale_per\": \"colazione\"},\n",
    "        {\"nome\": \"Seitan\", \"calorie\": 140, \"ideale_per\": \"pranzo\"},\n",
    "        {\"nome\": \"Quark\", \"calorie\": 73, \"ideale_per\": \"colazione\"},\n",
    "        {\"nome\": \"Bistecca di manzo\", \"calorie\": 250, \"ideale_per\": \"cena\"},\n",
    "        {\"nome\": \"Sgombro\", \"calorie\": 262, \"ideale_per\": \"cena\"},\n",
    "        {\"nome\": \"Feta\", \"calorie\": 264, \"ideale_per\": \"pranzo\"},\n",
    "        {\"nome\": \"Gamberi\", \"calorie\": 99, \"ideale_per\": \"cena\"},\n",
    "        {\"nome\": \"Ricotta\", \"calorie\": 174, \"ideale_per\": \"colazione\"},\n",
    "    ],\n",
    "    \"carboidrati\": [\n",
    "        {\"nome\": \"Avena\", \"calorie\": 389, \"ideale_per\": \"colazione\"},\n",
    "        {\"nome\": \"Riso (bianco)\", \"calorie\": 130, \"ideale_per\": \"pranzo\"},\n",
    "        {\"nome\": \"Pasta (integrale)\", \"calorie\": 131, \"ideale_per\": \"pranzo\"},\n",
    "        {\"nome\": \"Pane (integrale)\", \"calorie\": 265, \"ideale_per\": \"colazione\"},\n",
    "        {\"nome\": \"Patate\", \"calorie\": 77, \"ideale_per\": \"cena\"},\n",
    "        {\"nome\": \"Quinoa\", \"calorie\": 120, \"ideale_per\": \"pranzo\"},\n",
    "        {\"nome\": \"Farro\", \"calorie\": 170, \"ideale_per\": \"cena\"},\n",
    "        {\"nome\": \"Bulgur\", \"calorie\": 83, \"ideale_per\": \"pranzo\"},\n",
    "        {\"nome\": \"Mais\", \"calorie\": 86, \"ideale_per\": \"pranzo\"},\n",
    "        {\"nome\": \"Frutta (es. Banana)\", \"calorie\": 89, \"ideale_per\": \"colazione\"},\n",
    "        {\"nome\": \"Cereali integrali\", \"calorie\": 359, \"ideale_per\": \"colazione\"},\n",
    "        {\"nome\": \"Fette biscottate\", \"calorie\": 389, \"ideale_per\": \"colazione\"},\n",
    "        {\"nome\": \"Miglio\", \"calorie\": 119, \"ideale_per\": \"pranzo\"},\n",
    "        {\"nome\": \"Patate dolci\", \"calorie\": 86, \"ideale_per\": \"cena\"},\n",
    "        {\"nome\": \"Pane integrale\", \"calorie\": 247, \"ideale_per\": \"colazione\"},\n",
    "        {\"nome\": \"Couscous\", \"calorie\": 112, \"ideale_per\": \"pranzo\"},\n",
    "        {\"nome\": \"Frutta secca (es. Datteri)\", \"calorie\": 277, \"ideale_per\": \"snack\"},\n",
    "        {\"nome\": \"Sgombro in salsa di pomodoro\", \"calorie\": 270, \"ideale_per\": \"cena\"},\n",
    "    ],\n",
    "    \"grassi\": [\n",
    "        {\"nome\": \"Olio d'oliva\", \"calorie\": 119, \"ideale_per\": \"pranzo\"},\n",
    "        {\"nome\": \"Avocado\", \"calorie\": 160, \"ideale_per\": \"pranzo\"},\n",
    "        {\"nome\": \"Noci\", \"calorie\": 185, \"ideale_per\": \"snack\"},\n",
    "        {\"nome\": \"Mandorle\", \"calorie\": 161, \"ideale_per\": \"snack\"},\n",
    "        {\"nome\": \"Semi di chia\", \"calorie\": 137, \"ideale_per\": \"colazione\"},\n",
    "        {\"nome\": \"Olio di cocco\", \"calorie\": 117, \"ideale_per\": \"cena\"},\n",
    "        {\"nome\": \"Burro di arachidi\", \"calorie\": 588, \"ideale_per\": \"snack\"},\n",
    "        {\"nome\": \"Semi di girasole\", \"calorie\": 164, \"ideale_per\": \"snack\"},\n",
    "        {\"nome\": \"Pistacchi\", \"calorie\": 156, \"ideale_per\": \"snack\"},\n",
    "        {\"nome\": \"Burro\", \"calorie\": 102, \"ideale_per\": \"colazione\"},\n",
    "        {\"nome\": \"Olio di semi di lino\", \"calorie\": 120, \"ideale_per\": \"cena\"},\n",
    "        {\"nome\": \"Burro chiarificato (Ghee)\", \"calorie\": 900, \"ideale_per\": \"cucina\"},\n",
    "        {\"nome\": \"Olio di avocado\", \"calorie\": 124, \"ideale_per\": \"pranzo\"},\n",
    "        {\"nome\": \"Burro di mandorle\", \"calorie\": 614, \"ideale_per\": \"snack\"},\n",
    "        {\"nome\": \"Pasta di sesamo (Tahini)\", \"calorie\": 595, \"ideale_per\": \"pranzo\"},\n",
    "        {\"nome\": \"Olio di palma\", \"calorie\": 884, \"ideale_per\": \"cucina\"},\n",
    "        {\"nome\": \"Olio di nocciola\", \"calorie\": 884, \"ideale_per\": \"cucina\"},\n",
    "    ],\n",
    "    \"fibre\": [\n",
    "        {\"nome\": \"Verdure miste\", \"calorie\": 50, \"ideale_per\": \"pranzo\"},\n",
    "        {\"nome\": \"Lenticchie\", \"calorie\": 116, \"ideale_per\": \"pranzo\"},\n",
    "        {\"nome\": \"Broccoli\", \"calorie\": 55, \"ideale_per\": \"cena\"},\n",
    "        {\"nome\": \"Spinaci\", \"calorie\": 23, \"ideale_per\": \"cena\"},\n",
    "        {\"nome\": \"Carote\", \"calorie\": 41, \"ideale_per\": \"pranzo\"},\n",
    "        {\"nome\": \"Cavolfiore\", \"calorie\": 25, \"ideale_per\": \"cena\"},\n",
    "        {\"nome\": \"Frutta (es. Fragole)\", \"calorie\": 52, \"ideale_per\": \"colazione\"},\n",
    "        {\"nome\": \"Piselli\", \"calorie\": 81, \"ideale_per\": \"pranzo\"},\n",
    "        {\"nome\": \"Ceci\", \"calorie\": 164, \"ideale_per\": \"pranzo\"},\n",
    "        {\"nome\": \"Fagioli\", \"calorie\": 347, \"ideale_per\": \"cena\"},\n",
    "        {\"nome\": \"Barbabietole\", \"calorie\": 43, \"ideale_per\": \"pranzo\"},\n",
    "        {\"nome\": \"Rutabaga\", \"calorie\": 37, \"ideale_per\": \"cena\"},\n",
    "        {\"nome\": \"Cavolo riccio (Kale)\", \"calorie\": 49, \"ideale_per\": \"pranzo\"},\n",
    "        {\"nome\": \"Topinambur\", \"calorie\": 73, \"ideale_per\": \"cena\"},\n",
    "        {\"nome\": \"Semi di lino\", \"calorie\": 534, \"ideale_per\": \"snack\"},\n",
    "        {\"nome\": \"Frutta secca (es. Fichi)\", \"calorie\": 249, \"ideale_per\": \"snack\"},\n",
    "        {\"nome\": \"Zucchine\", \"calorie\": 17, \"ideale_per\": \"cena\"},\n",
    "    ]\n",
    "}\n",
    "\n",
    "# Funzione per selezionare un pasto ideale\n",
    "def genera_pasto_ideale():\n",
    "    ora = input(\"Ciao cecio. Che pasto vuoi generare? (colazione/pranzo/cena): \")\n",
    "    \n",
    "    # Filtra gli alimenti in base all'orario\n",
    "    proteine_selezionate = [p for p in alimenti[\"proteine\"] if p[\"ideale_per\"] == ora]\n",
    "    carboidrati_selezionati = [c for c in alimenti[\"carboidrati\"] if c[\"ideale_per\"] == ora]\n",
    "    grassi_selezionati = [g for g in alimenti[\"grassi\"] if g[\"ideale_per\"] == \"cena\" or g[\"ideale_per\"] == \"pranzo\" or g[\"ideale_per\"] == \"snack\"]\n",
    "    fibre_selezionate = [f for f in alimenti[\"fibre\"] if f[\"ideale_per\"] == ora]\n",
    "\n",
    "    if not proteine_selezionate or not carboidrati_selezionati or not fibre_selezionate:\n",
    "        print(\"Non ci sono combinazioni alimentari disponibili per questo pasto.\")\n",
    "        return\n",
    "    \n",
    "    # Selezione casuale degli alimenti\n",
    "    scelta_proteine = random.choice(proteine_selezionate)\n",
    "    scelta_carboidrati = random.choice(carboidrati_selezionati)\n",
    "    scelta_grassi = random.choice(grassi_selezionati)\n",
    "    scelta_fibre = random.choice(fibre_selezionate)\n",
    "\n",
    "    # Calcolo delle calorie totali\n",
    "    calorie_totali = (scelta_proteine[\"calorie\"] + scelta_carboidrati[\"calorie\"] +\n",
    "                      scelta_grassi[\"calorie\"] + scelta_fibre[\"calorie\"])\n",
    "\n",
    "    # Stampa il pasto ideale\n",
    "    print(\"\\n=== Pasto Ideale per la Elunsky ===\")\n",
    "    print(f\"⏳ Orario: {ora.capitalize()}\")\n",
    "    print(f\"🍗 Proteine: {scelta_proteine['nome']} - {scelta_proteine['calorie']} calorie\")\n",
    "    print(f\"🍚 Carboidrati: {scelta_carboidrati['nome']} - {scelta_carboidrati['calorie']} calorie\")\n",
    "    print(f\"🥑 Grassi: {scelta_grassi['nome']} - {scelta_grassi['calorie']} calorie\")\n",
    "    print(f\"🥦 Fibre: {scelta_fibre['nome']} - {scelta_fibre['calorie']} calorie\")\n",
    "    print(\"\\n=== Resoconto Calorico ===\")\n",
    "    print(f\"💡 Calorie totali: {calorie_totali} calorie\")\n",
    "    print(f\"😋 Buon Appetito!\")\n",
    "\n",
    "# Genera e stampa il pasto ideale\n",
    "genera_pasto_ideale()"
   ],
   "id": "a24f8549cd3a5afd",
   "outputs": [
    {
     "name": "stdout",
     "output_type": "stream",
     "text": [
      "\n",
      "=== Pasto Ideale per la Elunsky ===\n",
      "⏳ Orario: Cena\n",
      "🍗 Proteine: Manzo - 250 calorie\n",
      "🍚 Carboidrati: Patate dolci - 86 calorie\n",
      "🥑 Grassi: Avocado - 160 calorie\n",
      "🥦 Fibre: Rutabaga - 37 calorie\n",
      "\n",
      "=== Resoconto Calorico ===\n",
      "💡 Calorie totali: 533 calorie\n",
      "😋 Buon Appetito!\n"
     ]
    }
   ],
   "execution_count": 22
  },
  {
   "metadata": {
    "ExecuteTime": {
     "end_time": "2024-10-26T10:05:17.768221Z",
     "start_time": "2024-10-26T10:05:17.765982Z"
    }
   },
   "cell_type": "code",
   "source": "",
   "id": "6d9bb137d1f469c9",
   "outputs": [],
   "execution_count": 10
  },
  {
   "metadata": {},
   "cell_type": "code",
   "outputs": [],
   "execution_count": null,
   "source": "",
   "id": "836499666e7aac92"
  }
 ],
 "metadata": {
  "kernelspec": {
   "display_name": "Python 3",
   "language": "python",
   "name": "python3"
  },
  "language_info": {
   "codemirror_mode": {
    "name": "ipython",
    "version": 2
   },
   "file_extension": ".py",
   "mimetype": "text/x-python",
   "name": "python",
   "nbconvert_exporter": "python",
   "pygments_lexer": "ipython2",
   "version": "2.7.6"
  }
 },
 "nbformat": 4,
 "nbformat_minor": 5
}
