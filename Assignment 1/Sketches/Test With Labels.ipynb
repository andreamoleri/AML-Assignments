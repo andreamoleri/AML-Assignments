{
 "cells": [
  {
   "cell_type": "code",
   "id": "initial_id",
   "metadata": {
    "collapsed": true,
    "ExecuteTime": {
     "end_time": "2024-10-24T12:18:17.151209Z",
     "start_time": "2024-10-24T12:18:16.916262Z"
    }
   },
   "source": [
    "import pandas as pd\n",
    "\n",
    "# Carica i file CSV\n",
    "test_df = pd.read_csv('test.csv')\n",
    "uci_credit_card_df = pd.read_csv('UCI_Credit_Card.csv')\n",
    "\n",
    "# Effettua il merge tra i due DataFrame basato sulla colonna 'ID', mantenendo l'ordine di 'test_df'\n",
    "merged_df = pd.merge(test_df, uci_credit_card_df, on='ID', how='left')\n",
    "\n",
    "# Salva il risultato in un nuovo file CSV\n",
    "merged_df.to_csv('test_with_labels.csv', index=False)"
   ],
   "outputs": [],
   "execution_count": 2
  }
 ],
 "metadata": {
  "kernelspec": {
   "display_name": "Python 3",
   "language": "python",
   "name": "python3"
  },
  "language_info": {
   "codemirror_mode": {
    "name": "ipython",
    "version": 2
   },
   "file_extension": ".py",
   "mimetype": "text/x-python",
   "name": "python",
   "nbconvert_exporter": "python",
   "pygments_lexer": "ipython2",
   "version": "2.7.6"
  }
 },
 "nbformat": 4,
 "nbformat_minor": 5
}
