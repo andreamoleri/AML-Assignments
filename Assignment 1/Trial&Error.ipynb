{
 "cells": [
  {
   "cell_type": "code",
   "id": "initial_id",
   "metadata": {
    "collapsed": true,
    "ExecuteTime": {
     "end_time": "2024-10-24T13:03:13.958667Z",
     "start_time": "2024-10-24T13:02:47.135670Z"
    }
   },
   "source": [
    "import numpy as np\n",
    "import pandas as pd\n",
    "from tensorflow.keras.models import Sequential\n",
    "from tensorflow.keras.layers import Dense, Dropout, Input, BatchNormalization\n",
    "from tensorflow.keras.optimizers import Adam\n",
    "from tensorflow.keras.callbacks import EarlyStopping, ReduceLROnPlateau\n",
    "from sklearn.metrics import f1_score\n",
    "from sklearn.preprocessing import StandardScaler\n",
    "from sklearn.model_selection import train_test_split\n",
    "from tensorflow.keras import regularizers\n",
    "\n",
    "# Step 1: Caricare il dataframe da train.csv\n",
    "df = pd.read_csv('train.csv')\n",
    "\n",
    "# Assicurati che la colonna \"default payment next month\" contenga solo valori binari\n",
    "df['default payment next month'] = df['default payment next month'].apply(lambda x: 1 if x > 0 else (0 if x == 0 else np.nan))\n",
    "\n",
    "# Rimuovi righe con valori NaN\n",
    "df.dropna(subset=['default payment next month'], inplace=True)\n",
    "\n",
    "# Step 1.1: Definire X e y\n",
    "X = df.drop(columns=['default payment next month']).values\n",
    "y = df['default payment next month'].values\n",
    "\n",
    "# Step 1.2: Suddividere il dataset in training e validation set\n",
    "X_train, X_val, y_train, y_val = train_test_split(X, y, test_size=0.2, random_state=42)\n",
    "\n",
    "# Normalizzare i dati di input\n",
    "scaler = StandardScaler()\n",
    "X_train_scaled = scaler.fit_transform(X_train)\n",
    "X_val_scaled = scaler.transform(X_val)\n",
    "\n",
    "# Step 2: Definire l'architettura della rete neurale\n",
    "def build_model(input_shape):\n",
    "    model = Sequential()\n",
    "    model.add(Input(shape=(input_shape,)))\n",
    "\n",
    "    # Primo livello\n",
    "    model.add(Dense(256, activation='relu', kernel_initializer='he_normal', kernel_regularizer=regularizers.l2(0.001)))\n",
    "    model.add(BatchNormalization())\n",
    "    model.add(Dropout(0.4))  # Aumenta il dropout\n",
    "\n",
    "    # Secondo livello\n",
    "    model.add(Dense(128, activation='relu', kernel_initializer='he_normal', kernel_regularizer=regularizers.l2(0.001)))\n",
    "    model.add(BatchNormalization())\n",
    "    model.add(Dropout(0.4))  # Aumenta il dropout\n",
    "\n",
    "    # Terzo livello\n",
    "    model.add(Dense(64, activation='relu', kernel_initializer='he_normal', kernel_regularizer=regularizers.l2(0.001)))\n",
    "    model.add(BatchNormalization())\n",
    "    model.add(Dropout(0.4))  # Aumenta il dropout\n",
    "\n",
    "    # Quarto livello\n",
    "    model.add(Dense(32, activation='relu', kernel_initializer='he_normal', kernel_regularizer=regularizers.l2(0.001)))\n",
    "    model.add(BatchNormalization())\n",
    "    model.add(Dropout(0.4))  # Aumenta il dropout\n",
    "\n",
    "    # Livello di output\n",
    "    model.add(Dense(1, activation='sigmoid'))\n",
    "\n",
    "    # Compilare il modello\n",
    "    optimizer = Adam(learning_rate=0.0001, clipnorm=1.0)  # Abbassato il learning rate\n",
    "    model.compile(optimizer=optimizer, \n",
    "                  loss='binary_crossentropy', \n",
    "                  metrics=['accuracy'])\n",
    "\n",
    "    return model\n",
    "\n",
    "# Step 3: Costruire il modello\n",
    "input_shape = X_train_scaled.shape[1]\n",
    "model = build_model(input_shape)\n",
    "\n",
    "# Step 4: Definire i parametri di addestramento\n",
    "batch_size = 64\n",
    "epochs = 10\n",
    "\n",
    "# Step 5: Early stopping e learning rate scheduler\n",
    "early_stopping = EarlyStopping(monitor='val_loss', patience=20, restore_best_weights=True)\n",
    "reduce_lr = ReduceLROnPlateau(monitor='val_loss', factor=0.5, patience=10, min_lr=1e-6)\n",
    "\n",
    "model.summary()\n",
    "\n",
    "# Step 6: Addestrare il modello\n",
    "history = model.fit(X_train_scaled, y_train, \n",
    "                    validation_data=(X_val_scaled, y_val),\n",
    "                    epochs=epochs, batch_size=batch_size, \n",
    "                    callbacks=[early_stopping, reduce_lr])\n",
    "\n",
    "\n",
    "# Step 7: Valutare il modello sul set di validazione\n",
    "val_loss, val_accuracy = model.evaluate(X_val_scaled, y_val)\n",
    "print(f\"Validation Loss: {val_loss}, Validation Accuracy: {val_accuracy}\")\n",
    "\n",
    "# Step 8: Calcolare e stampare l'F1 Score\n",
    "y_pred_prob = model.predict(X_val_scaled)  \n",
    "y_pred = (y_pred_prob > 0.5).astype(int)  \n",
    "\n",
    "# Calcola l'F1 score\n",
    "f1 = f1_score(y_val, y_pred, average='macro')  \n",
    "print(f\"F1 Score: {f1}\")"
   ],
   "outputs": [
    {
     "data": {
      "text/plain": [
       "\u001B[1mModel: \"sequential_22\"\u001B[0m\n"
      ],
      "text/html": [
       "<pre style=\"white-space:pre;overflow-x:auto;line-height:normal;font-family:Menlo,'DejaVu Sans Mono',consolas,'Courier New',monospace\"><span style=\"font-weight: bold\">Model: \"sequential_22\"</span>\n",
       "</pre>\n"
      ]
     },
     "metadata": {},
     "output_type": "display_data"
    },
    {
     "data": {
      "text/plain": [
       "┏━━━━━━━━━━━━━━━━━━━━━━━━━━━━━━━━━┳━━━━━━━━━━━━━━━━━━━━━━━━┳━━━━━━━━━━━━━━━┓\n",
       "┃\u001B[1m \u001B[0m\u001B[1mLayer (type)                   \u001B[0m\u001B[1m \u001B[0m┃\u001B[1m \u001B[0m\u001B[1mOutput Shape          \u001B[0m\u001B[1m \u001B[0m┃\u001B[1m \u001B[0m\u001B[1m      Param #\u001B[0m\u001B[1m \u001B[0m┃\n",
       "┡━━━━━━━━━━━━━━━━━━━━━━━━━━━━━━━━━╇━━━━━━━━━━━━━━━━━━━━━━━━╇━━━━━━━━━━━━━━━┩\n",
       "│ dense_101 (\u001B[38;5;33mDense\u001B[0m)               │ (\u001B[38;5;45mNone\u001B[0m, \u001B[38;5;34m256\u001B[0m)            │         \u001B[38;5;34m6,400\u001B[0m │\n",
       "├─────────────────────────────────┼────────────────────────┼───────────────┤\n",
       "│ batch_normalization_74          │ (\u001B[38;5;45mNone\u001B[0m, \u001B[38;5;34m256\u001B[0m)            │         \u001B[38;5;34m1,024\u001B[0m │\n",
       "│ (\u001B[38;5;33mBatchNormalization\u001B[0m)            │                        │               │\n",
       "├─────────────────────────────────┼────────────────────────┼───────────────┤\n",
       "│ dropout_54 (\u001B[38;5;33mDropout\u001B[0m)            │ (\u001B[38;5;45mNone\u001B[0m, \u001B[38;5;34m256\u001B[0m)            │             \u001B[38;5;34m0\u001B[0m │\n",
       "├─────────────────────────────────┼────────────────────────┼───────────────┤\n",
       "│ dense_102 (\u001B[38;5;33mDense\u001B[0m)               │ (\u001B[38;5;45mNone\u001B[0m, \u001B[38;5;34m128\u001B[0m)            │        \u001B[38;5;34m32,896\u001B[0m │\n",
       "├─────────────────────────────────┼────────────────────────┼───────────────┤\n",
       "│ batch_normalization_75          │ (\u001B[38;5;45mNone\u001B[0m, \u001B[38;5;34m128\u001B[0m)            │           \u001B[38;5;34m512\u001B[0m │\n",
       "│ (\u001B[38;5;33mBatchNormalization\u001B[0m)            │                        │               │\n",
       "├─────────────────────────────────┼────────────────────────┼───────────────┤\n",
       "│ dropout_55 (\u001B[38;5;33mDropout\u001B[0m)            │ (\u001B[38;5;45mNone\u001B[0m, \u001B[38;5;34m128\u001B[0m)            │             \u001B[38;5;34m0\u001B[0m │\n",
       "├─────────────────────────────────┼────────────────────────┼───────────────┤\n",
       "│ dense_103 (\u001B[38;5;33mDense\u001B[0m)               │ (\u001B[38;5;45mNone\u001B[0m, \u001B[38;5;34m64\u001B[0m)             │         \u001B[38;5;34m8,256\u001B[0m │\n",
       "├─────────────────────────────────┼────────────────────────┼───────────────┤\n",
       "│ batch_normalization_76          │ (\u001B[38;5;45mNone\u001B[0m, \u001B[38;5;34m64\u001B[0m)             │           \u001B[38;5;34m256\u001B[0m │\n",
       "│ (\u001B[38;5;33mBatchNormalization\u001B[0m)            │                        │               │\n",
       "├─────────────────────────────────┼────────────────────────┼───────────────┤\n",
       "│ dropout_56 (\u001B[38;5;33mDropout\u001B[0m)            │ (\u001B[38;5;45mNone\u001B[0m, \u001B[38;5;34m64\u001B[0m)             │             \u001B[38;5;34m0\u001B[0m │\n",
       "├─────────────────────────────────┼────────────────────────┼───────────────┤\n",
       "│ dense_104 (\u001B[38;5;33mDense\u001B[0m)               │ (\u001B[38;5;45mNone\u001B[0m, \u001B[38;5;34m32\u001B[0m)             │         \u001B[38;5;34m2,080\u001B[0m │\n",
       "├─────────────────────────────────┼────────────────────────┼───────────────┤\n",
       "│ batch_normalization_77          │ (\u001B[38;5;45mNone\u001B[0m, \u001B[38;5;34m32\u001B[0m)             │           \u001B[38;5;34m128\u001B[0m │\n",
       "│ (\u001B[38;5;33mBatchNormalization\u001B[0m)            │                        │               │\n",
       "├─────────────────────────────────┼────────────────────────┼───────────────┤\n",
       "│ dropout_57 (\u001B[38;5;33mDropout\u001B[0m)            │ (\u001B[38;5;45mNone\u001B[0m, \u001B[38;5;34m32\u001B[0m)             │             \u001B[38;5;34m0\u001B[0m │\n",
       "├─────────────────────────────────┼────────────────────────┼───────────────┤\n",
       "│ dense_105 (\u001B[38;5;33mDense\u001B[0m)               │ (\u001B[38;5;45mNone\u001B[0m, \u001B[38;5;34m1\u001B[0m)              │            \u001B[38;5;34m33\u001B[0m │\n",
       "└─────────────────────────────────┴────────────────────────┴───────────────┘\n"
      ],
      "text/html": [
       "<pre style=\"white-space:pre;overflow-x:auto;line-height:normal;font-family:Menlo,'DejaVu Sans Mono',consolas,'Courier New',monospace\">┏━━━━━━━━━━━━━━━━━━━━━━━━━━━━━━━━━┳━━━━━━━━━━━━━━━━━━━━━━━━┳━━━━━━━━━━━━━━━┓\n",
       "┃<span style=\"font-weight: bold\"> Layer (type)                    </span>┃<span style=\"font-weight: bold\"> Output Shape           </span>┃<span style=\"font-weight: bold\">       Param # </span>┃\n",
       "┡━━━━━━━━━━━━━━━━━━━━━━━━━━━━━━━━━╇━━━━━━━━━━━━━━━━━━━━━━━━╇━━━━━━━━━━━━━━━┩\n",
       "│ dense_101 (<span style=\"color: #0087ff; text-decoration-color: #0087ff\">Dense</span>)               │ (<span style=\"color: #00d7ff; text-decoration-color: #00d7ff\">None</span>, <span style=\"color: #00af00; text-decoration-color: #00af00\">256</span>)            │         <span style=\"color: #00af00; text-decoration-color: #00af00\">6,400</span> │\n",
       "├─────────────────────────────────┼────────────────────────┼───────────────┤\n",
       "│ batch_normalization_74          │ (<span style=\"color: #00d7ff; text-decoration-color: #00d7ff\">None</span>, <span style=\"color: #00af00; text-decoration-color: #00af00\">256</span>)            │         <span style=\"color: #00af00; text-decoration-color: #00af00\">1,024</span> │\n",
       "│ (<span style=\"color: #0087ff; text-decoration-color: #0087ff\">BatchNormalization</span>)            │                        │               │\n",
       "├─────────────────────────────────┼────────────────────────┼───────────────┤\n",
       "│ dropout_54 (<span style=\"color: #0087ff; text-decoration-color: #0087ff\">Dropout</span>)            │ (<span style=\"color: #00d7ff; text-decoration-color: #00d7ff\">None</span>, <span style=\"color: #00af00; text-decoration-color: #00af00\">256</span>)            │             <span style=\"color: #00af00; text-decoration-color: #00af00\">0</span> │\n",
       "├─────────────────────────────────┼────────────────────────┼───────────────┤\n",
       "│ dense_102 (<span style=\"color: #0087ff; text-decoration-color: #0087ff\">Dense</span>)               │ (<span style=\"color: #00d7ff; text-decoration-color: #00d7ff\">None</span>, <span style=\"color: #00af00; text-decoration-color: #00af00\">128</span>)            │        <span style=\"color: #00af00; text-decoration-color: #00af00\">32,896</span> │\n",
       "├─────────────────────────────────┼────────────────────────┼───────────────┤\n",
       "│ batch_normalization_75          │ (<span style=\"color: #00d7ff; text-decoration-color: #00d7ff\">None</span>, <span style=\"color: #00af00; text-decoration-color: #00af00\">128</span>)            │           <span style=\"color: #00af00; text-decoration-color: #00af00\">512</span> │\n",
       "│ (<span style=\"color: #0087ff; text-decoration-color: #0087ff\">BatchNormalization</span>)            │                        │               │\n",
       "├─────────────────────────────────┼────────────────────────┼───────────────┤\n",
       "│ dropout_55 (<span style=\"color: #0087ff; text-decoration-color: #0087ff\">Dropout</span>)            │ (<span style=\"color: #00d7ff; text-decoration-color: #00d7ff\">None</span>, <span style=\"color: #00af00; text-decoration-color: #00af00\">128</span>)            │             <span style=\"color: #00af00; text-decoration-color: #00af00\">0</span> │\n",
       "├─────────────────────────────────┼────────────────────────┼───────────────┤\n",
       "│ dense_103 (<span style=\"color: #0087ff; text-decoration-color: #0087ff\">Dense</span>)               │ (<span style=\"color: #00d7ff; text-decoration-color: #00d7ff\">None</span>, <span style=\"color: #00af00; text-decoration-color: #00af00\">64</span>)             │         <span style=\"color: #00af00; text-decoration-color: #00af00\">8,256</span> │\n",
       "├─────────────────────────────────┼────────────────────────┼───────────────┤\n",
       "│ batch_normalization_76          │ (<span style=\"color: #00d7ff; text-decoration-color: #00d7ff\">None</span>, <span style=\"color: #00af00; text-decoration-color: #00af00\">64</span>)             │           <span style=\"color: #00af00; text-decoration-color: #00af00\">256</span> │\n",
       "│ (<span style=\"color: #0087ff; text-decoration-color: #0087ff\">BatchNormalization</span>)            │                        │               │\n",
       "├─────────────────────────────────┼────────────────────────┼───────────────┤\n",
       "│ dropout_56 (<span style=\"color: #0087ff; text-decoration-color: #0087ff\">Dropout</span>)            │ (<span style=\"color: #00d7ff; text-decoration-color: #00d7ff\">None</span>, <span style=\"color: #00af00; text-decoration-color: #00af00\">64</span>)             │             <span style=\"color: #00af00; text-decoration-color: #00af00\">0</span> │\n",
       "├─────────────────────────────────┼────────────────────────┼───────────────┤\n",
       "│ dense_104 (<span style=\"color: #0087ff; text-decoration-color: #0087ff\">Dense</span>)               │ (<span style=\"color: #00d7ff; text-decoration-color: #00d7ff\">None</span>, <span style=\"color: #00af00; text-decoration-color: #00af00\">32</span>)             │         <span style=\"color: #00af00; text-decoration-color: #00af00\">2,080</span> │\n",
       "├─────────────────────────────────┼────────────────────────┼───────────────┤\n",
       "│ batch_normalization_77          │ (<span style=\"color: #00d7ff; text-decoration-color: #00d7ff\">None</span>, <span style=\"color: #00af00; text-decoration-color: #00af00\">32</span>)             │           <span style=\"color: #00af00; text-decoration-color: #00af00\">128</span> │\n",
       "│ (<span style=\"color: #0087ff; text-decoration-color: #0087ff\">BatchNormalization</span>)            │                        │               │\n",
       "├─────────────────────────────────┼────────────────────────┼───────────────┤\n",
       "│ dropout_57 (<span style=\"color: #0087ff; text-decoration-color: #0087ff\">Dropout</span>)            │ (<span style=\"color: #00d7ff; text-decoration-color: #00d7ff\">None</span>, <span style=\"color: #00af00; text-decoration-color: #00af00\">32</span>)             │             <span style=\"color: #00af00; text-decoration-color: #00af00\">0</span> │\n",
       "├─────────────────────────────────┼────────────────────────┼───────────────┤\n",
       "│ dense_105 (<span style=\"color: #0087ff; text-decoration-color: #0087ff\">Dense</span>)               │ (<span style=\"color: #00d7ff; text-decoration-color: #00d7ff\">None</span>, <span style=\"color: #00af00; text-decoration-color: #00af00\">1</span>)              │            <span style=\"color: #00af00; text-decoration-color: #00af00\">33</span> │\n",
       "└─────────────────────────────────┴────────────────────────┴───────────────┘\n",
       "</pre>\n"
      ]
     },
     "metadata": {},
     "output_type": "display_data"
    },
    {
     "data": {
      "text/plain": [
       "\u001B[1m Total params: \u001B[0m\u001B[38;5;34m51,585\u001B[0m (201.50 KB)\n"
      ],
      "text/html": [
       "<pre style=\"white-space:pre;overflow-x:auto;line-height:normal;font-family:Menlo,'DejaVu Sans Mono',consolas,'Courier New',monospace\"><span style=\"font-weight: bold\"> Total params: </span><span style=\"color: #00af00; text-decoration-color: #00af00\">51,585</span> (201.50 KB)\n",
       "</pre>\n"
      ]
     },
     "metadata": {},
     "output_type": "display_data"
    },
    {
     "data": {
      "text/plain": [
       "\u001B[1m Trainable params: \u001B[0m\u001B[38;5;34m50,625\u001B[0m (197.75 KB)\n"
      ],
      "text/html": [
       "<pre style=\"white-space:pre;overflow-x:auto;line-height:normal;font-family:Menlo,'DejaVu Sans Mono',consolas,'Courier New',monospace\"><span style=\"font-weight: bold\"> Trainable params: </span><span style=\"color: #00af00; text-decoration-color: #00af00\">50,625</span> (197.75 KB)\n",
       "</pre>\n"
      ]
     },
     "metadata": {},
     "output_type": "display_data"
    },
    {
     "data": {
      "text/plain": [
       "\u001B[1m Non-trainable params: \u001B[0m\u001B[38;5;34m960\u001B[0m (3.75 KB)\n"
      ],
      "text/html": [
       "<pre style=\"white-space:pre;overflow-x:auto;line-height:normal;font-family:Menlo,'DejaVu Sans Mono',consolas,'Courier New',monospace\"><span style=\"font-weight: bold\"> Non-trainable params: </span><span style=\"color: #00af00; text-decoration-color: #00af00\">960</span> (3.75 KB)\n",
       "</pre>\n"
      ]
     },
     "metadata": {},
     "output_type": "display_data"
    },
    {
     "name": "stdout",
     "output_type": "stream",
     "text": [
      "Epoch 1/10\n",
      "\u001B[1m319/319\u001B[0m \u001B[32m━━━━━━━━━━━━━━━━━━━━\u001B[0m\u001B[37m\u001B[0m \u001B[1m6s\u001B[0m 7ms/step - accuracy: 0.5364 - loss: 1.8881 - val_accuracy: 0.7753 - val_loss: 1.5089 - learning_rate: 1.0000e-04\n",
      "Epoch 2/10\n",
      "\u001B[1m319/319\u001B[0m \u001B[32m━━━━━━━━━━━━━━━━━━━━\u001B[0m\u001B[37m\u001B[0m \u001B[1m2s\u001B[0m 6ms/step - accuracy: 0.6083 - loss: 1.7393 - val_accuracy: 0.7976 - val_loss: 1.4545 - learning_rate: 1.0000e-04\n",
      "Epoch 3/10\n",
      "\u001B[1m319/319\u001B[0m \u001B[32m━━━━━━━━━━━━━━━━━━━━\u001B[0m\u001B[37m\u001B[0m \u001B[1m2s\u001B[0m 7ms/step - accuracy: 0.6487 - loss: 1.6485 - val_accuracy: 0.8014 - val_loss: 1.4210 - learning_rate: 1.0000e-04\n",
      "Epoch 4/10\n",
      "\u001B[1m319/319\u001B[0m \u001B[32m━━━━━━━━━━━━━━━━━━━━\u001B[0m\u001B[37m\u001B[0m \u001B[1m2s\u001B[0m 6ms/step - accuracy: 0.6933 - loss: 1.5768 - val_accuracy: 0.8029 - val_loss: 1.3970 - learning_rate: 1.0000e-04\n",
      "Epoch 5/10\n",
      "\u001B[1m319/319\u001B[0m \u001B[32m━━━━━━━━━━━━━━━━━━━━\u001B[0m\u001B[37m\u001B[0m \u001B[1m2s\u001B[0m 7ms/step - accuracy: 0.7100 - loss: 1.5372 - val_accuracy: 0.8031 - val_loss: 1.3733 - learning_rate: 1.0000e-04\n",
      "Epoch 6/10\n",
      "\u001B[1m319/319\u001B[0m \u001B[32m━━━━━━━━━━━━━━━━━━━━\u001B[0m\u001B[37m\u001B[0m \u001B[1m2s\u001B[0m 6ms/step - accuracy: 0.7418 - loss: 1.4795 - val_accuracy: 0.8045 - val_loss: 1.3507 - learning_rate: 1.0000e-04\n",
      "Epoch 7/10\n",
      "\u001B[1m319/319\u001B[0m \u001B[32m━━━━━━━━━━━━━━━━━━━━\u001B[0m\u001B[37m\u001B[0m \u001B[1m2s\u001B[0m 6ms/step - accuracy: 0.7539 - loss: 1.4458 - val_accuracy: 0.8047 - val_loss: 1.3300 - learning_rate: 1.0000e-04\n",
      "Epoch 8/10\n",
      "\u001B[1m319/319\u001B[0m \u001B[32m━━━━━━━━━━━━━━━━━━━━\u001B[0m\u001B[37m\u001B[0m \u001B[1m2s\u001B[0m 6ms/step - accuracy: 0.7635 - loss: 1.4127 - val_accuracy: 0.8055 - val_loss: 1.3096 - learning_rate: 1.0000e-04\n",
      "Epoch 9/10\n",
      "\u001B[1m319/319\u001B[0m \u001B[32m━━━━━━━━━━━━━━━━━━━━\u001B[0m\u001B[37m\u001B[0m \u001B[1m2s\u001B[0m 6ms/step - accuracy: 0.7745 - loss: 1.3868 - val_accuracy: 0.8051 - val_loss: 1.2893 - learning_rate: 1.0000e-04\n",
      "Epoch 10/10\n",
      "\u001B[1m319/319\u001B[0m \u001B[32m━━━━━━━━━━━━━━━━━━━━\u001B[0m\u001B[37m\u001B[0m \u001B[1m2s\u001B[0m 7ms/step - accuracy: 0.7864 - loss: 1.3439 - val_accuracy: 0.8045 - val_loss: 1.2696 - learning_rate: 1.0000e-04\n",
      "\u001B[1m160/160\u001B[0m \u001B[32m━━━━━━━━━━━━━━━━━━━━\u001B[0m\u001B[37m\u001B[0m \u001B[1m0s\u001B[0m 2ms/step - accuracy: 0.8058 - loss: 1.2604\n",
      "Validation Loss: 1.2695845365524292, Validation Accuracy: 0.8045098185539246\n",
      "\u001B[1m160/160\u001B[0m \u001B[32m━━━━━━━━━━━━━━━━━━━━\u001B[0m\u001B[37m\u001B[0m \u001B[1m1s\u001B[0m 3ms/step\n",
      "F1 Score: 0.6386904687885824\n"
     ]
    }
   ],
   "execution_count": 105
  },
  {
   "metadata": {
    "ExecuteTime": {
     "end_time": "2024-10-24T13:03:16.472357Z",
     "start_time": "2024-10-24T13:03:16.134262Z"
    }
   },
   "cell_type": "code",
   "source": [
    "# Step 9: Importare il dataframe da test.csv e fare il clipping\n",
    "test_df = pd.read_csv('test.csv')\n",
    "\n",
    "# Clipping dei dati\n",
    "test_df[(test_df['EDUCATION'] < 1) | (test_df['EDUCATION'] > 4)] = 4\n",
    "test_df[(test_df['MARRIAGE'] < 1) | (test_df['MARRIAGE'] > 3)] = 3\n",
    "\n",
    "for pay_col in ['PAY_0', 'PAY_2', 'PAY_3', 'PAY_4', 'PAY_5', 'PAY_6']:\n",
    "    test_df[test_df[pay_col] < 0] = 0\n",
    "    test_df[test_df[pay_col] > 9] = 9\n",
    "\n",
    "# Step 10: Preparare i dati di test\n",
    "X_test = test_df.values  # Assicurati di rimuovere la colonna target se presente\n",
    "X_test_scaled = scaler.transform(X_test)\n",
    "\n",
    "# Step 11: Fare previsioni\n",
    "test_predictions_prob = model.predict(X_test_scaled)\n",
    "test_predictions = (test_predictions_prob > 0.5).astype(int)\n",
    "\n",
    "# Step 12: Salvare le previsioni in test_predictions.csv\n",
    "pd.DataFrame(test_predictions, columns=['Predicted']).to_csv('test_predictions.csv', index=False, header=False)"
   ],
   "id": "480dad876393bbfc",
   "outputs": [
    {
     "name": "stdout",
     "output_type": "stream",
     "text": [
      "\u001B[1m141/141\u001B[0m \u001B[32m━━━━━━━━━━━━━━━━━━━━\u001B[0m\u001B[37m\u001B[0m \u001B[1m0s\u001B[0m 1ms/step\n"
     ]
    }
   ],
   "execution_count": 106
  },
  {
   "metadata": {},
   "cell_type": "markdown",
   "source": "# Test Suite",
   "id": "ece611157d0e9ee5"
  },
  {
   "metadata": {
    "ExecuteTime": {
     "end_time": "2024-10-24T13:03:17.454502Z",
     "start_time": "2024-10-24T13:03:17.439895Z"
    }
   },
   "cell_type": "code",
   "source": [
    "# Step 9: Importare il dataframe da test.csv e fare il clipping\n",
    "test_df = pd.read_csv('test.csv')\n",
    "\n",
    "# Clipping dei dati\n",
    "test_df[(test_df['EDUCATION'] < 1) | (test_df['EDUCATION'] > 4)] = 4\n",
    "test_df[(test_df['MARRIAGE'] < 1) | (test_df['MARRIAGE'] > 3)] = 3\n",
    "\n",
    "for pay_col in ['PAY_0', 'PAY_2', 'PAY_3', 'PAY_4', 'PAY_5', 'PAY_6']:\n",
    "    test_df[test_df[pay_col] < 0] = 0\n",
    "    test_df[test_df[pay_col] > 9] = 9\n",
    "\n",
    "# Step 10: Preparare i dati di test\n",
    "X_test = test_df.values  # Assicurati di rimuovere la colonna target se presente\n",
    "X_test_scaled = scaler.transform(X_test)\n",
    "\n",
    "# Step 11: Fare previsioni\n",
    "test_predictions_prob = model.predict(X_test_scaled)\n",
    "test_predictions = (test_predictions_prob > 0.5).astype(int)\n",
    "\n",
    "# Step 12: Salvare le previsioni in test_predictions.csv\n",
    "pd.DataFrame(test_predictions, columns=['Predicted']).to_csv('test_predictions.csv', index=False, header=False)\n",
    "\n",
    "# Importare le librerie necessarie\n",
    "from sklearn.metrics import accuracy_score, f1_score\n",
    "\n",
    "# Step 13: Importare le etichette corrette\n",
    "true_labels_df = pd.read_csv('test_with_labels_real.csv', header=None)  # Assicurati di impostare header=None se non ci sono intestazioni\n",
    "true_labels = true_labels_df[0].values  # Considerando che le etichette sono nella prima colonna\n",
    "\n",
    "# Step 14: Importare le predizioni fatte\n",
    "predictions_df = pd.read_csv('test_predictions.csv', header=None)\n",
    "predictions = predictions_df[0].values  # Considerando che le predizioni sono nella prima colonna\n",
    "\n",
    "# Step 15: Calcolare l'accuratezza e il punteggio F1\n",
    "accuracy = accuracy_score(true_labels, predictions)\n",
    "f1 = f1_score(true_labels, predictions)\n",
    "\n",
    "# Step 16: Stampare i risultati\n",
    "print(f'Accuracy: {accuracy:.4f}')\n",
    "print(f'F1 Score: {f1:.4f}')\n"
   ],
   "id": "9df1ea3badce942e",
   "outputs": [
    {
     "name": "stdout",
     "output_type": "stream",
     "text": [
      "Accuracy: 0.8051\n",
      "F1 Score: 0.3613\n"
     ]
    }
   ],
   "execution_count": 107
  },
  {
   "metadata": {
    "ExecuteTime": {
     "end_time": "2024-10-24T12:07:49.594229Z",
     "start_time": "2024-10-24T12:07:48.894891Z"
    }
   },
   "cell_type": "code",
   "source": [
    "import matplotlib.pyplot as plt\n",
    "\n",
    "def plot_training_history(history):\n",
    "    \"\"\"\n",
    "    Plot the training and validation loss and accuracy over epochs.\n",
    "\n",
    "    Parameters\n",
    "    ----------\n",
    "    history: History\n",
    "        Keras History object containing training metrics.\n",
    "    \"\"\"\n",
    "    # Plotting Loss\n",
    "    plt.figure(figsize=(12, 5))\n",
    "\n",
    "    plt.subplot(1, 2, 1)\n",
    "    plt.plot(history.history['loss'], label='Training Loss')\n",
    "    plt.plot(history.history['val_loss'], label='Validation Loss')\n",
    "    plt.title('Training and Validation Loss')\n",
    "    plt.xlabel('Epochs')\n",
    "    plt.ylabel('Loss')\n",
    "    plt.legend()\n",
    "    plt.grid()\n",
    "\n",
    "    # Plotting Accuracy\n",
    "    plt.subplot(1, 2, 2)\n",
    "    plt.plot(history.history['accuracy'], label='Training Accuracy')\n",
    "    plt.plot(history.history['val_accuracy'], label='Validation Accuracy')\n",
    "    plt.title('Training and Validation Accuracy')\n",
    "    plt.xlabel('Epochs')\n",
    "    plt.ylabel('Accuracy')\n",
    "    plt.legend()\n",
    "    plt.grid()\n",
    "\n",
    "    plt.tight_layout()\n",
    "    plt.show()\n",
    "\n",
    "# Step 1: Call the plot function to visualize the training history\n",
    "plot_training_history(history)\n",
    "\n",
    "# Step 2: Analyze results\n",
    "final_train_loss = history.history['loss'][-1]\n",
    "final_val_loss = history.history['val_loss'][-1]\n",
    "final_train_accuracy = history.history['accuracy'][-1]\n",
    "final_val_accuracy = history.history['val_accuracy'][-1]\n",
    "\n",
    "print(f\"Final Training Loss: {final_train_loss:.4f}\")\n",
    "print(f\"Final Validation Loss: {final_val_loss:.4f}\")\n",
    "print(f\"Final Training Accuracy: {final_train_accuracy:.4f}\")\n",
    "print(f\"Final Validation Accuracy: {final_val_accuracy:.4f}\")\n",
    "\n",
    "# Step 3: Initial considerations\n",
    "if final_train_loss < final_val_loss:\n",
    "    print(\"The model performs better on the training set compared to the validation set, which might indicate overfitting.\")\n",
    "elif final_train_loss > final_val_loss:\n",
    "    print(\"The model performs better on the validation set compared to the training set, indicating potential underfitting.\")\n",
    "else:\n",
    "    print(\"The model performs similarly on both sets, suggesting a good fit.\")"
   ],
   "id": "3c7baf6b5b3ef9d7",
   "outputs": [
    {
     "data": {
      "text/plain": [
       "<Figure size 1200x500 with 2 Axes>"
      ],
      "image/png": "[encoded data removed]"
     },
     "metadata": {},
     "output_type": "display_data"
    },
    {
     "name": "stdout",
     "output_type": "stream",
     "text": [
      "Final Training Loss: 0.3026\n",
      "Final Validation Loss: 0.2982\n",
      "Final Training Accuracy: 0.8972\n",
      "Final Validation Accuracy: 0.8994\n",
      "The model performs better on the validation set compared to the training set, indicating potential underfitting.\n"
     ]
    }
   ],
   "execution_count": 55
  },
  {
   "metadata": {
    "ExecuteTime": {
     "end_time": "2024-10-24T10:55:13.127375Z",
     "start_time": "2024-10-24T10:55:12.698807Z"
    }
   },
   "cell_type": "code",
   "source": [
    "from sklearn.metrics import confusion_matrix, classification_report, roc_auc_score\n",
    "\n",
    "# Step 1: Generate predictions on the validation set\n",
    "y_val_pred_prob = model.predict(X_val_scaled)\n",
    "y_val_pred = (y_val_pred_prob > 0.5).astype(int)  # Threshold of 0.5 for binary classification\n",
    "\n",
    "# Step 2: Confusion Matrix\n",
    "confusion = confusion_matrix(y_val, y_val_pred)\n",
    "print(\"Confusion Matrix:\")\n",
    "print(confusion)\n",
    "\n",
    "# Step 3: Classification Report\n",
    "class_report = classification_report(y_val, y_val_pred, target_names=[\"No Default\", \"Default\"])\n",
    "print(\"Classification Report:\")\n",
    "print(class_report)\n",
    "\n",
    "# Step 4: Calculate ROC AUC\n",
    "roc_auc = roc_auc_score(y_val, y_val_pred_prob)\n",
    "print(f\"ROC AUC Score: {roc_auc:.4f}\")"
   ],
   "id": "7270104f72500dbf",
   "outputs": [
    {
     "name": "stdout",
     "output_type": "stream",
     "text": [
      "\u001B[1m160/160\u001B[0m \u001B[32m━━━━━━━━━━━━━━━━━━━━\u001B[0m\u001B[37m\u001B[0m \u001B[1m0s\u001B[0m 1ms/step\n",
      "Confusion Matrix:\n",
      "[[4134  192]\n",
      " [ 325  449]]\n",
      "Classification Report:\n",
      "              precision    recall  f1-score   support\n",
      "\n",
      "  No Default       0.93      0.96      0.94      4326\n",
      "     Default       0.70      0.58      0.63       774\n",
      "\n",
      "    accuracy                           0.90      5100\n",
      "   macro avg       0.81      0.77      0.79      5100\n",
      "weighted avg       0.89      0.90      0.89      5100\n",
      "\n",
      "ROC AUC Score: 0.9172\n"
     ]
    }
   ],
   "execution_count": 39
  },
  {
   "metadata": {
    "ExecuteTime": {
     "end_time": "2024-10-24T13:09:43.729825Z",
     "start_time": "2024-10-24T13:09:43.268144Z"
    }
   },
   "cell_type": "code",
   "source": [
    "import pandas as pd\n",
    "from sklearn.preprocessing import StandardScaler\n",
    "\n",
    "# Funzione per caricare i dati\n",
    "def load_data(url, train=True):\n",
    "    data = pd.read_csv(url)\n",
    "    if train:\n",
    "        # Se hai colonne target, separale qui\n",
    "        return data.drop('default payment next month', axis=1), data['default payment next month']\n",
    "    else:\n",
    "        return data, data['ID']  # Assumendo che tu abbia una colonna ID nei dati di test\n",
    "\n",
    "# Funzione per preprocessare i dati\n",
    "def preprocess_data(X, scaler=None):\n",
    "    if scaler is None:\n",
    "        # Creiamo un nuovo scaler se non è passato uno\n",
    "        scaler = StandardScaler()\n",
    "        X_scaled = scaler.fit_transform(X)  # Fit e transform sui dati di addestramento\n",
    "    else:\n",
    "        X_scaled = scaler.transform(X)  # Solo transform sui dati di test\n",
    "    return X_scaled, scaler\n",
    "\n",
    "# Funzione di clipping (da applicare sia ai dati di addestramento che a quelli di test)\n",
    "def clip_data(df):\n",
    "    df[(df['EDUCATION'] < 1) | (df['EDUCATION'] > 4)] = 4\n",
    "    df[(df['MARRIAGE'] < 1) | (df['MARRIAGE'] > 3)] = 3\n",
    "\n",
    "    for pay_col in ['PAY_0', 'PAY_2', 'PAY_3', 'PAY_4', 'PAY_5', 'PAY_6']:\n",
    "        df[df[pay_col] < 0] = 0\n",
    "        df[df[pay_col] > 9] = 9\n",
    "\n",
    "    return df\n",
    "\n",
    "# Load the dataset\n",
    "url_train = './train.csv'\n",
    "url_test = './test.csv'\n",
    "\n",
    "# Load the training data\n",
    "X_train, y_train = load_data(url_train, train=True)\n",
    "\n",
    "# Applicare il clipping sui dati di addestramento\n",
    "X_train = clip_data(X_train)\n",
    "\n",
    "# Inizializziamo lo scaler e scalariamo i dati di addestramento\n",
    "scaler = StandardScaler()\n",
    "X_train_scaled = scaler.fit_transform(X_train)\n",
    "\n",
    "# Load the test data\n",
    "X_test, test_ids = load_data(url_test, train=False)\n",
    "\n",
    "# Applicare il clipping sui dati di test\n",
    "X_test = clip_data(X_test)\n",
    "\n",
    "# Assicuriamoci che X_test abbia le stesse colonne di X_train\n",
    "# Opzionalmente puoi riempire o eliminare colonne mancanti\n",
    "# Esempio: rimuovere colonne che non sono presenti in X_train\n",
    "X_test = X_test.reindex(columns=X_train.columns, fill_value=0)\n",
    "\n",
    "# Preprocess the test data\n",
    "X_test_scaled, _ = preprocess_data(X_test, scaler=scaler)\n",
    "\n",
    "# Step 1: Make predictions on the test set\n",
    "y_test_pred_prob = model.predict(X_test_scaled)\n",
    "y_test_pred = (y_test_pred_prob > 0.5).astype(int)  # Threshold of 0.5 for binary classification\n",
    "\n",
    "# Step 2: Create a DataFrame for submission or further analysis\n",
    "results = pd.DataFrame({\n",
    "    'Default_Prediction': y_test_pred.flatten(),\n",
    "})\n",
    "\n",
    "# Step 3: Save predictions to a CSV file (optional)\n",
    "results.to_csv('test_predictions.csv', index=False, header=False)  # header=True per includere i nomi delle colonne\n",
    "\n",
    "# Display predictions\n",
    "print(\"Predictions on Test Set:\")\n",
    "print(results.head())\n"
   ],
   "id": "4f2672101d5852df",
   "outputs": [
    {
     "name": "stdout",
     "output_type": "stream",
     "text": [
      "\u001B[1m141/141\u001B[0m \u001B[32m━━━━━━━━━━━━━━━━━━━━\u001B[0m\u001B[37m\u001B[0m \u001B[1m0s\u001B[0m 1ms/step\n",
      "Predictions on Test Set:\n",
      "   Default_Prediction\n",
      "0                   0\n",
      "1                   0\n",
      "2                   0\n",
      "3                   0\n",
      "4                   0\n"
     ]
    }
   ],
   "execution_count": 108
  },
  {
   "metadata": {},
   "cell_type": "code",
   "outputs": [],
   "execution_count": null,
   "source": "",
   "id": "61251b38998cf8b2"
  }
 ],
 "metadata": {
  "kernelspec": {
   "display_name": "Python 3",
   "language": "python",
   "name": "python3"
  },
  "language_info": {
   "codemirror_mode": {
    "name": "ipython",
    "version": 2
   },
   "file_extension": ".py",
   "mimetype": "text/x-python",
   "name": "python",
   "nbconvert_exporter": "python",
   "pygments_lexer": "ipython2",
   "version": "2.7.6"
  }
 },
 "nbformat": 4,
 "nbformat_minor": 5
}
