{
 "nbformat": 4,
 "nbformat_minor": 0,
 "metadata": {
  "kernelspec": {
   "display_name": "Python 3",
   "language": "python",
   "name": "python3"
  },
  "language_info": {
   "codemirror_mode": {
    "name": "ipython",
    "version": 3
   },
   "file_extension": ".py",
   "mimetype": "text/x-python",
   "name": "python",
   "nbconvert_exporter": "python",
   "pygments_lexer": "ipython3",
   "version": "3.6.4"
  },
  "colab": {
   "provenance": []
  }
 },
 "cells": [
  {
   "cell_type": "markdown",
   "metadata": {
    "id": "FH5ja_uiJbr6"
   },
   "source": [
    "# Predicting Default Payments with Fully-Connected NNs\n",
    "\n",
    "The dataset contains information on default payments, demographic factors, credit data, history of payment, and bill statements of credit card clients in Taiwan from April 2005 to September 2005."
   ]
  },
  {
   "cell_type": "markdown",
   "metadata": {
    "id": "0-FgzT_cJbsH"
   },
   "source": [
    "## Inspecting the data\n",
    "\n",
    "any comment about data dimensionality/distribution goes here"
   ]
  },
  {
   "cell_type": "code",
   "metadata": {
    "id": "8vSiz47HXYYM",
    "ExecuteTime": {
     "end_time": "2024-10-24T13:16:05.975439Z",
     "start_time": "2024-10-24T13:16:05.594842Z"
    }
   },
   "source": [
    "import pandas as pd\n",
    "import numpy as np\n",
    "import os\n",
    "\n",
    "# Suppress TensorFlow logging warnings to reduce console output\n",
    "os.environ['TF_CPP_MIN_LOG_LEVEL'] = '1'\n",
    "\n",
    "def load_data(path, train=True):\n",
    "    df = pd.read_csv(path, encoding=\"ISO-8859-2\")\n",
    "    \n",
    "    if train:\n",
    "        data = df.sample(frac=1, random_state=42).values\n",
    "        # Restituisci le feature (colonne da 1 a -1) e i label (ultima colonna)\n",
    "        return data[:, :-1].astype(np.float32), data[:, -1]\n",
    "    \n",
    "    # Nel caso del test, restituisci tutto tranne la prima colonna come feature\n",
    "    return df.iloc[:, 1:].values.astype(np.float32), df.iloc[:, 0].astype(str)\n",
    "\n",
    "# Carica i dati di training e test\n",
    "X_train, labels = load_data('./train.csv')\n",
    "X_test, ids = load_data('./test.csv', train=False)\n",
    "\n",
    "print(f\"Training set dimensions: {X_train.shape}\\nFeatures count: {X_train.shape[1]}\")\n",
    "print(\"\\nFirst 5 training samples:\\n\", pd.DataFrame(X_train).head())\n",
    "print(\"\\nLabels distribution:\\n\", pd.Series(labels).value_counts())\n",
    "print(\"\\nMissing values:\\n\", pd.read_csv('./train.csv').isnull().sum())\n",
    "print(\"\\nSummary statistics:\\n\", pd.read_csv('./train.csv').describe())\n",
    "print(\"\\nTest set dimensions:\", X_test.shape)\n"
   ],
   "outputs": [
    {
     "name": "stdout",
     "output_type": "stream",
     "text": [
      "Training set dimensions: (25500, 24)\n",
      "Features count: 24\n",
      "\n",
      "First 5 training samples:\n",
      "         0         1    2    3    4     5    6    7    8    9   ...       14  \\\n",
      "0  21870.0   70000.0  2.0  3.0  2.0  26.0  0.0  0.0  0.0  0.0  ...   8948.0   \n",
      "1  15211.0  320000.0  2.0  2.0  2.0  28.0 -1.0 -1.0 -1.0 -1.0  ...    944.0   \n",
      "2  20041.0   30000.0  2.0  2.0  2.0  36.0  0.0 -1.0 -1.0  0.0  ...  30452.0   \n",
      "3   9190.0   20000.0  2.0  3.0  1.0  35.0  0.0  0.0  2.0  2.0  ...  18621.0   \n",
      "4   6260.0   80000.0  1.0  2.0  2.0  32.0  1.0  2.0  0.0  0.0  ...  28242.0   \n",
      "\n",
      "        15       16       17      18       19      20      21      22      23  \n",
      "0   9006.0  10570.0  11421.0  2000.0   1200.0  1500.0  2000.0  1000.0  2000.0  \n",
      "1    473.0   1747.0   1193.0   390.0    944.0   473.0  5000.0  1200.0   980.0  \n",
      "2  29667.0  28596.0  29180.0   490.0  33299.0  1400.0   572.0   584.0   400.0  \n",
      "3  18024.0  18434.0  19826.0  3000.0   1000.0     0.0   700.0  1700.0     0.0  \n",
      "4  21400.0      0.0      0.0     7.0   1200.0  1408.0     0.0     0.0     0.0  \n",
      "\n",
      "[5 rows x 24 columns]\n",
      "\n",
      "Labels distribution:\n",
      " 0    19815\n",
      "1     5685\n",
      "Name: count, dtype: int64\n",
      "\n",
      "Missing values:\n",
      " ID                            0\n",
      "LIMIT_BAL                     0\n",
      "SEX                           0\n",
      "EDUCATION                     0\n",
      "MARRIAGE                      0\n",
      "AGE                           0\n",
      "PAY_0                         0\n",
      "PAY_2                         0\n",
      "PAY_3                         0\n",
      "PAY_4                         0\n",
      "PAY_5                         0\n",
      "PAY_6                         0\n",
      "BILL_AMT1                     0\n",
      "BILL_AMT2                     0\n",
      "BILL_AMT3                     0\n",
      "BILL_AMT4                     0\n",
      "BILL_AMT5                     0\n",
      "BILL_AMT6                     0\n",
      "PAY_AMT1                      0\n",
      "PAY_AMT2                      0\n",
      "PAY_AMT3                      0\n",
      "PAY_AMT4                      0\n",
      "PAY_AMT5                      0\n",
      "PAY_AMT6                      0\n",
      "default payment next month    0\n",
      "dtype: int64\n",
      "\n",
      "Summary statistics:\n",
      "                 ID       LIMIT_BAL           SEX     EDUCATION      MARRIAGE  \\\n",
      "count  25500.00000    25500.000000  25500.000000  25500.000000  25500.000000   \n",
      "mean   14956.95702   167569.007059      1.604118      1.852353      1.550392   \n",
      "std     8667.36982   130002.156470      0.489049      0.787991      0.522757   \n",
      "min        1.00000    10000.000000      1.000000      0.000000      0.000000   \n",
      "25%     7432.75000    50000.000000      1.000000      1.000000      1.000000   \n",
      "50%    14942.50000   140000.000000      2.000000      2.000000      2.000000   \n",
      "75%    22431.25000   240000.000000      2.000000      2.000000      2.000000   \n",
      "max    30000.00000  1000000.000000      2.000000      6.000000      3.000000   \n",
      "\n",
      "                AGE         PAY_0         PAY_2         PAY_3         PAY_4  \\\n",
      "count  25500.000000  25500.000000  25500.000000  25500.000000  25500.000000   \n",
      "mean      35.509294     -0.013098     -0.130784     -0.163294     -0.218235   \n",
      "std        9.200408      1.126314      1.199481      1.199697      1.169681   \n",
      "min       21.000000     -2.000000     -2.000000     -2.000000     -2.000000   \n",
      "25%       28.000000     -1.000000     -1.000000     -1.000000     -1.000000   \n",
      "50%       34.000000      0.000000      0.000000      0.000000      0.000000   \n",
      "75%       41.000000      0.000000      0.000000      0.000000      0.000000   \n",
      "max       79.000000      8.000000      8.000000      8.000000      8.000000   \n",
      "\n",
      "       ...      BILL_AMT4      BILL_AMT5      BILL_AMT6       PAY_AMT1  \\\n",
      "count  ...   25500.000000   25500.000000   25500.000000   25500.000000   \n",
      "mean   ...   43336.952196   40307.121059   38924.328157    5594.010863   \n",
      "std    ...   64433.082446   60870.691089   59659.509920   16235.253410   \n",
      "min    ... -170000.000000  -81334.000000 -339603.000000       0.000000   \n",
      "25%    ...    2338.750000    1767.250000    1266.750000    1000.000000   \n",
      "50%    ...   19111.000000   18112.500000   17150.000000    2100.000000   \n",
      "75%    ...   54475.000000   50178.250000   49132.500000    5006.000000   \n",
      "max    ...  891586.000000  927171.000000  961664.000000  873552.000000   \n",
      "\n",
      "           PAY_AMT2       PAY_AMT3       PAY_AMT4       PAY_AMT5  \\\n",
      "count  2.550000e+04   25500.000000   25500.000000   25500.000000   \n",
      "mean   5.934389e+03    5319.529647    4812.161373    4812.480431   \n",
      "std    2.381277e+04   18157.653215   15560.524538   15206.108094   \n",
      "min    0.000000e+00       0.000000       0.000000       0.000000   \n",
      "25%    8.270000e+02     396.000000     291.000000     251.000000   \n",
      "50%    2.002000e+03    1800.000000    1500.000000    1500.000000   \n",
      "75%    5.000000e+03    4560.500000    4000.000000    4071.500000   \n",
      "max    1.684259e+06  896040.000000  621000.000000  426529.000000   \n",
      "\n",
      "            PAY_AMT6  default payment next month  \n",
      "count   25500.000000                25500.000000  \n",
      "mean     5236.509176                    0.222941  \n",
      "std     17958.888070                    0.416227  \n",
      "min         0.000000                    0.000000  \n",
      "25%       125.750000                    0.000000  \n",
      "50%      1500.000000                    0.000000  \n",
      "75%      4000.000000                    0.000000  \n",
      "max    528666.000000                    1.000000  \n",
      "\n",
      "[8 rows x 25 columns]\n",
      "\n",
      "Test set dimensions: (4500, 23)\n"
     ]
    }
   ],
   "execution_count": 13
  },
  {
   "cell_type": "markdown",
   "metadata": {
    "id": "PjWrQr5vWTTG"
   },
   "source": [
    "## Preparing the data\n",
    "\n",
    "describe the choice made during the preprocessing operations, also taking into account the previous considerations during the data inspection."
   ]
  },
  {
   "cell_type": "code",
   "metadata": {
    "id": "J84aUJVUJbsI",
    "ExecuteTime": {
     "end_time": "2024-10-24T13:16:07.135296Z",
     "start_time": "2024-10-24T13:16:06.662312Z"
    }
   },
   "source": [
    "import pandas as pd\n",
    "from sklearn.model_selection import train_test_split\n",
    "from sklearn.preprocessing import StandardScaler\n",
    "import matplotlib.pyplot as plt\n",
    "\n",
    "def preprocess_data(X, scaler=None):\n",
    "    if scaler is None:\n",
    "        scaler = StandardScaler().fit(X)\n",
    "    return scaler.transform(X), scaler\n",
    "\n",
    "# Carica i dati di training e test\n",
    "df_train = pd.read_csv('./train.csv')\n",
    "\n",
    "# Separare le etichette\n",
    "labels_raw = df_train['default payment next month']\n",
    "\n",
    "# Colonne da eliminare (inclusa la colonna ID)\n",
    "columns_to_drop = [\"ID\"]\n",
    "\n",
    "# Creare il DataFrame delle features\n",
    "X_train_raw = df_train.drop(columns=columns_to_drop + ['default payment next month'])\n",
    "\n",
    "# Controlla valori mancanti\n",
    "print(\"Missing values:\\n\", df_train.isnull().sum())\n",
    "\n",
    "# Visualizza la varianza delle feature\n",
    "plt.figure(figsize=(10, 6))\n",
    "X_train_raw.var().plot(kind='bar')\n",
    "plt.title('Variance of Each Feature')\n",
    "plt.xlabel('Features')\n",
    "plt.ylabel('Variance')\n",
    "plt.xticks(rotation=90)\n",
    "plt.grid(axis='y')\n",
    "plt.tight_layout()\n",
    "plt.show()\n",
    "\n",
    "# Divisione in set di training e validazione\n",
    "X_train, X_val, y_train, y_val = train_test_split(X_train_raw, labels_raw, \n",
    "                                                  test_size=0.3, random_state=42, stratify=labels_raw)\n",
    "\n",
    "# Ridimensionamento delle feature\n",
    "X_train_scaled, scaler = preprocess_data(X_train)\n",
    "X_val_scaled, _ = preprocess_data(X_val, scaler)\n",
    "\n",
    "# Mostra la dimensione dei set\n",
    "print(f\"Shapes -> Train: {X_train_scaled.shape}, Val: {X_val_scaled.shape}, \"\n",
    "      f\"Encoded Train: {y_train.shape}, Encoded Val: {y_val.shape}\")\n"
   ],
   "outputs": [
    {
     "name": "stdout",
     "output_type": "stream",
     "text": [
      "Missing values:\n",
      " ID                            0\n",
      "LIMIT_BAL                     0\n",
      "SEX                           0\n",
      "EDUCATION                     0\n",
      "MARRIAGE                      0\n",
      "AGE                           0\n",
      "PAY_0                         0\n",
      "PAY_2                         0\n",
      "PAY_3                         0\n",
      "PAY_4                         0\n",
      "PAY_5                         0\n",
      "PAY_6                         0\n",
      "BILL_AMT1                     0\n",
      "BILL_AMT2                     0\n",
      "BILL_AMT3                     0\n",
      "BILL_AMT4                     0\n",
      "BILL_AMT5                     0\n",
      "BILL_AMT6                     0\n",
      "PAY_AMT1                      0\n",
      "PAY_AMT2                      0\n",
      "PAY_AMT3                      0\n",
      "PAY_AMT4                      0\n",
      "PAY_AMT5                      0\n",
      "PAY_AMT6                      0\n",
      "default payment next month    0\n",
      "dtype: int64\n"
     ]
    },
    {
     "data": {
      "text/plain": [
       "<Figure size 1000x600 with 1 Axes>"
      ],
      "image/png": "[encoded data removed]"
     },
     "metadata": {},
     "output_type": "display_data"
    },
    {
     "name": "stdout",
     "output_type": "stream",
     "text": [
      "Shapes -> Train: (17850, 23), Val: (7650, 23), Encoded Train: (17850,), Encoded Val: (7650,)\n"
     ]
    }
   ],
   "execution_count": 14
  },
  {
   "cell_type": "markdown",
   "metadata": {
    "id": "Eb9aljYxJbsK"
   },
   "source": [
    "## Building the network\n",
    "\n",
    "any description/comment about the procedure you followed in the choice of the network structure and hyperparameters goes here, together with consideration about the training/optimization procedure (e.g. optimizer choice, final activations, loss functions, training metrics)"
   ]
  },
  {
   "cell_type": "code",
   "metadata": {
    "id": "AS3zsRlBYHKW",
    "ExecuteTime": {
     "end_time": "2024-10-24T13:19:01.360337Z",
     "start_time": "2024-10-24T13:16:28.582029Z"
    }
   },
   "source": [
    "from keras.src.utils import plot_model\n",
    "from keras.src.optimizers import Adam\n",
    "from keras.src.layers import Dense, BatchNormalization, Dropout\n",
    "from keras import Sequential, Input\n",
    "from tensorflow.keras.callbacks import EarlyStopping, ReduceLROnPlateau, Callback\n",
    "from sklearn.metrics import f1_score\n",
    "\n",
    "# Definizione del modello\n",
    "def build_model(input_shape):\n",
    "    model = Sequential()\n",
    "    model.add(Input(shape=(input_shape,)))\n",
    "    model.add(Dense(256, activation='relu', kernel_regularizer='l2'))\n",
    "    model.add(BatchNormalization())\n",
    "    model.add(Dropout(0.4))\n",
    "    model.add(Dense(128, activation='relu', kernel_regularizer='l2'))\n",
    "    model.add(BatchNormalization())\n",
    "    model.add(Dropout(0.4))\n",
    "    model.add(Dense(64, activation='relu', kernel_regularizer='l2'))\n",
    "    model.add(BatchNormalization())\n",
    "    model.add(Dropout(0.4))\n",
    "    model.add(Dense(32, activation='relu', kernel_regularizer='l2'))\n",
    "    model.add(BatchNormalization())\n",
    "    model.add(Dense(1, activation='sigmoid'))  # Uscita per classificazione binaria\n",
    "    model.compile(optimizer=Adam(learning_rate=0.0001), \n",
    "                  loss='binary_crossentropy', \n",
    "                  metrics=['accuracy'])\n",
    "    return model\n",
    "\n",
    "input_shape = X_train_scaled.shape[1]  \n",
    "model = build_model(input_shape)\n",
    "\n",
    "batch_size = 64\n",
    "epochs = 60\n",
    "\n",
    "model.summary()\n",
    "\n",
    "# Definizione delle callback per l'early stopping e la riduzione del learning rate\n",
    "early_stopping = EarlyStopping(monitor='val_loss', patience=20, restore_best_weights=True)\n",
    "reduce_lr = ReduceLROnPlateau(monitor='val_loss', factor=0.5, patience=10, min_lr=1e-6)\n",
    "\n",
    "# Callback personalizzata per visualizzare i progressi durante l'addestramento\n",
    "class ProgressBar(Callback):\n",
    "    def on_epoch_begin(self, epoch, logs=None):\n",
    "        self.epoch = epoch\n",
    "    \n",
    "    def on_epoch_end(self, epoch, logs=None):\n",
    "        metrics = (f\"Epoch {self.epoch + 1}/{self.params['epochs']} - \"\n",
    "                   f\"Loss: {logs['loss']:.4f} - \"\n",
    "                   f\"Val Loss: {logs['val_loss']:.4f} - \"\n",
    "                   f\"Accuracy: {logs['accuracy']:.4f} - \"\n",
    "                   f\"Val Accuracy: {logs['val_accuracy']:.4f}\")\n",
    "        print(\"\\r\" + metrics, end='')\n",
    "\n",
    "# Addestramento del modello\n",
    "history = model.fit(X_train_scaled, y_train, \n",
    "                    validation_data=(X_val_scaled, y_val),\n",
    "                    epochs=epochs, batch_size=batch_size, \n",
    "                    callbacks=[early_stopping, reduce_lr, ProgressBar()],\n",
    "                    verbose=1)\n",
    "\n",
    "# Valutazione del modello sul set di validazione\n",
    "val_loss, val_accuracy = model.evaluate(X_val_scaled, y_val, verbose=0)\n",
    "\n",
    "print()\n",
    "print(\"\\nRESULTS:\")\n",
    "print(f\"{'Validation Loss:':<20} {val_loss:.4f}\")\n",
    "print(f\"{'Validation Accuracy:':<20} {val_accuracy:.4f}\")\n",
    "\n",
    "# Previsione e calcolo dell'F1 Score\n",
    "y_pred_prob = model.predict(X_val_scaled, verbose=0) \n",
    "y_pred = (y_pred_prob > 0.5).astype(int)\n",
    "\n",
    "f1 = f1_score(y_val, y_pred)\n",
    "print(f\"{'F1 Score:':<20} {f1:.4f}\")\n"
   ],
   "outputs": [
    {
     "data": {
      "text/plain": [
       "\u001B[1mModel: \"sequential_2\"\u001B[0m\n"
      ],
      "text/html": [
       "<pre style=\"white-space:pre;overflow-x:auto;line-height:normal;font-family:Menlo,'DejaVu Sans Mono',consolas,'Courier New',monospace\"><span style=\"font-weight: bold\">Model: \"sequential_2\"</span>\n",
       "</pre>\n"
      ]
     },
     "metadata": {},
     "output_type": "display_data"
    },
    {
     "data": {
      "text/plain": [
       "┏━━━━━━━━━━━━━━━━━━━━━━━━━━━━━━━━━┳━━━━━━━━━━━━━━━━━━━━━━━━┳━━━━━━━━━━━━━━━┓\n",
       "┃\u001B[1m \u001B[0m\u001B[1mLayer (type)                   \u001B[0m\u001B[1m \u001B[0m┃\u001B[1m \u001B[0m\u001B[1mOutput Shape          \u001B[0m\u001B[1m \u001B[0m┃\u001B[1m \u001B[0m\u001B[1m      Param #\u001B[0m\u001B[1m \u001B[0m┃\n",
       "┡━━━━━━━━━━━━━━━━━━━━━━━━━━━━━━━━━╇━━━━━━━━━━━━━━━━━━━━━━━━╇━━━━━━━━━━━━━━━┩\n",
       "│ dense_10 (\u001B[38;5;33mDense\u001B[0m)                │ (\u001B[38;5;45mNone\u001B[0m, \u001B[38;5;34m256\u001B[0m)            │         \u001B[38;5;34m6,144\u001B[0m │\n",
       "├─────────────────────────────────┼────────────────────────┼───────────────┤\n",
       "│ batch_normalization_8           │ (\u001B[38;5;45mNone\u001B[0m, \u001B[38;5;34m256\u001B[0m)            │         \u001B[38;5;34m1,024\u001B[0m │\n",
       "│ (\u001B[38;5;33mBatchNormalization\u001B[0m)            │                        │               │\n",
       "├─────────────────────────────────┼────────────────────────┼───────────────┤\n",
       "│ dropout_6 (\u001B[38;5;33mDropout\u001B[0m)             │ (\u001B[38;5;45mNone\u001B[0m, \u001B[38;5;34m256\u001B[0m)            │             \u001B[38;5;34m0\u001B[0m │\n",
       "├─────────────────────────────────┼────────────────────────┼───────────────┤\n",
       "│ dense_11 (\u001B[38;5;33mDense\u001B[0m)                │ (\u001B[38;5;45mNone\u001B[0m, \u001B[38;5;34m128\u001B[0m)            │        \u001B[38;5;34m32,896\u001B[0m │\n",
       "├─────────────────────────────────┼────────────────────────┼───────────────┤\n",
       "│ batch_normalization_9           │ (\u001B[38;5;45mNone\u001B[0m, \u001B[38;5;34m128\u001B[0m)            │           \u001B[38;5;34m512\u001B[0m │\n",
       "│ (\u001B[38;5;33mBatchNormalization\u001B[0m)            │                        │               │\n",
       "├─────────────────────────────────┼────────────────────────┼───────────────┤\n",
       "│ dropout_7 (\u001B[38;5;33mDropout\u001B[0m)             │ (\u001B[38;5;45mNone\u001B[0m, \u001B[38;5;34m128\u001B[0m)            │             \u001B[38;5;34m0\u001B[0m │\n",
       "├─────────────────────────────────┼────────────────────────┼───────────────┤\n",
       "│ dense_12 (\u001B[38;5;33mDense\u001B[0m)                │ (\u001B[38;5;45mNone\u001B[0m, \u001B[38;5;34m64\u001B[0m)             │         \u001B[38;5;34m8,256\u001B[0m │\n",
       "├─────────────────────────────────┼────────────────────────┼───────────────┤\n",
       "│ batch_normalization_10          │ (\u001B[38;5;45mNone\u001B[0m, \u001B[38;5;34m64\u001B[0m)             │           \u001B[38;5;34m256\u001B[0m │\n",
       "│ (\u001B[38;5;33mBatchNormalization\u001B[0m)            │                        │               │\n",
       "├─────────────────────────────────┼────────────────────────┼───────────────┤\n",
       "│ dropout_8 (\u001B[38;5;33mDropout\u001B[0m)             │ (\u001B[38;5;45mNone\u001B[0m, \u001B[38;5;34m64\u001B[0m)             │             \u001B[38;5;34m0\u001B[0m │\n",
       "├─────────────────────────────────┼────────────────────────┼───────────────┤\n",
       "│ dense_13 (\u001B[38;5;33mDense\u001B[0m)                │ (\u001B[38;5;45mNone\u001B[0m, \u001B[38;5;34m32\u001B[0m)             │         \u001B[38;5;34m2,080\u001B[0m │\n",
       "├─────────────────────────────────┼────────────────────────┼───────────────┤\n",
       "│ batch_normalization_11          │ (\u001B[38;5;45mNone\u001B[0m, \u001B[38;5;34m32\u001B[0m)             │           \u001B[38;5;34m128\u001B[0m │\n",
       "│ (\u001B[38;5;33mBatchNormalization\u001B[0m)            │                        │               │\n",
       "├─────────────────────────────────┼────────────────────────┼───────────────┤\n",
       "│ dense_14 (\u001B[38;5;33mDense\u001B[0m)                │ (\u001B[38;5;45mNone\u001B[0m, \u001B[38;5;34m1\u001B[0m)              │            \u001B[38;5;34m33\u001B[0m │\n",
       "└─────────────────────────────────┴────────────────────────┴───────────────┘\n"
      ],
      "text/html": [
       "<pre style=\"white-space:pre;overflow-x:auto;line-height:normal;font-family:Menlo,'DejaVu Sans Mono',consolas,'Courier New',monospace\">┏━━━━━━━━━━━━━━━━━━━━━━━━━━━━━━━━━┳━━━━━━━━━━━━━━━━━━━━━━━━┳━━━━━━━━━━━━━━━┓\n",
       "┃<span style=\"font-weight: bold\"> Layer (type)                    </span>┃<span style=\"font-weight: bold\"> Output Shape           </span>┃<span style=\"font-weight: bold\">       Param # </span>┃\n",
       "┡━━━━━━━━━━━━━━━━━━━━━━━━━━━━━━━━━╇━━━━━━━━━━━━━━━━━━━━━━━━╇━━━━━━━━━━━━━━━┩\n",
       "│ dense_10 (<span style=\"color: #0087ff; text-decoration-color: #0087ff\">Dense</span>)                │ (<span style=\"color: #00d7ff; text-decoration-color: #00d7ff\">None</span>, <span style=\"color: #00af00; text-decoration-color: #00af00\">256</span>)            │         <span style=\"color: #00af00; text-decoration-color: #00af00\">6,144</span> │\n",
       "├─────────────────────────────────┼────────────────────────┼───────────────┤\n",
       "│ batch_normalization_8           │ (<span style=\"color: #00d7ff; text-decoration-color: #00d7ff\">None</span>, <span style=\"color: #00af00; text-decoration-color: #00af00\">256</span>)            │         <span style=\"color: #00af00; text-decoration-color: #00af00\">1,024</span> │\n",
       "│ (<span style=\"color: #0087ff; text-decoration-color: #0087ff\">BatchNormalization</span>)            │                        │               │\n",
       "├─────────────────────────────────┼────────────────────────┼───────────────┤\n",
       "│ dropout_6 (<span style=\"color: #0087ff; text-decoration-color: #0087ff\">Dropout</span>)             │ (<span style=\"color: #00d7ff; text-decoration-color: #00d7ff\">None</span>, <span style=\"color: #00af00; text-decoration-color: #00af00\">256</span>)            │             <span style=\"color: #00af00; text-decoration-color: #00af00\">0</span> │\n",
       "├─────────────────────────────────┼────────────────────────┼───────────────┤\n",
       "│ dense_11 (<span style=\"color: #0087ff; text-decoration-color: #0087ff\">Dense</span>)                │ (<span style=\"color: #00d7ff; text-decoration-color: #00d7ff\">None</span>, <span style=\"color: #00af00; text-decoration-color: #00af00\">128</span>)            │        <span style=\"color: #00af00; text-decoration-color: #00af00\">32,896</span> │\n",
       "├─────────────────────────────────┼────────────────────────┼───────────────┤\n",
       "│ batch_normalization_9           │ (<span style=\"color: #00d7ff; text-decoration-color: #00d7ff\">None</span>, <span style=\"color: #00af00; text-decoration-color: #00af00\">128</span>)            │           <span style=\"color: #00af00; text-decoration-color: #00af00\">512</span> │\n",
       "│ (<span style=\"color: #0087ff; text-decoration-color: #0087ff\">BatchNormalization</span>)            │                        │               │\n",
       "├─────────────────────────────────┼────────────────────────┼───────────────┤\n",
       "│ dropout_7 (<span style=\"color: #0087ff; text-decoration-color: #0087ff\">Dropout</span>)             │ (<span style=\"color: #00d7ff; text-decoration-color: #00d7ff\">None</span>, <span style=\"color: #00af00; text-decoration-color: #00af00\">128</span>)            │             <span style=\"color: #00af00; text-decoration-color: #00af00\">0</span> │\n",
       "├─────────────────────────────────┼────────────────────────┼───────────────┤\n",
       "│ dense_12 (<span style=\"color: #0087ff; text-decoration-color: #0087ff\">Dense</span>)                │ (<span style=\"color: #00d7ff; text-decoration-color: #00d7ff\">None</span>, <span style=\"color: #00af00; text-decoration-color: #00af00\">64</span>)             │         <span style=\"color: #00af00; text-decoration-color: #00af00\">8,256</span> │\n",
       "├─────────────────────────────────┼────────────────────────┼───────────────┤\n",
       "│ batch_normalization_10          │ (<span style=\"color: #00d7ff; text-decoration-color: #00d7ff\">None</span>, <span style=\"color: #00af00; text-decoration-color: #00af00\">64</span>)             │           <span style=\"color: #00af00; text-decoration-color: #00af00\">256</span> │\n",
       "│ (<span style=\"color: #0087ff; text-decoration-color: #0087ff\">BatchNormalization</span>)            │                        │               │\n",
       "├─────────────────────────────────┼────────────────────────┼───────────────┤\n",
       "│ dropout_8 (<span style=\"color: #0087ff; text-decoration-color: #0087ff\">Dropout</span>)             │ (<span style=\"color: #00d7ff; text-decoration-color: #00d7ff\">None</span>, <span style=\"color: #00af00; text-decoration-color: #00af00\">64</span>)             │             <span style=\"color: #00af00; text-decoration-color: #00af00\">0</span> │\n",
       "├─────────────────────────────────┼────────────────────────┼───────────────┤\n",
       "│ dense_13 (<span style=\"color: #0087ff; text-decoration-color: #0087ff\">Dense</span>)                │ (<span style=\"color: #00d7ff; text-decoration-color: #00d7ff\">None</span>, <span style=\"color: #00af00; text-decoration-color: #00af00\">32</span>)             │         <span style=\"color: #00af00; text-decoration-color: #00af00\">2,080</span> │\n",
       "├─────────────────────────────────┼────────────────────────┼───────────────┤\n",
       "│ batch_normalization_11          │ (<span style=\"color: #00d7ff; text-decoration-color: #00d7ff\">None</span>, <span style=\"color: #00af00; text-decoration-color: #00af00\">32</span>)             │           <span style=\"color: #00af00; text-decoration-color: #00af00\">128</span> │\n",
       "│ (<span style=\"color: #0087ff; text-decoration-color: #0087ff\">BatchNormalization</span>)            │                        │               │\n",
       "├─────────────────────────────────┼────────────────────────┼───────────────┤\n",
       "│ dense_14 (<span style=\"color: #0087ff; text-decoration-color: #0087ff\">Dense</span>)                │ (<span style=\"color: #00d7ff; text-decoration-color: #00d7ff\">None</span>, <span style=\"color: #00af00; text-decoration-color: #00af00\">1</span>)              │            <span style=\"color: #00af00; text-decoration-color: #00af00\">33</span> │\n",
       "└─────────────────────────────────┴────────────────────────┴───────────────┘\n",
       "</pre>\n"
      ]
     },
     "metadata": {},
     "output_type": "display_data"
    },
    {
     "data": {
      "text/plain": [
       "\u001B[1m Total params: \u001B[0m\u001B[38;5;34m51,329\u001B[0m (200.50 KB)\n"
      ],
      "text/html": [
       "<pre style=\"white-space:pre;overflow-x:auto;line-height:normal;font-family:Menlo,'DejaVu Sans Mono',consolas,'Courier New',monospace\"><span style=\"font-weight: bold\"> Total params: </span><span style=\"color: #00af00; text-decoration-color: #00af00\">51,329</span> (200.50 KB)\n",
       "</pre>\n"
      ]
     },
     "metadata": {},
     "output_type": "display_data"
    },
    {
     "data": {
      "text/plain": [
       "\u001B[1m Trainable params: \u001B[0m\u001B[38;5;34m50,369\u001B[0m (196.75 KB)\n"
      ],
      "text/html": [
       "<pre style=\"white-space:pre;overflow-x:auto;line-height:normal;font-family:Menlo,'DejaVu Sans Mono',consolas,'Courier New',monospace\"><span style=\"font-weight: bold\"> Trainable params: </span><span style=\"color: #00af00; text-decoration-color: #00af00\">50,369</span> (196.75 KB)\n",
       "</pre>\n"
      ]
     },
     "metadata": {},
     "output_type": "display_data"
    },
    {
     "data": {
      "text/plain": [
       "\u001B[1m Non-trainable params: \u001B[0m\u001B[38;5;34m960\u001B[0m (3.75 KB)\n"
      ],
      "text/html": [
       "<pre style=\"white-space:pre;overflow-x:auto;line-height:normal;font-family:Menlo,'DejaVu Sans Mono',consolas,'Courier New',monospace\"><span style=\"font-weight: bold\"> Non-trainable params: </span><span style=\"color: #00af00; text-decoration-color: #00af00\">960</span> (3.75 KB)\n",
       "</pre>\n"
      ]
     },
     "metadata": {},
     "output_type": "display_data"
    },
    {
     "name": "stdout",
     "output_type": "stream",
     "text": [
      "Epoch 1/60\n",
      "\u001B[1m279/279\u001B[0m \u001B[32m━━━━━━━━━━━━━━━━━━━━\u001B[0m\u001B[37m\u001B[0m \u001B[1m6s\u001B[0m 9ms/step - accuracy: 0.5755 - loss: 4.1217 - val_accuracy: 0.8048 - val_loss: 3.6206 - learning_rate: 1.0000e-04\n",
      "Epoch 2/60\n",
      "\u001B[1m279/279\u001B[0m \u001B[32m━━━━━━━━━━━━━━━━━━━━\u001B[0m\u001B[37m\u001B[0m \u001B[1m2s\u001B[0m 7ms/step - accuracy: 0.6641 - loss: 3.6939 - val_accuracy: 0.8095 - val_loss: 3.3160 - learning_rate: 1.0000e-04\n",
      "Epoch 3/60\n",
      "\u001B[1m279/279\u001B[0m \u001B[32m━━━━━━━━━━━━━━━━━━━━\u001B[0m\u001B[37m\u001B[0m \u001B[1m2s\u001B[0m 9ms/step - accuracy: 0.7248 - loss: 3.3367 - val_accuracy: 0.8118 - val_loss: 3.0237 - learning_rate: 1.0000e-04\n",
      "Epoch 4/60\n",
      "\u001B[1m279/279\u001B[0m \u001B[32m━━━━━━━━━━━━━━━━━━━━\u001B[0m\u001B[37m\u001B[0m \u001B[1m2s\u001B[0m 8ms/step - accuracy: 0.7575 - loss: 3.0264 - val_accuracy: 0.8123 - val_loss: 2.7481 - learning_rate: 1.0000e-04\n",
      "Epoch 5/60\n",
      "\u001B[1m279/279\u001B[0m \u001B[32m━━━━━━━━━━━━━━━━━━━━\u001B[0m\u001B[37m\u001B[0m \u001B[1m2s\u001B[0m 8ms/step - accuracy: 0.7749 - loss: 2.7443 - val_accuracy: 0.8132 - val_loss: 2.5028 - learning_rate: 1.0000e-04\n",
      "Epoch 6/60\n",
      "\u001B[1m279/279\u001B[0m \u001B[32m━━━━━━━━━━━━━━━━━━━━\u001B[0m\u001B[37m\u001B[0m \u001B[1m2s\u001B[0m 8ms/step - accuracy: 0.7890 - loss: 2.4967 - val_accuracy: 0.8122 - val_loss: 2.2786 - learning_rate: 1.0000e-04\n",
      "Epoch 7/60\n",
      "\u001B[1m279/279\u001B[0m \u001B[32m━━━━━━━━━━━━━━━━━━━━\u001B[0m\u001B[37m\u001B[0m \u001B[1m2s\u001B[0m 8ms/step - accuracy: 0.7927 - loss: 2.2713 - val_accuracy: 0.8107 - val_loss: 2.0799 - learning_rate: 1.0000e-04\n",
      "Epoch 8/60\n",
      "\u001B[1m279/279\u001B[0m \u001B[32m━━━━━━━━━━━━━━━━━━━━\u001B[0m\u001B[37m\u001B[0m \u001B[1m2s\u001B[0m 7ms/step - accuracy: 0.7970 - loss: 2.0712 - val_accuracy: 0.8101 - val_loss: 1.9028 - learning_rate: 1.0000e-04\n",
      "Epoch 9/60\n",
      "\u001B[1m279/279\u001B[0m \u001B[32m━━━━━━━━━━━━━━━━━━━━\u001B[0m\u001B[37m\u001B[0m \u001B[1m2s\u001B[0m 7ms/step - accuracy: 0.7992 - loss: 1.8952 - val_accuracy: 0.8108 - val_loss: 1.7458 - learning_rate: 1.0000e-04\n",
      "Epoch 10/60\n",
      "\u001B[1m279/279\u001B[0m \u001B[32m━━━━━━━━━━━━━━━━━━━━\u001B[0m\u001B[37m\u001B[0m \u001B[1m2s\u001B[0m 8ms/step - accuracy: 0.8032 - loss: 1.7373 - val_accuracy: 0.8067 - val_loss: 1.6072 - learning_rate: 1.0000e-04\n",
      "Epoch 11/60\n",
      "\u001B[1m279/279\u001B[0m \u001B[32m━━━━━━━━━━━━━━━━━━━━\u001B[0m\u001B[37m\u001B[0m \u001B[1m2s\u001B[0m 6ms/step - accuracy: 0.8078 - loss: 1.5928 - val_accuracy: 0.8108 - val_loss: 1.4815 - learning_rate: 1.0000e-04\n",
      "Epoch 12/60\n",
      "\u001B[1m279/279\u001B[0m \u001B[32m━━━━━━━━━━━━━━━━━━━━\u001B[0m\u001B[37m\u001B[0m \u001B[1m2s\u001B[0m 7ms/step - accuracy: 0.8029 - loss: 1.4766 - val_accuracy: 0.8080 - val_loss: 1.3730 - learning_rate: 1.0000e-04\n",
      "Epoch 13/60\n",
      "\u001B[1m279/279\u001B[0m \u001B[32m━━━━━━━━━━━━━━━━━━━━\u001B[0m\u001B[37m\u001B[0m \u001B[1m2s\u001B[0m 8ms/step - accuracy: 0.8002 - loss: 1.3720 - val_accuracy: 0.8107 - val_loss: 1.2739 - learning_rate: 1.0000e-04\n",
      "Epoch 14/60\n",
      "\u001B[1m279/279\u001B[0m \u001B[32m━━━━━━━━━━━━━━━━━━━━\u001B[0m\u001B[37m\u001B[0m \u001B[1m2s\u001B[0m 9ms/step - accuracy: 0.7974 - loss: 1.2787 - val_accuracy: 0.8128 - val_loss: 1.1871 - learning_rate: 1.0000e-04\n",
      "Epoch 15/60\n",
      "\u001B[1m279/279\u001B[0m \u001B[32m━━━━━━━━━━━━━━━━━━━━\u001B[0m\u001B[37m\u001B[0m \u001B[1m2s\u001B[0m 6ms/step - accuracy: 0.8016 - loss: 1.1866 - val_accuracy: 0.8102 - val_loss: 1.1086 - learning_rate: 1.0000e-04\n",
      "Epoch 16/60\n",
      "\u001B[1m279/279\u001B[0m \u001B[32m━━━━━━━━━━━━━━━━━━━━\u001B[0m\u001B[37m\u001B[0m \u001B[1m3s\u001B[0m 9ms/step - accuracy: 0.8115 - loss: 1.1004 - val_accuracy: 0.8068 - val_loss: 1.0409 - learning_rate: 1.0000e-04\n",
      "Epoch 17/60\n",
      "\u001B[1m279/279\u001B[0m \u001B[32m━━━━━━━━━━━━━━━━━━━━\u001B[0m\u001B[37m\u001B[0m \u001B[1m2s\u001B[0m 9ms/step - accuracy: 0.7987 - loss: 1.0454 - val_accuracy: 0.8101 - val_loss: 0.9789 - learning_rate: 1.0000e-04\n",
      "Epoch 18/60\n",
      "\u001B[1m279/279\u001B[0m \u001B[32m━━━━━━━━━━━━━━━━━━━━\u001B[0m\u001B[37m\u001B[0m \u001B[1m3s\u001B[0m 9ms/step - accuracy: 0.8070 - loss: 0.9778 - val_accuracy: 0.8162 - val_loss: 0.9238 - learning_rate: 1.0000e-04\n",
      "Epoch 19/60\n",
      "\u001B[1m279/279\u001B[0m \u001B[32m━━━━━━━━━━━━━━━━━━━━\u001B[0m\u001B[37m\u001B[0m \u001B[1m2s\u001B[0m 9ms/step - accuracy: 0.8113 - loss: 0.9177 - val_accuracy: 0.8133 - val_loss: 0.8755 - learning_rate: 1.0000e-04\n",
      "Epoch 20/60\n",
      "\u001B[1m279/279\u001B[0m \u001B[32m━━━━━━━━━━━━━━━━━━━━\u001B[0m\u001B[37m\u001B[0m \u001B[1m3s\u001B[0m 9ms/step - accuracy: 0.8071 - loss: 0.8715 - val_accuracy: 0.8133 - val_loss: 0.8326 - learning_rate: 1.0000e-04\n",
      "Epoch 21/60\n",
      "\u001B[1m279/279\u001B[0m \u001B[32m━━━━━━━━━━━━━━━━━━━━\u001B[0m\u001B[37m\u001B[0m \u001B[1m2s\u001B[0m 8ms/step - accuracy: 0.8058 - loss: 0.8365 - val_accuracy: 0.8158 - val_loss: 0.7922 - learning_rate: 1.0000e-04\n",
      "Epoch 22/60\n",
      "\u001B[1m279/279\u001B[0m \u001B[32m━━━━━━━━━━━━━━━━━━━━\u001B[0m\u001B[37m\u001B[0m \u001B[1m3s\u001B[0m 9ms/step - accuracy: 0.8109 - loss: 0.7908 - val_accuracy: 0.8119 - val_loss: 0.7605 - learning_rate: 1.0000e-04\n",
      "Epoch 23/60\n",
      "\u001B[1m279/279\u001B[0m \u001B[32m━━━━━━━━━━━━━━━━━━━━\u001B[0m\u001B[37m\u001B[0m \u001B[1m2s\u001B[0m 8ms/step - accuracy: 0.8098 - loss: 0.7558 - val_accuracy: 0.8139 - val_loss: 0.7280 - learning_rate: 1.0000e-04\n",
      "Epoch 24/60\n",
      "\u001B[1m279/279\u001B[0m \u001B[32m━━━━━━━━━━━━━━━━━━━━\u001B[0m\u001B[37m\u001B[0m \u001B[1m2s\u001B[0m 8ms/step - accuracy: 0.8059 - loss: 0.7393 - val_accuracy: 0.8141 - val_loss: 0.7011 - learning_rate: 1.0000e-04\n",
      "Epoch 25/60\n",
      "\u001B[1m279/279\u001B[0m \u001B[32m━━━━━━━━━━━━━━━━━━━━\u001B[0m\u001B[37m\u001B[0m \u001B[1m2s\u001B[0m 6ms/step - accuracy: 0.8101 - loss: 0.7018 - val_accuracy: 0.8157 - val_loss: 0.6747 - learning_rate: 1.0000e-04\n",
      "Epoch 26/60\n",
      "\u001B[1m279/279\u001B[0m \u001B[32m━━━━━━━━━━━━━━━━━━━━\u001B[0m\u001B[37m\u001B[0m \u001B[1m2s\u001B[0m 6ms/step - accuracy: 0.8054 - loss: 0.6891 - val_accuracy: 0.8175 - val_loss: 0.6519 - learning_rate: 1.0000e-04\n",
      "Epoch 27/60\n",
      "\u001B[1m279/279\u001B[0m \u001B[32m━━━━━━━━━━━━━━━━━━━━\u001B[0m\u001B[37m\u001B[0m \u001B[1m2s\u001B[0m 8ms/step - accuracy: 0.8142 - loss: 0.6543 - val_accuracy: 0.8179 - val_loss: 0.6326 - learning_rate: 1.0000e-04\n",
      "Epoch 28/60\n",
      "\u001B[1m279/279\u001B[0m \u001B[32m━━━━━━━━━━━━━━━━━━━━\u001B[0m\u001B[37m\u001B[0m \u001B[1m3s\u001B[0m 9ms/step - accuracy: 0.8156 - loss: 0.6286 - val_accuracy: 0.8153 - val_loss: 0.6158 - learning_rate: 1.0000e-04\n",
      "Epoch 29/60\n",
      "\u001B[1m279/279\u001B[0m \u001B[32m━━━━━━━━━━━━━━━━━━━━\u001B[0m\u001B[37m\u001B[0m \u001B[1m2s\u001B[0m 7ms/step - accuracy: 0.8083 - loss: 0.6216 - val_accuracy: 0.8182 - val_loss: 0.5985 - learning_rate: 1.0000e-04\n",
      "Epoch 30/60\n",
      "\u001B[1m279/279\u001B[0m \u001B[32m━━━━━━━━━━━━━━━━━━━━\u001B[0m\u001B[37m\u001B[0m \u001B[1m2s\u001B[0m 8ms/step - accuracy: 0.8139 - loss: 0.6038 - val_accuracy: 0.8183 - val_loss: 0.5857 - learning_rate: 1.0000e-04\n",
      "Epoch 31/60\n",
      "\u001B[1m279/279\u001B[0m \u001B[32m━━━━━━━━━━━━━━━━━━━━\u001B[0m\u001B[37m\u001B[0m \u001B[1m3s\u001B[0m 9ms/step - accuracy: 0.8172 - loss: 0.5777 - val_accuracy: 0.8196 - val_loss: 0.5725 - learning_rate: 1.0000e-04\n",
      "Epoch 32/60\n",
      "\u001B[1m279/279\u001B[0m \u001B[32m━━━━━━━━━━━━━━━━━━━━\u001B[0m\u001B[37m\u001B[0m \u001B[1m2s\u001B[0m 8ms/step - accuracy: 0.8151 - loss: 0.5739 - val_accuracy: 0.8186 - val_loss: 0.5617 - learning_rate: 1.0000e-04\n",
      "Epoch 33/60\n",
      "\u001B[1m279/279\u001B[0m \u001B[32m━━━━━━━━━━━━━━━━━━━━\u001B[0m\u001B[37m\u001B[0m \u001B[1m2s\u001B[0m 7ms/step - accuracy: 0.8092 - loss: 0.5685 - val_accuracy: 0.8183 - val_loss: 0.5513 - learning_rate: 1.0000e-04\n",
      "Epoch 34/60\n",
      "\u001B[1m279/279\u001B[0m \u001B[32m━━━━━━━━━━━━━━━━━━━━\u001B[0m\u001B[37m\u001B[0m \u001B[1m2s\u001B[0m 6ms/step - accuracy: 0.8115 - loss: 0.5579 - val_accuracy: 0.8182 - val_loss: 0.5428 - learning_rate: 1.0000e-04\n",
      "Epoch 35/60\n",
      "\u001B[1m279/279\u001B[0m \u001B[32m━━━━━━━━━━━━━━━━━━━━\u001B[0m\u001B[37m\u001B[0m \u001B[1m2s\u001B[0m 6ms/step - accuracy: 0.8112 - loss: 0.5463 - val_accuracy: 0.8191 - val_loss: 0.5340 - learning_rate: 1.0000e-04\n",
      "Epoch 36/60\n",
      "\u001B[1m279/279\u001B[0m \u001B[32m━━━━━━━━━━━━━━━━━━━━\u001B[0m\u001B[37m\u001B[0m \u001B[1m2s\u001B[0m 8ms/step - accuracy: 0.8093 - loss: 0.5425 - val_accuracy: 0.8209 - val_loss: 0.5261 - learning_rate: 1.0000e-04\n",
      "Epoch 37/60\n",
      "\u001B[1m279/279\u001B[0m \u001B[32m━━━━━━━━━━━━━━━━━━━━\u001B[0m\u001B[37m\u001B[0m \u001B[1m3s\u001B[0m 9ms/step - accuracy: 0.8145 - loss: 0.5293 - val_accuracy: 0.8190 - val_loss: 0.5193 - learning_rate: 1.0000e-04\n",
      "Epoch 38/60\n",
      "\u001B[1m279/279\u001B[0m \u001B[32m━━━━━━━━━━━━━━━━━━━━\u001B[0m\u001B[37m\u001B[0m \u001B[1m3s\u001B[0m 10ms/step - accuracy: 0.8172 - loss: 0.5190 - val_accuracy: 0.8197 - val_loss: 0.5146 - learning_rate: 1.0000e-04\n",
      "Epoch 39/60\n",
      "\u001B[1m279/279\u001B[0m \u001B[32m━━━━━━━━━━━━━━━━━━━━\u001B[0m\u001B[37m\u001B[0m \u001B[1m3s\u001B[0m 10ms/step - accuracy: 0.8106 - loss: 0.5211 - val_accuracy: 0.8191 - val_loss: 0.5098 - learning_rate: 1.0000e-04\n",
      "Epoch 40/60\n",
      "\u001B[1m279/279\u001B[0m \u001B[32m━━━━━━━━━━━━━━━━━━━━\u001B[0m\u001B[37m\u001B[0m \u001B[1m3s\u001B[0m 9ms/step - accuracy: 0.8132 - loss: 0.5131 - val_accuracy: 0.8190 - val_loss: 0.5041 - learning_rate: 1.0000e-04\n",
      "Epoch 41/60\n",
      "\u001B[1m279/279\u001B[0m \u001B[32m━━━━━━━━━━━━━━━━━━━━\u001B[0m\u001B[37m\u001B[0m \u001B[1m2s\u001B[0m 6ms/step - accuracy: 0.8093 - loss: 0.5130 - val_accuracy: 0.8196 - val_loss: 0.4993 - learning_rate: 1.0000e-04\n",
      "Epoch 42/60\n",
      "\u001B[1m279/279\u001B[0m \u001B[32m━━━━━━━━━━━━━━━━━━━━\u001B[0m\u001B[37m\u001B[0m \u001B[1m2s\u001B[0m 7ms/step - accuracy: 0.8181 - loss: 0.4998 - val_accuracy: 0.8173 - val_loss: 0.4960 - learning_rate: 1.0000e-04\n",
      "Epoch 43/60\n",
      "\u001B[1m279/279\u001B[0m \u001B[32m━━━━━━━━━━━━━━━━━━━━\u001B[0m\u001B[37m\u001B[0m \u001B[1m3s\u001B[0m 9ms/step - accuracy: 0.8124 - loss: 0.5023 - val_accuracy: 0.8200 - val_loss: 0.4908 - learning_rate: 1.0000e-04\n",
      "Epoch 44/60\n",
      "\u001B[1m279/279\u001B[0m \u001B[32m━━━━━━━━━━━━━━━━━━━━\u001B[0m\u001B[37m\u001B[0m \u001B[1m2s\u001B[0m 9ms/step - accuracy: 0.8137 - loss: 0.4999 - val_accuracy: 0.8171 - val_loss: 0.4889 - learning_rate: 1.0000e-04\n",
      "Epoch 45/60\n",
      "\u001B[1m279/279\u001B[0m \u001B[32m━━━━━━━━━━━━━━━━━━━━\u001B[0m\u001B[37m\u001B[0m \u001B[1m3s\u001B[0m 10ms/step - accuracy: 0.8084 - loss: 0.4984 - val_accuracy: 0.8208 - val_loss: 0.4843 - learning_rate: 1.0000e-04\n",
      "Epoch 46/60\n",
      "\u001B[1m279/279\u001B[0m \u001B[32m━━━━━━━━━━━━━━━━━━━━\u001B[0m\u001B[37m\u001B[0m \u001B[1m3s\u001B[0m 11ms/step - accuracy: 0.8148 - loss: 0.4892 - val_accuracy: 0.8191 - val_loss: 0.4840 - learning_rate: 1.0000e-04\n",
      "Epoch 47/60\n",
      "\u001B[1m279/279\u001B[0m \u001B[32m━━━━━━━━━━━━━━━━━━━━\u001B[0m\u001B[37m\u001B[0m \u001B[1m3s\u001B[0m 12ms/step - accuracy: 0.8155 - loss: 0.4879 - val_accuracy: 0.8196 - val_loss: 0.4798 - learning_rate: 1.0000e-04\n",
      "Epoch 48/60\n",
      "\u001B[1m279/279\u001B[0m \u001B[32m━━━━━━━━━━━━━━━━━━━━\u001B[0m\u001B[37m\u001B[0m \u001B[1m3s\u001B[0m 12ms/step - accuracy: 0.8149 - loss: 0.4884 - val_accuracy: 0.8199 - val_loss: 0.4777 - learning_rate: 1.0000e-04\n",
      "Epoch 49/60\n",
      "\u001B[1m279/279\u001B[0m \u001B[32m━━━━━━━━━━━━━━━━━━━━\u001B[0m\u001B[37m\u001B[0m \u001B[1m3s\u001B[0m 12ms/step - accuracy: 0.8156 - loss: 0.4774 - val_accuracy: 0.8183 - val_loss: 0.4769 - learning_rate: 1.0000e-04\n",
      "Epoch 50/60\n",
      "\u001B[1m279/279\u001B[0m \u001B[32m━━━━━━━━━━━━━━━━━━━━\u001B[0m\u001B[37m\u001B[0m \u001B[1m2s\u001B[0m 9ms/step - accuracy: 0.8115 - loss: 0.4836 - val_accuracy: 0.8193 - val_loss: 0.4739 - learning_rate: 1.0000e-04\n",
      "Epoch 51/60\n",
      "\u001B[1m279/279\u001B[0m \u001B[32m━━━━━━━━━━━━━━━━━━━━\u001B[0m\u001B[37m\u001B[0m \u001B[1m3s\u001B[0m 10ms/step - accuracy: 0.8078 - loss: 0.4895 - val_accuracy: 0.8182 - val_loss: 0.4745 - learning_rate: 1.0000e-04\n",
      "Epoch 52/60\n",
      "\u001B[1m279/279\u001B[0m \u001B[32m━━━━━━━━━━━━━━━━━━━━\u001B[0m\u001B[37m\u001B[0m \u001B[1m3s\u001B[0m 9ms/step - accuracy: 0.8134 - loss: 0.4757 - val_accuracy: 0.8200 - val_loss: 0.4713 - learning_rate: 1.0000e-04\n",
      "Epoch 53/60\n",
      "\u001B[1m279/279\u001B[0m \u001B[32m━━━━━━━━━━━━━━━━━━━━\u001B[0m\u001B[37m\u001B[0m \u001B[1m2s\u001B[0m 9ms/step - accuracy: 0.8196 - loss: 0.4734 - val_accuracy: 0.8201 - val_loss: 0.4685 - learning_rate: 1.0000e-04\n",
      "Epoch 54/60\n",
      "\u001B[1m279/279\u001B[0m \u001B[32m━━━━━━━━━━━━━━━━━━━━\u001B[0m\u001B[37m\u001B[0m \u001B[1m3s\u001B[0m 10ms/step - accuracy: 0.8180 - loss: 0.4676 - val_accuracy: 0.8191 - val_loss: 0.4684 - learning_rate: 1.0000e-04\n",
      "Epoch 55/60\n",
      "\u001B[1m279/279\u001B[0m \u001B[32m━━━━━━━━━━━━━━━━━━━━\u001B[0m\u001B[37m\u001B[0m \u001B[1m2s\u001B[0m 8ms/step - accuracy: 0.8217 - loss: 0.4599 - val_accuracy: 0.8197 - val_loss: 0.4644 - learning_rate: 1.0000e-04\n",
      "Epoch 56/60\n",
      "\u001B[1m279/279\u001B[0m \u001B[32m━━━━━━━━━━━━━━━━━━━━\u001B[0m\u001B[37m\u001B[0m \u001B[1m3s\u001B[0m 10ms/step - accuracy: 0.8277 - loss: 0.4519 - val_accuracy: 0.8207 - val_loss: 0.4651 - learning_rate: 1.0000e-04\n",
      "Epoch 57/60\n",
      "\u001B[1m279/279\u001B[0m \u001B[32m━━━━━━━━━━━━━━━━━━━━\u001B[0m\u001B[37m\u001B[0m \u001B[1m3s\u001B[0m 11ms/step - accuracy: 0.8060 - loss: 0.4735 - val_accuracy: 0.8187 - val_loss: 0.4652 - learning_rate: 1.0000e-04\n",
      "Epoch 58/60\n",
      "\u001B[1m279/279\u001B[0m \u001B[32m━━━━━━━━━━━━━━━━━━━━\u001B[0m\u001B[37m\u001B[0m \u001B[1m4s\u001B[0m 13ms/step - accuracy: 0.8171 - loss: 0.4612 - val_accuracy: 0.8197 - val_loss: 0.4631 - learning_rate: 1.0000e-04\n",
      "Epoch 59/60\n",
      "\u001B[1m279/279\u001B[0m \u001B[32m━━━━━━━━━━━━━━━━━━━━\u001B[0m\u001B[37m\u001B[0m \u001B[1m5s\u001B[0m 11ms/step - accuracy: 0.8176 - loss: 0.4660 - val_accuracy: 0.8208 - val_loss: 0.4601 - learning_rate: 1.0000e-04\n",
      "Epoch 60/60\n",
      "\u001B[1m279/279\u001B[0m \u001B[32m━━━━━━━━━━━━━━━━━━━━\u001B[0m\u001B[37m\u001B[0m \u001B[1m3s\u001B[0m 10ms/step - accuracy: 0.8129 - loss: 0.4690 - val_accuracy: 0.8204 - val_loss: 0.4595 - learning_rate: 1.0000e-04\n",
      "\n",
      "\n",
      "RESULTS:\n",
      "Validation Loss:     0.4595\n",
      "Validation Accuracy: 0.8204\n",
      "F1 Score:            0.4858\n"
     ]
    }
   ],
   "execution_count": 16
  },
  {
   "cell_type": "markdown",
   "metadata": {
    "id": "8w7UIdtIWuCD"
   },
   "source": [
    "## Analyze and comment the training results\n",
    "\n",
    "here goes any comment/visualization of the training history and any initial consideration on the training results  "
   ]
  },
  {
   "cell_type": "markdown",
   "metadata": {
    "id": "2jiOZzvyJbsN"
   },
   "source": [
    "## Validate the model and comment the results\n",
    "\n",
    "please describe the evaluation procedure on a validation set, commenting the generalization capability of your model (e.g. under/overfitting). You may also describe the performance metrics that you choose: what is the most suitable performance measure (or set of performance measures) in this case/dataset, according to you? Why?"
   ]
  },
  {
   "cell_type": "code",
   "metadata": {
    "id": "sgGlAIaEJbsO",
    "ExecuteTime": {
     "end_time": "2024-10-24T13:19:07.598523Z",
     "start_time": "2024-10-24T13:19:07.006834Z"
    }
   },
   "source": [
    "from sklearn.metrics import confusion_matrix, classification_report, roc_auc_score\n",
    "\n",
    "# Step 1: Generate predictions on the validation set\n",
    "y_val_pred_prob = model.predict(X_val_scaled)\n",
    "y_val_pred = (y_val_pred_prob > 0.5).astype(int)  # Threshold of 0.5 for binary classification\n",
    "\n",
    "# Step 2: Confusion Matrix\n",
    "confusion = confusion_matrix(y_val, y_val_pred)\n",
    "print(\"Confusion Matrix:\")\n",
    "print(confusion)\n",
    "\n",
    "# Step 3: Classification Report\n",
    "class_report = classification_report(y_val, y_val_pred, target_names=[\"No Default\", \"Default\"])\n",
    "print(\"Classification Report:\")\n",
    "print(class_report)\n",
    "\n",
    "# Step 4: Calculate ROC AUC\n",
    "roc_auc = roc_auc_score(y_val, y_val_pred_prob)\n",
    "print(f\"ROC AUC Score: {roc_auc:.4f}\")\n"
   ],
   "outputs": [
    {
     "name": "stdout",
     "output_type": "stream",
     "text": [
      "\u001B[1m240/240\u001B[0m \u001B[32m━━━━━━━━━━━━━━━━━━━━\u001B[0m\u001B[37m\u001B[0m \u001B[1m0s\u001B[0m 2ms/step\n",
      "Confusion Matrix:\n",
      "[[5627  318]\n",
      " [1056  649]]\n",
      "Classification Report:\n",
      "              precision    recall  f1-score   support\n",
      "\n",
      "  No Default       0.84      0.95      0.89      5945\n",
      "     Default       0.67      0.38      0.49      1705\n",
      "\n",
      "    accuracy                           0.82      7650\n",
      "   macro avg       0.76      0.66      0.69      7650\n",
      "weighted avg       0.80      0.82      0.80      7650\n",
      "\n",
      "ROC AUC Score: 0.7830\n"
     ]
    }
   ],
   "execution_count": 17
  },
  {
   "cell_type": "markdown",
   "metadata": {
    "id": "5MhCwXroWmf9"
   },
   "source": [
    "## Make predictions (on the provided test set)\n",
    "\n",
    "Based on the results obtained and analyzed during the training and the validation phases, what are your (rather _personal_) expectations with respect to the performances of your model on the blind external test set? Briefly motivate your answer."
   ]
  },
  {
   "cell_type": "code",
   "metadata": {
    "id": "fbtA2vJRWpMY",
    "ExecuteTime": {
     "end_time": "2024-10-24T13:19:09.353496Z",
     "start_time": "2024-10-24T13:19:08.906083Z"
    }
   },
   "source": [
    "import pandas as pd\n",
    "\n",
    "# Step 9: Importare il dataframe da test.csv e fare il clipping\n",
    "test_df = pd.read_csv('test.csv')\n",
    "\n",
    "# Clipping dei dati\n",
    "test_df['EDUCATION'] = test_df['EDUCATION'].clip(lower=1, upper=4)\n",
    "test_df['MARRIAGE'] = test_df['MARRIAGE'].clip(lower=1, upper=3)\n",
    "\n",
    "for pay_col in ['PAY_0', 'PAY_2', 'PAY_3', 'PAY_4', 'PAY_5', 'PAY_6']:\n",
    "    test_df[pay_col] = test_df[pay_col].clip(lower=0, upper=9)\n",
    "\n",
    "# Rimuovi la colonna 'ID', che non è una feature\n",
    "if 'ID' in test_df.columns:\n",
    "    test_df = test_df.drop(columns=['ID'])\n",
    "\n",
    "# Step 10: Preparare i dati di test\n",
    "X_test = test_df.copy()  # Mantieni il DataFrame per avere i nomi delle colonne\n",
    "\n",
    "# Standardizzazione dei dati se le dimensioni corrispondono\n",
    "if X_test.shape[1] == scaler.n_features_in_:\n",
    "    X_test_scaled = scaler.transform(X_test)  # Usa il DataFrame per la trasformazione\n",
    "else:\n",
    "    raise ValueError(\"Impossibile standardizzare i dati: il numero di colonne non corrisponde.\")\n",
    "\n",
    "# Step 11: Fare previsioni\n",
    "test_predictions_prob = model.predict(X_test_scaled)\n",
    "test_predictions = (test_predictions_prob > 0.5).astype(int)\n",
    "\n",
    "# Step 12: Salvare le previsioni in test_predictions.csv\n",
    "pd.DataFrame(test_predictions, columns=['Predicted']).to_csv('test_predictions.csv', index=False, header=False)"
   ],
   "outputs": [
    {
     "name": "stdout",
     "output_type": "stream",
     "text": [
      "\u001B[1m141/141\u001B[0m \u001B[32m━━━━━━━━━━━━━━━━━━━━\u001B[0m\u001B[37m\u001B[0m \u001B[1m0s\u001B[0m 2ms/step\n"
     ]
    }
   ],
   "execution_count": 18
  },
  {
   "metadata": {
    "ExecuteTime": {
     "end_time": "2024-10-24T13:19:10.516221Z",
     "start_time": "2024-10-24T13:19:10.500867Z"
    }
   },
   "cell_type": "code",
   "source": [
    "\n",
    "# Importare le librerie necessarie\n",
    "from sklearn.metrics import accuracy_score, f1_score\n",
    "\n",
    "# Step 13: Importare le etichette corrette\n",
    "true_labels_df = pd.read_csv('test_with_labels_real.csv', header=None)  # Assicurati di impostare header=None se non ci sono intestazioni\n",
    "true_labels = true_labels_df[0].values  # Considerando che le etichette sono nella prima colonna\n",
    "\n",
    "# Step 14: Importare le predizioni fatte\n",
    "predictions_df = pd.read_csv('test_predictions.csv', header=None)\n",
    "predictions = predictions_df[0].values  # Considerando che le predizioni sono nella prima colonna\n",
    "\n",
    "# Step 15: Calcolare l'accuratezza e il punteggio F1\n",
    "accuracy = accuracy_score(true_labels, predictions)\n",
    "f1 = f1_score(true_labels, predictions)\n",
    "\n",
    "# Step 16: Stampare i risultati\n",
    "print(f'Accuracy: {accuracy:.4f}')\n",
    "print(f'F1 Score: {f1:.4f}')\n"
   ],
   "outputs": [
    {
     "name": "stdout",
     "output_type": "stream",
     "text": [
      "Accuracy: 0.8282\n",
      "F1 Score: 0.4884\n"
     ]
    }
   ],
   "execution_count": 19
  },
  {
   "cell_type": "markdown",
   "metadata": {
    "id": "9w-sa4AlaBJg"
   },
   "source": [
    "# OPTIONAL -- Export the predictions in the format indicated in the assignment release page and verify you prediction on the [assessment page](https://aml-assignmentone-2425.streamlit.app/)."
   ]
  },
  {
   "metadata": {
    "ExecuteTime": {
     "end_time": "2024-10-24T08:45:44.689622Z",
     "start_time": "2024-10-24T08:45:44.689388Z"
    }
   },
   "cell_type": "code",
   "source": "",
   "outputs": [],
   "execution_count": null
  }
 ]
}
