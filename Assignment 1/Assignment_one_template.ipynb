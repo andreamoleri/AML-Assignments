{
 "nbformat": 4,
 "nbformat_minor": 0,
 "metadata": {
  "kernelspec": {
   "display_name": "Python 3",
   "language": "python",
   "name": "python3"
  },
  "language_info": {
   "codemirror_mode": {
    "name": "ipython",
    "version": 3
   },
   "file_extension": ".py",
   "mimetype": "text/x-python",
   "name": "python",
   "nbconvert_exporter": "python",
   "pygments_lexer": "ipython3",
   "version": "3.6.4"
  },
  "colab": {
   "provenance": []
  }
 },
 "cells": [
  {
   "cell_type": "markdown",
   "metadata": {
    "id": "FH5ja_uiJbr6"
   },
   "source": [
    "# Predicting Default Payments with Fully-Connected NNs\n",
    "\n",
    "The dataset contains information on default payments, demographic factors, credit data, history of payment, and bill statements of credit card clients in Taiwan from April 2005 to September 2005."
   ]
  },
  {
   "cell_type": "markdown",
   "metadata": {
    "id": "0-FgzT_cJbsH"
   },
   "source": [
    "## Inspecting the data\n",
    "\n",
    "In this first code block, we will explore the dataset by examining its dimensionality and distribution. The training set is made up of **25,500 samples**, each with **24 attributes** that capture a wide array of data points relevant to the problem. This dimensionality provides a thorough representation of the features. Looking at the output, we find that there are **2 unique target classes**, indicating a binary classification problem. The label distribution reveals a notable class imbalance: **19,815 samples** belong to class **0**, while only **5,685 samples** are in class **1**. Recognizing this disparity is extremely important, as it can impact model performance, particularly regarding accuracy and recall metrics. To address such imbalances, techniques that consider the uneven distribution of classes may be required.\n",
    "\n",
    "The dataset has no missing values across all features, so data absence will not hinder our analysis. This preliminary analysis also indicates that the numerical features vary significantly. For instance, the `LIMIT_BAL` feature ranges from **10,000 to 1,000,000**, while `PAY_AMT1` ranges from **0 to 1,684,259**. This variation suggests the need for normalization or standardization during preprocessing to prevent any single feature from disproportionately influencing the model due to its scale.\n",
    "\n",
    "Examining the first few samples of the training set provides insights into the data's underlying structure. For example, some features contain negative values, particularly the payment history features. Understanding the implications of these values is important for interpreting the dataset and training the model effectively. These features may indicate insolvencies, which are important for predicting defaults."
   ]
  },
  {
   "metadata": {
    "ExecuteTime": {
     "end_time": "2024-10-25T08:16:09.298699Z",
     "start_time": "2024-10-25T08:16:09.047024Z"
    }
   },
   "cell_type": "code",
   "source": [
    "# Import necessary libraries\n",
    "import pandas as pd  \n",
    "import numpy as np  \n",
    "import os \n",
    "\n",
    "# Set environment variable to suppress TensorFlow logging warnings\n",
    "os.environ['TF_CPP_MIN_LOG_LEVEL'] = '1'\n",
    "\n",
    "def load_data(path, train=True):\n",
    "    \"\"\"\n",
    "    Load and preprocess data from a specified CSV file.\n",
    "\n",
    "    Parameters:\n",
    "    path (str): The path to the CSV file to be loaded.\n",
    "    train (bool): A flag indicating whether to load training data or test data.\n",
    "                  If True, the data will be shuffled and returned without the last column (target variable).\n",
    "                  If False, the first column will be treated as labels, and the rest as features.\n",
    "\n",
    "    Returns:\n",
    "    Tuple[np.ndarray, np.ndarray]: A tuple containing:\n",
    "        - A NumPy array of features.\n",
    "        - A NumPy array of labels (if train is True) or a NumPy array of IDs (if train is False).\n",
    "    \"\"\"\n",
    "    # Load data from the specified CSV file with the given encoding\n",
    "    df = pd.read_csv(path, encoding=\"ISO-8859-2\")\n",
    "\n",
    "    if train:\n",
    "        # Shuffle the data and return features and labels for training\n",
    "        data = df.sample(frac=1, random_state=42).values\n",
    "        return data[:, :-1].astype(np.float32), data[:, -1]\n",
    "\n",
    "    # Return features and IDs for test data\n",
    "    return df.iloc[:, 1:].values.astype(np.float32), df.iloc[:, 0].astype(str)\n",
    "\n",
    "# Load training and testing data\n",
    "X_train, labels = load_data('./train.csv')  # Load training data\n",
    "X_test, ids = load_data('./test.csv', train=False)  # Load test data\n",
    "\n",
    "# Display the dimensions of the training set and the count of features\n",
    "print(f\"\\nTraining set dimensions: {X_train.shape}\\nFeatures count: {X_train.shape[1]}\")\n",
    "\n",
    "# Count the number of unique classes in the labels\n",
    "num_classes = len(np.unique(labels))\n",
    "print(f\"Number of target classes: {num_classes}\")\n",
    "\n",
    "# Display the first five samples of the training set\n",
    "print(\"\\nFirst 5 training samples:\\n\", pd.DataFrame(X_train).head())\n",
    "\n",
    "# Display the distribution of the labels in the training set\n",
    "print(\"\\nLabels distribution:\\n\", pd.Series(labels).value_counts())\n",
    "\n",
    "# Load the training data again for analysis\n",
    "train_data = pd.read_csv('./train.csv')\n",
    "\n",
    "# Display the count of missing values for each column in the training data\n",
    "print(\"\\nMissing values:\\n\", train_data.isnull().sum())\n",
    "\n",
    "# Display summary statistics for the training data\n",
    "print(\"\\nSummary statistics:\\n\", train_data.describe())\n",
    "\n",
    "# Display the dimensions of the test set\n",
    "print(\"\\nTest set dimensions:\", X_test.shape)\n",
    "\n",
    "# Display the actual training set data and corresponding labels\n",
    "print(\"\\nTraining set data:\\n\", X_train)\n",
    "print(\"\\nTraining set labels:\\n\", labels)"
   ],
   "outputs": [
    {
     "name": "stdout",
     "output_type": "stream",
     "text": [
      "\n",
      "Training set dimensions: (25500, 24)\n",
      "Features count: 24\n",
      "Number of target classes: 2\n",
      "\n",
      "First 5 training samples:\n",
      "         0         1    2    3    4     5    6    7    8    9   ...       14  \\\n",
      "0  21870.0   70000.0  2.0  3.0  2.0  26.0  0.0  0.0  0.0  0.0  ...   8948.0   \n",
      "1  15211.0  320000.0  2.0  2.0  2.0  28.0 -1.0 -1.0 -1.0 -1.0  ...    944.0   \n",
      "2  20041.0   30000.0  2.0  2.0  2.0  36.0  0.0 -1.0 -1.0  0.0  ...  30452.0   \n",
      "3   9190.0   20000.0  2.0  3.0  1.0  35.0  0.0  0.0  2.0  2.0  ...  18621.0   \n",
      "4   6260.0   80000.0  1.0  2.0  2.0  32.0  1.0  2.0  0.0  0.0  ...  28242.0   \n",
      "\n",
      "        15       16       17      18       19      20      21      22      23  \n",
      "0   9006.0  10570.0  11421.0  2000.0   1200.0  1500.0  2000.0  1000.0  2000.0  \n",
      "1    473.0   1747.0   1193.0   390.0    944.0   473.0  5000.0  1200.0   980.0  \n",
      "2  29667.0  28596.0  29180.0   490.0  33299.0  1400.0   572.0   584.0   400.0  \n",
      "3  18024.0  18434.0  19826.0  3000.0   1000.0     0.0   700.0  1700.0     0.0  \n",
      "4  21400.0      0.0      0.0     7.0   1200.0  1408.0     0.0     0.0     0.0  \n",
      "\n",
      "[5 rows x 24 columns]\n",
      "\n",
      "Labels distribution:\n",
      " 0    19815\n",
      "1     5685\n",
      "Name: count, dtype: int64\n",
      "\n",
      "Missing values:\n",
      " ID                            0\n",
      "LIMIT_BAL                     0\n",
      "SEX                           0\n",
      "EDUCATION                     0\n",
      "MARRIAGE                      0\n",
      "AGE                           0\n",
      "PAY_0                         0\n",
      "PAY_2                         0\n",
      "PAY_3                         0\n",
      "PAY_4                         0\n",
      "PAY_5                         0\n",
      "PAY_6                         0\n",
      "BILL_AMT1                     0\n",
      "BILL_AMT2                     0\n",
      "BILL_AMT3                     0\n",
      "BILL_AMT4                     0\n",
      "BILL_AMT5                     0\n",
      "BILL_AMT6                     0\n",
      "PAY_AMT1                      0\n",
      "PAY_AMT2                      0\n",
      "PAY_AMT3                      0\n",
      "PAY_AMT4                      0\n",
      "PAY_AMT5                      0\n",
      "PAY_AMT6                      0\n",
      "default payment next month    0\n",
      "dtype: int64\n",
      "\n",
      "Summary statistics:\n",
      "                 ID       LIMIT_BAL           SEX     EDUCATION      MARRIAGE  \\\n",
      "count  25500.00000    25500.000000  25500.000000  25500.000000  25500.000000   \n",
      "mean   14956.95702   167569.007059      1.604118      1.852353      1.550392   \n",
      "std     8667.36982   130002.156470      0.489049      0.787991      0.522757   \n",
      "min        1.00000    10000.000000      1.000000      0.000000      0.000000   \n",
      "25%     7432.75000    50000.000000      1.000000      1.000000      1.000000   \n",
      "50%    14942.50000   140000.000000      2.000000      2.000000      2.000000   \n",
      "75%    22431.25000   240000.000000      2.000000      2.000000      2.000000   \n",
      "max    30000.00000  1000000.000000      2.000000      6.000000      3.000000   \n",
      "\n",
      "                AGE         PAY_0         PAY_2         PAY_3         PAY_4  \\\n",
      "count  25500.000000  25500.000000  25500.000000  25500.000000  25500.000000   \n",
      "mean      35.509294     -0.013098     -0.130784     -0.163294     -0.218235   \n",
      "std        9.200408      1.126314      1.199481      1.199697      1.169681   \n",
      "min       21.000000     -2.000000     -2.000000     -2.000000     -2.000000   \n",
      "25%       28.000000     -1.000000     -1.000000     -1.000000     -1.000000   \n",
      "50%       34.000000      0.000000      0.000000      0.000000      0.000000   \n",
      "75%       41.000000      0.000000      0.000000      0.000000      0.000000   \n",
      "max       79.000000      8.000000      8.000000      8.000000      8.000000   \n",
      "\n",
      "       ...      BILL_AMT4      BILL_AMT5      BILL_AMT6       PAY_AMT1  \\\n",
      "count  ...   25500.000000   25500.000000   25500.000000   25500.000000   \n",
      "mean   ...   43336.952196   40307.121059   38924.328157    5594.010863   \n",
      "std    ...   64433.082446   60870.691089   59659.509920   16235.253410   \n",
      "min    ... -170000.000000  -81334.000000 -339603.000000       0.000000   \n",
      "25%    ...    2338.750000    1767.250000    1266.750000    1000.000000   \n",
      "50%    ...   19111.000000   18112.500000   17150.000000    2100.000000   \n",
      "75%    ...   54475.000000   50178.250000   49132.500000    5006.000000   \n",
      "max    ...  891586.000000  927171.000000  961664.000000  873552.000000   \n",
      "\n",
      "           PAY_AMT2       PAY_AMT3       PAY_AMT4       PAY_AMT5  \\\n",
      "count  2.550000e+04   25500.000000   25500.000000   25500.000000   \n",
      "mean   5.934389e+03    5319.529647    4812.161373    4812.480431   \n",
      "std    2.381277e+04   18157.653215   15560.524538   15206.108094   \n",
      "min    0.000000e+00       0.000000       0.000000       0.000000   \n",
      "25%    8.270000e+02     396.000000     291.000000     251.000000   \n",
      "50%    2.002000e+03    1800.000000    1500.000000    1500.000000   \n",
      "75%    5.000000e+03    4560.500000    4000.000000    4071.500000   \n",
      "max    1.684259e+06  896040.000000  621000.000000  426529.000000   \n",
      "\n",
      "            PAY_AMT6  default payment next month  \n",
      "count   25500.000000                25500.000000  \n",
      "mean     5236.509176                    0.222941  \n",
      "std     17958.888070                    0.416227  \n",
      "min         0.000000                    0.000000  \n",
      "25%       125.750000                    0.000000  \n",
      "50%      1500.000000                    0.000000  \n",
      "75%      4000.000000                    0.000000  \n",
      "max    528666.000000                    1.000000  \n",
      "\n",
      "[8 rows x 25 columns]\n",
      "\n",
      "Test set dimensions: (4500, 23)\n",
      "\n",
      "Training set data:\n",
      " [[2.1870e+04 7.0000e+04 2.0000e+00 ... 2.0000e+03 1.0000e+03 2.0000e+03]\n",
      " [1.5211e+04 3.2000e+05 2.0000e+00 ... 5.0000e+03 1.2000e+03 9.8000e+02]\n",
      " [2.0041e+04 3.0000e+04 2.0000e+00 ... 5.7200e+02 5.8400e+02 4.0000e+02]\n",
      " ...\n",
      " [3.6200e+02 3.2000e+05 2.0000e+00 ... 2.6610e+03 2.7810e+03 2.5000e+03]\n",
      " [1.2822e+04 5.0000e+05 2.0000e+00 ... 2.3800e+03 2.7720e+03 3.0000e+03]\n",
      " [2.0757e+04 4.0000e+04 1.0000e+00 ... 2.7000e+03 0.0000e+00 0.0000e+00]]\n",
      "\n",
      "Training set labels:\n",
      " [0 0 0 ... 0 0 1]\n"
     ]
    }
   ],
   "execution_count": 29
  },
  {
   "cell_type": "markdown",
   "metadata": {
    "id": "PjWrQr5vWTTG"
   },
   "source": [
    "## Preparing the data\n",
    "\n",
    "In this second code cell, we detail the pre-processing steps taken to prepare the dataset for model training. Based on insights gained from the initial data inspection, several decisions were made to ensure an effective analysis. The first step was to extract the relevant features and labels from the raw training dataset. We isolated the label column, `default payment next month`, for use in model training. The `ID` column was deemed unnecessary for predictive modeling, as it does not contribute in understanding the features that influence the outcome. As a consequence, it was dropped from the feature matrix to streamline the dataset. Next, we needed to address the varying scales of the features. The variance plot revealed that some features had significantly higher variances than others. This could skew the model's performance, as features with larger scales might dominate the learning process. To counter this, **StandardScaler** was used, which standardizes features by removing the mean and scaling to unit variance. This process ensures that each feature contributes equally to the analysis.\n",
    " \n",
    "The dataset was then split into training and validation sets using a stratified approach. This method preserves the original class distribution in both subsets, which is especially important due to the class imbalance identified earlier. The training set consists of **15,300 samples**, while the validation set includes **10,200 samples**. This balanced strategy minimizes the risk of overfitting and improves the reliability of model evaluation. After the data split, we applied **StandardScaler** to the training set, generating scaled feature values. The same scaler was applied to the validation set to ensure consistency in data transformation. This step is important for maintaining the same data distribution during both training and validation phases, thus enhancing the generalization of learned patterns.\n"
   ]
  },
  {
   "cell_type": "code",
   "metadata": {
    "id": "J84aUJVUJbsI",
    "ExecuteTime": {
     "end_time": "2024-10-25T08:28:05.378532Z",
     "start_time": "2024-10-25T08:28:03.132351Z"
    }
   },
   "source": [
    "import pandas as pd  \n",
    "from sklearn.model_selection import train_test_split  \n",
    "from sklearn.preprocessing import StandardScaler \n",
    "import matplotlib.pyplot as plt \n",
    "\n",
    "def preprocess_data(X, scaler=None):\n",
    "    \"\"\"\n",
    "    Preprocesses the input data by scaling the features using StandardScaler.\n",
    "    \n",
    "    Parameters:\n",
    "    X (pd.DataFrame or np.array): Feature data to be scaled.\n",
    "    scaler (StandardScaler, optional): Pre-fitted scaler object. If None, a new scaler will be fitted to the data.\n",
    "    \n",
    "    Returns:\n",
    "    tuple:\n",
    "        - Scaled feature matrix (np.array)\n",
    "        - Fitted scaler (StandardScaler object)\n",
    "    \n",
    "    The function either uses an existing scaler to transform the data or fits a new one if none is provided.\n",
    "    \"\"\"\n",
    "    # If no scaler is provided, fit a new StandardScaler to the data\n",
    "    if scaler is None:\n",
    "        scaler = StandardScaler().fit(X)\n",
    "    \n",
    "    # Transform the data using the fitted scaler\n",
    "    return scaler.transform(X), scaler\n",
    "\n",
    "# Load the training dataset\n",
    "df_train = pd.read_csv('./train.csv')\n",
    "\n",
    "# Extract the label column ('default payment next month') from the dataset\n",
    "labels_raw = df_train['default payment next month']\n",
    "\n",
    "# Specify columns to be dropped from the feature matrix (e.g., 'ID' and the label column)\n",
    "columns_to_drop = [\"ID\"]\n",
    "\n",
    "# Drop the specified columns and the label from the training dataset to create the feature matrix\n",
    "X_train_raw = df_train.drop(columns=columns_to_drop + ['default payment next month'])\n",
    "\n",
    "# Split the dataset into training and validation sets (60% train, 40% validation)\n",
    "# Stratify ensures that the class distribution is maintained in both train and validation sets\n",
    "X_train, X_val, y_train, y_val = train_test_split(X_train_raw, labels_raw, \n",
    "                                                  test_size=0.4, random_state=42, stratify=labels_raw)\n",
    "\n",
    "# Scale the training data using StandardScaler\n",
    "X_train_scaled, scaler = preprocess_data(X_train)\n",
    "\n",
    "# Use the same scaler to scale the validation data\n",
    "X_val_scaled, _ = preprocess_data(X_val, scaler)\n",
    "\n",
    "# Output the shapes of the scaled training and validation datasets as well as their corresponding label sets\n",
    "print(f\"Shapes -> Train: {X_train_scaled.shape}, Val: {X_val_scaled.shape}, \"\n",
    "      f\"Encoded Train: {y_train.shape}, Encoded Val: {y_val.shape}\")"
   ],
   "outputs": [
    {
     "name": "stdout",
     "output_type": "stream",
     "text": [
      "Shapes -> Train: (15300, 23), Val: (10200, 23), Encoded Train: (15300,), Encoded Val: (10200,)\n"
     ]
    }
   ],
   "execution_count": 1
  },
  {
   "cell_type": "markdown",
   "metadata": {
    "id": "Eb9aljYxJbsK"
   },
   "source": [
    "## Building the network\n",
    "\n",
    "any description/comment about the procedure you followed in the choice of the network structure and hyperparameters goes here, together with consideration about the training/optimization procedure (e.g. optimizer choice, final activations, loss functions, training metrics)"
   ]
  },
  {
   "cell_type": "code",
   "metadata": {
    "id": "AS3zsRlBYHKW",
    "ExecuteTime": {
     "end_time": "2024-10-25T08:44:52.450962Z",
     "start_time": "2024-10-25T08:44:02.413158Z"
    }
   },
   "source": [
    "from keras.optimizers import Adam\n",
    "from keras.layers import Dense, BatchNormalization, Dropout\n",
    "from keras.models import Sequential\n",
    "from tensorflow.keras.callbacks import EarlyStopping, ReduceLROnPlateau, Callback\n",
    "from sklearn.metrics import f1_score\n",
    "from keras.layers import Input\n",
    "from keras.regularizers import l2\n",
    "\n",
    "def build_model(input_shape):\n",
    "    \"\"\"\n",
    "    Builds an improved fully connected neural network model with better regularization\n",
    "    and more stable training characteristics.\n",
    "    \n",
    "    Parameters:\n",
    "    input_shape (int): The number of input features\n",
    "    \n",
    "    Returns:\n",
    "    model (Sequential): A compiled Keras model ready for training\n",
    "    \"\"\"\n",
    "    model = Sequential()\n",
    "    \n",
    "    # Input layer\n",
    "    model.add(Input(shape=(input_shape,)))\n",
    "    \n",
    "    # First hidden layer - reduced size, increased regularization\n",
    "    model.add(Dense(256, activation='relu', kernel_regularizer=l2(0.01)))\n",
    "    model.add(BatchNormalization(momentum=0.9))\n",
    "    model.add(Dropout(0.3))  # Reduced dropout rate for more stability\n",
    "    \n",
    "    # Second hidden layer\n",
    "    model.add(Dense(128, activation='relu', kernel_regularizer=l2(0.01)))\n",
    "    model.add(BatchNormalization(momentum=0.9))\n",
    "    model.add(Dropout(0.3))\n",
    "    \n",
    "    # Third hidden layer - smaller for better generalization\n",
    "    model.add(Dense(64, activation='relu', kernel_regularizer=l2(0.01)))\n",
    "    model.add(BatchNormalization(momentum=0.9))\n",
    "    model.add(Dropout(0.2))  # Even lower dropout in final layers\n",
    "    \n",
    "    # Output layer\n",
    "    model.add(Dense(1, activation='sigmoid'))\n",
    "    \n",
    "    # Use a lower learning rate and higher momentum for stability\n",
    "    optimizer = Adam(learning_rate=0.0005, beta_1=0.9, beta_2=0.999)\n",
    "    \n",
    "    model.compile(optimizer=optimizer,\n",
    "                 loss='binary_crossentropy',\n",
    "                 metrics=['accuracy'])\n",
    "    return model\n",
    "\n",
    "# Build the model with the input shape\n",
    "input_shape = X_train_scaled.shape[1]\n",
    "model = build_model(input_shape)\n",
    "\n",
    "# Adjusted hyperparameters for more stable training\n",
    "batch_size = 128  # Increased batch size for more stable gradients\n",
    "epochs = 69       # Increased epochs but with better early stopping\n",
    "\n",
    "# Display model summary\n",
    "model.summary()\n",
    "\n",
    "# Improved EarlyStopping with more patience and better monitoring\n",
    "early_stopping = EarlyStopping(\n",
    "    monitor='val_loss',\n",
    "    patience=15,\n",
    "    restore_best_weights=True,\n",
    "    min_delta=0.001  # Minimum change to qualify as an improvement\n",
    ")\n",
    "\n",
    "# Modified ReduceLROnPlateau for smoother learning rate adjustment\n",
    "reduce_lr = ReduceLROnPlateau(\n",
    "    monitor='val_loss',\n",
    "    factor=0.2,  # Smaller reduction factor\n",
    "    patience=10,\n",
    "    min_lr=1e-6,\n",
    "    min_delta=0.001\n",
    ")\n",
    "\n",
    "# Print input and output shape\n",
    "dims = X_train_scaled.shape[1]\n",
    "print('Input Shape: ', dims)\n",
    "\n",
    "nb_classes = y_train.shape[1] if len(y_train.shape) > 1 else 1\n",
    "print('Output Shape: ', nb_classes)\n",
    "\n",
    "# Train the model with improved parameters and monitoring\n",
    "history = model.fit(\n",
    "    X_train_scaled, y_train,\n",
    "    validation_data=(X_val_scaled, y_val),\n",
    "    epochs=epochs,\n",
    "    batch_size=batch_size,\n",
    "    callbacks=[early_stopping, reduce_lr, ProgressBar(rolling_window=5)],\n",
    "    verbose=0,\n",
    "    shuffle=True,  # Ensure good shuffling of training data\n",
    ")\n",
    "\n",
    "# Evaluate the model\n",
    "val_loss, val_accuracy = model.evaluate(X_val_scaled, y_val, verbose=0)\n",
    "\n",
    "# Display results\n",
    "print(\"\\n\\nRESULTS:\")\n",
    "print(f\"{'Validation Loss:':<20} {val_loss:.4f}\")\n",
    "print(f\"{'Validation Accuracy:':<20} {val_accuracy:.4f}\")\n",
    "\n",
    "# Calculate F1 score\n",
    "y_pred_prob = model.predict(X_val_scaled, verbose=0)\n",
    "y_pred = (y_pred_prob > 0.5).astype(int)\n",
    "f1 = f1_score(y_val, y_pred)\n",
    "print(f\"{'F1 Score:':<20} {f1:.4f}\")"
   ],
   "outputs": [
    {
     "data": {
      "text/plain": [
       "\u001B[1mModel: \"sequential_6\"\u001B[0m\n"
      ],
      "text/html": [
       "<pre style=\"white-space:pre;overflow-x:auto;line-height:normal;font-family:Menlo,'DejaVu Sans Mono',consolas,'Courier New',monospace\"><span style=\"font-weight: bold\">Model: \"sequential_6\"</span>\n",
       "</pre>\n"
      ]
     },
     "metadata": {},
     "output_type": "display_data"
    },
    {
     "data": {
      "text/plain": [
       "┏━━━━━━━━━━━━━━━━━━━━━━━━━━━━━━━━━┳━━━━━━━━━━━━━━━━━━━━━━━━┳━━━━━━━━━━━━━━━┓\n",
       "┃\u001B[1m \u001B[0m\u001B[1mLayer (type)                   \u001B[0m\u001B[1m \u001B[0m┃\u001B[1m \u001B[0m\u001B[1mOutput Shape          \u001B[0m\u001B[1m \u001B[0m┃\u001B[1m \u001B[0m\u001B[1m      Param #\u001B[0m\u001B[1m \u001B[0m┃\n",
       "┡━━━━━━━━━━━━━━━━━━━━━━━━━━━━━━━━━╇━━━━━━━━━━━━━━━━━━━━━━━━╇━━━━━━━━━━━━━━━┩\n",
       "│ dense_24 (\u001B[38;5;33mDense\u001B[0m)                │ (\u001B[38;5;45mNone\u001B[0m, \u001B[38;5;34m256\u001B[0m)            │         \u001B[38;5;34m6,144\u001B[0m │\n",
       "├─────────────────────────────────┼────────────────────────┼───────────────┤\n",
       "│ batch_normalization_15          │ (\u001B[38;5;45mNone\u001B[0m, \u001B[38;5;34m256\u001B[0m)            │         \u001B[38;5;34m1,024\u001B[0m │\n",
       "│ (\u001B[38;5;33mBatchNormalization\u001B[0m)            │                        │               │\n",
       "├─────────────────────────────────┼────────────────────────┼───────────────┤\n",
       "│ dropout_15 (\u001B[38;5;33mDropout\u001B[0m)            │ (\u001B[38;5;45mNone\u001B[0m, \u001B[38;5;34m256\u001B[0m)            │             \u001B[38;5;34m0\u001B[0m │\n",
       "├─────────────────────────────────┼────────────────────────┼───────────────┤\n",
       "│ dense_25 (\u001B[38;5;33mDense\u001B[0m)                │ (\u001B[38;5;45mNone\u001B[0m, \u001B[38;5;34m128\u001B[0m)            │        \u001B[38;5;34m32,896\u001B[0m │\n",
       "├─────────────────────────────────┼────────────────────────┼───────────────┤\n",
       "│ batch_normalization_16          │ (\u001B[38;5;45mNone\u001B[0m, \u001B[38;5;34m128\u001B[0m)            │           \u001B[38;5;34m512\u001B[0m │\n",
       "│ (\u001B[38;5;33mBatchNormalization\u001B[0m)            │                        │               │\n",
       "├─────────────────────────────────┼────────────────────────┼───────────────┤\n",
       "│ dropout_16 (\u001B[38;5;33mDropout\u001B[0m)            │ (\u001B[38;5;45mNone\u001B[0m, \u001B[38;5;34m128\u001B[0m)            │             \u001B[38;5;34m0\u001B[0m │\n",
       "├─────────────────────────────────┼────────────────────────┼───────────────┤\n",
       "│ dense_26 (\u001B[38;5;33mDense\u001B[0m)                │ (\u001B[38;5;45mNone\u001B[0m, \u001B[38;5;34m64\u001B[0m)             │         \u001B[38;5;34m8,256\u001B[0m │\n",
       "├─────────────────────────────────┼────────────────────────┼───────────────┤\n",
       "│ batch_normalization_17          │ (\u001B[38;5;45mNone\u001B[0m, \u001B[38;5;34m64\u001B[0m)             │           \u001B[38;5;34m256\u001B[0m │\n",
       "│ (\u001B[38;5;33mBatchNormalization\u001B[0m)            │                        │               │\n",
       "├─────────────────────────────────┼────────────────────────┼───────────────┤\n",
       "│ dropout_17 (\u001B[38;5;33mDropout\u001B[0m)            │ (\u001B[38;5;45mNone\u001B[0m, \u001B[38;5;34m64\u001B[0m)             │             \u001B[38;5;34m0\u001B[0m │\n",
       "├─────────────────────────────────┼────────────────────────┼───────────────┤\n",
       "│ dense_27 (\u001B[38;5;33mDense\u001B[0m)                │ (\u001B[38;5;45mNone\u001B[0m, \u001B[38;5;34m1\u001B[0m)              │            \u001B[38;5;34m65\u001B[0m │\n",
       "└─────────────────────────────────┴────────────────────────┴───────────────┘\n"
      ],
      "text/html": [
       "<pre style=\"white-space:pre;overflow-x:auto;line-height:normal;font-family:Menlo,'DejaVu Sans Mono',consolas,'Courier New',monospace\">┏━━━━━━━━━━━━━━━━━━━━━━━━━━━━━━━━━┳━━━━━━━━━━━━━━━━━━━━━━━━┳━━━━━━━━━━━━━━━┓\n",
       "┃<span style=\"font-weight: bold\"> Layer (type)                    </span>┃<span style=\"font-weight: bold\"> Output Shape           </span>┃<span style=\"font-weight: bold\">       Param # </span>┃\n",
       "┡━━━━━━━━━━━━━━━━━━━━━━━━━━━━━━━━━╇━━━━━━━━━━━━━━━━━━━━━━━━╇━━━━━━━━━━━━━━━┩\n",
       "│ dense_24 (<span style=\"color: #0087ff; text-decoration-color: #0087ff\">Dense</span>)                │ (<span style=\"color: #00d7ff; text-decoration-color: #00d7ff\">None</span>, <span style=\"color: #00af00; text-decoration-color: #00af00\">256</span>)            │         <span style=\"color: #00af00; text-decoration-color: #00af00\">6,144</span> │\n",
       "├─────────────────────────────────┼────────────────────────┼───────────────┤\n",
       "│ batch_normalization_15          │ (<span style=\"color: #00d7ff; text-decoration-color: #00d7ff\">None</span>, <span style=\"color: #00af00; text-decoration-color: #00af00\">256</span>)            │         <span style=\"color: #00af00; text-decoration-color: #00af00\">1,024</span> │\n",
       "│ (<span style=\"color: #0087ff; text-decoration-color: #0087ff\">BatchNormalization</span>)            │                        │               │\n",
       "├─────────────────────────────────┼────────────────────────┼───────────────┤\n",
       "│ dropout_15 (<span style=\"color: #0087ff; text-decoration-color: #0087ff\">Dropout</span>)            │ (<span style=\"color: #00d7ff; text-decoration-color: #00d7ff\">None</span>, <span style=\"color: #00af00; text-decoration-color: #00af00\">256</span>)            │             <span style=\"color: #00af00; text-decoration-color: #00af00\">0</span> │\n",
       "├─────────────────────────────────┼────────────────────────┼───────────────┤\n",
       "│ dense_25 (<span style=\"color: #0087ff; text-decoration-color: #0087ff\">Dense</span>)                │ (<span style=\"color: #00d7ff; text-decoration-color: #00d7ff\">None</span>, <span style=\"color: #00af00; text-decoration-color: #00af00\">128</span>)            │        <span style=\"color: #00af00; text-decoration-color: #00af00\">32,896</span> │\n",
       "├─────────────────────────────────┼────────────────────────┼───────────────┤\n",
       "│ batch_normalization_16          │ (<span style=\"color: #00d7ff; text-decoration-color: #00d7ff\">None</span>, <span style=\"color: #00af00; text-decoration-color: #00af00\">128</span>)            │           <span style=\"color: #00af00; text-decoration-color: #00af00\">512</span> │\n",
       "│ (<span style=\"color: #0087ff; text-decoration-color: #0087ff\">BatchNormalization</span>)            │                        │               │\n",
       "├─────────────────────────────────┼────────────────────────┼───────────────┤\n",
       "│ dropout_16 (<span style=\"color: #0087ff; text-decoration-color: #0087ff\">Dropout</span>)            │ (<span style=\"color: #00d7ff; text-decoration-color: #00d7ff\">None</span>, <span style=\"color: #00af00; text-decoration-color: #00af00\">128</span>)            │             <span style=\"color: #00af00; text-decoration-color: #00af00\">0</span> │\n",
       "├─────────────────────────────────┼────────────────────────┼───────────────┤\n",
       "│ dense_26 (<span style=\"color: #0087ff; text-decoration-color: #0087ff\">Dense</span>)                │ (<span style=\"color: #00d7ff; text-decoration-color: #00d7ff\">None</span>, <span style=\"color: #00af00; text-decoration-color: #00af00\">64</span>)             │         <span style=\"color: #00af00; text-decoration-color: #00af00\">8,256</span> │\n",
       "├─────────────────────────────────┼────────────────────────┼───────────────┤\n",
       "│ batch_normalization_17          │ (<span style=\"color: #00d7ff; text-decoration-color: #00d7ff\">None</span>, <span style=\"color: #00af00; text-decoration-color: #00af00\">64</span>)             │           <span style=\"color: #00af00; text-decoration-color: #00af00\">256</span> │\n",
       "│ (<span style=\"color: #0087ff; text-decoration-color: #0087ff\">BatchNormalization</span>)            │                        │               │\n",
       "├─────────────────────────────────┼────────────────────────┼───────────────┤\n",
       "│ dropout_17 (<span style=\"color: #0087ff; text-decoration-color: #0087ff\">Dropout</span>)            │ (<span style=\"color: #00d7ff; text-decoration-color: #00d7ff\">None</span>, <span style=\"color: #00af00; text-decoration-color: #00af00\">64</span>)             │             <span style=\"color: #00af00; text-decoration-color: #00af00\">0</span> │\n",
       "├─────────────────────────────────┼────────────────────────┼───────────────┤\n",
       "│ dense_27 (<span style=\"color: #0087ff; text-decoration-color: #0087ff\">Dense</span>)                │ (<span style=\"color: #00d7ff; text-decoration-color: #00d7ff\">None</span>, <span style=\"color: #00af00; text-decoration-color: #00af00\">1</span>)              │            <span style=\"color: #00af00; text-decoration-color: #00af00\">65</span> │\n",
       "└─────────────────────────────────┴────────────────────────┴───────────────┘\n",
       "</pre>\n"
      ]
     },
     "metadata": {},
     "output_type": "display_data"
    },
    {
     "data": {
      "text/plain": [
       "\u001B[1m Total params: \u001B[0m\u001B[38;5;34m49,153\u001B[0m (192.00 KB)\n"
      ],
      "text/html": [
       "<pre style=\"white-space:pre;overflow-x:auto;line-height:normal;font-family:Menlo,'DejaVu Sans Mono',consolas,'Courier New',monospace\"><span style=\"font-weight: bold\"> Total params: </span><span style=\"color: #00af00; text-decoration-color: #00af00\">49,153</span> (192.00 KB)\n",
       "</pre>\n"
      ]
     },
     "metadata": {},
     "output_type": "display_data"
    },
    {
     "data": {
      "text/plain": [
       "\u001B[1m Trainable params: \u001B[0m\u001B[38;5;34m48,257\u001B[0m (188.50 KB)\n"
      ],
      "text/html": [
       "<pre style=\"white-space:pre;overflow-x:auto;line-height:normal;font-family:Menlo,'DejaVu Sans Mono',consolas,'Courier New',monospace\"><span style=\"font-weight: bold\"> Trainable params: </span><span style=\"color: #00af00; text-decoration-color: #00af00\">48,257</span> (188.50 KB)\n",
       "</pre>\n"
      ]
     },
     "metadata": {},
     "output_type": "display_data"
    },
    {
     "data": {
      "text/plain": [
       "\u001B[1m Non-trainable params: \u001B[0m\u001B[38;5;34m896\u001B[0m (3.50 KB)\n"
      ],
      "text/html": [
       "<pre style=\"white-space:pre;overflow-x:auto;line-height:normal;font-family:Menlo,'DejaVu Sans Mono',consolas,'Courier New',monospace\"><span style=\"font-weight: bold\"> Non-trainable params: </span><span style=\"color: #00af00; text-decoration-color: #00af00\">896</span> (3.50 KB)\n",
       "</pre>\n"
      ]
     },
     "metadata": {},
     "output_type": "display_data"
    },
    {
     "name": "stdout",
     "output_type": "stream",
     "text": [
      "Input Shape:  23\n",
      "Output Shape:  1\n",
      "Epoch 58/69 - accuracy: 0.8243 - loss: 0.4238 - val_accuracy: 0.8182 - val_loss: 0.4496 - learning_rate: 0.0000\n",
      "\n",
      "RESULTS:\n",
      "Validation Loss:     0.4474\n",
      "Validation Accuracy: 0.8186\n",
      "F1 Score:            0.4684\n"
     ]
    }
   ],
   "execution_count": 19
  },
  {
   "cell_type": "markdown",
   "metadata": {
    "id": "8w7UIdtIWuCD"
   },
   "source": [
    "## Analyze and comment the training results\n",
    "\n",
    "here goes any comment/visualization of the training history and any initial consideration on the training results  "
   ]
  },
  {
   "metadata": {
    "ExecuteTime": {
     "end_time": "2024-10-25T08:45:09.059516Z",
     "start_time": "2024-10-25T08:45:08.609267Z"
    }
   },
   "cell_type": "code",
   "source": [
    "import matplotlib.pyplot as plt \n",
    "\n",
    "def plot_training_history(history):\n",
    "    \"\"\"\n",
    "    Plots the training and validation loss and accuracy over epochs.\n",
    "    \n",
    "    Parameters:\n",
    "    history: History object returned from model.fit() that contains training and validation metrics for each epoch.\n",
    "    \n",
    "    The function generates two subplots: one for loss and one for accuracy, for both the training and validation sets.\n",
    "    \"\"\"\n",
    "    plt.figure(figsize=(12, 5))  # Set the size of the plot figure\n",
    "\n",
    "    # Plot training and validation loss\n",
    "    plt.subplot(1, 2, 1)  # Create a subplot for loss (1 row, 2 columns, 1st plot)\n",
    "    plt.plot(history.history['loss'], label='Training Loss')  # Plot training loss\n",
    "    plt.plot(history.history['val_loss'], label='Validation Loss')  # Plot validation loss\n",
    "    plt.title('Training and Validation Loss')  # Set the title of the plot\n",
    "    plt.xlabel('Epochs')  # Label x-axis as 'Epochs'\n",
    "    plt.ylabel('Loss')  # Label y-axis as 'Loss'\n",
    "    plt.legend()  # Add a legend to differentiate between training and validation\n",
    "    plt.grid()  # Add a grid for better readability\n",
    "\n",
    "    # Plot training and validation accuracy\n",
    "    plt.subplot(1, 2, 2)  # Create a subplot for accuracy (1 row, 2 columns, 2nd plot)\n",
    "    plt.plot(history.history['accuracy'], label='Training Accuracy')  # Plot training accuracy\n",
    "    plt.plot(history.history['val_accuracy'], label='Validation Accuracy')  # Plot validation accuracy\n",
    "    plt.title('Training and Validation Accuracy')  # Set the title of the plot\n",
    "    plt.xlabel('Epochs')  # Label x-axis as 'Epochs'\n",
    "    plt.ylabel('Accuracy')  # Label y-axis as 'Accuracy'\n",
    "    plt.legend()  # Add a legend to differentiate between training and validation\n",
    "    plt.grid()  # Add a grid for better readability\n",
    "\n",
    "    plt.tight_layout()  # Adjust the layout to prevent overlap between subplots\n",
    "    plt.show()  # Display the plots\n",
    "\n",
    "# Call the function to plot training history\n",
    "plot_training_history(history)\n",
    "\n",
    "# Extract the final training and validation loss and accuracy from the history object\n",
    "final_train_loss = history.history['loss'][-1]\n",
    "final_val_loss = history.history['val_loss'][-1]\n",
    "final_train_accuracy = history.history['accuracy'][-1]\n",
    "final_val_accuracy = history.history['val_accuracy'][-1]\n",
    "\n",
    "# Print final metrics for training and validation\n",
    "print(f\"Final Training Loss: {final_train_loss:.4f}\")\n",
    "print(f\"Final Validation Loss: {final_val_loss:.4f}\")\n",
    "print(f\"Final Training Accuracy: {final_train_accuracy:.4f}\")\n",
    "print(f\"Final Validation Accuracy: {final_val_accuracy:.4f}\")\n",
    "\n",
    "# Compare training and validation performance and interpret the results\n",
    "if final_train_loss < final_val_loss:\n",
    "    print(\"The model performs better on the training set compared to the validation set, which might indicate overfitting.\")\n",
    "elif final_train_loss > final_val_loss:\n",
    "    print(\"The model performs better on the validation set compared to the training set, indicating potential underfitting.\")\n",
    "else:\n",
    "    print(\"The model performs similarly on both sets, suggesting a good fit.\")"
   ],
   "outputs": [
    {
     "data": {
      "text/plain": [
       "<Figure size 1200x500 with 2 Axes>"
      ],
      "image/png": "[encoded data removed]"
     },
     "metadata": {},
     "output_type": "display_data"
    },
    {
     "name": "stdout",
     "output_type": "stream",
     "text": [
      "Final Training Loss: 0.4223\n",
      "Final Validation Loss: 0.4502\n",
      "Final Training Accuracy: 0.8248\n",
      "Final Validation Accuracy: 0.8184\n",
      "The model performs better on the training set compared to the validation set, which might indicate overfitting.\n"
     ]
    }
   ],
   "execution_count": 20
  },
  {
   "cell_type": "markdown",
   "metadata": {
    "id": "2jiOZzvyJbsN"
   },
   "source": [
    "## Validate the model and comment the results\n",
    "\n",
    "please describe the evaluation procedure on a validation set, commenting the generalization capability of your model (e.g. under/overfitting). You may also describe the performance metrics that you choose: what is the most suitable performance measure (or set of performance measures) in this case/dataset, according to you? Why?"
   ]
  },
  {
   "cell_type": "code",
   "metadata": {
    "id": "sgGlAIaEJbsO",
    "ExecuteTime": {
     "end_time": "2024-10-25T08:45:12.619467Z",
     "start_time": "2024-10-25T08:45:11.993270Z"
    }
   },
   "source": [
    "from sklearn.metrics import confusion_matrix, classification_report, roc_auc_score\n",
    "\n",
    "# Predict the probabilities for the validation set\n",
    "y_val_pred_prob = model.predict(X_val_scaled)\n",
    "\n",
    "# Convert predicted probabilities to binary predictions using a threshold of 0.5\n",
    "y_val_pred = (y_val_pred_prob > 0.5).astype(int)\n",
    "\n",
    "# Generate the confusion matrix to compare actual vs predicted values\n",
    "confusion = confusion_matrix(y_val, y_val_pred)\n",
    "print(\"Confusion Matrix:\")\n",
    "print(confusion)\n",
    "\n",
    "# Create a detailed classification report including precision, recall, and F1-score\n",
    "class_report = classification_report(y_val, y_val_pred, target_names=[\"No Default\", \"Default\"])\n",
    "print(\"Classification Report:\")\n",
    "print(class_report)\n",
    "\n",
    "# Calculate the ROC AUC score using the predicted probabilities\n",
    "roc_auc = roc_auc_score(y_val, y_val_pred_prob)\n",
    "print(f\"ROC AUC Score: {roc_auc:.4f}\")"
   ],
   "outputs": [
    {
     "name": "stdout",
     "output_type": "stream",
     "text": [
      "\u001B[1m319/319\u001B[0m \u001B[32m━━━━━━━━━━━━━━━━━━━━\u001B[0m\u001B[37m\u001B[0m \u001B[1m0s\u001B[0m 1ms/step\n",
      "Confusion Matrix:\n",
      "[[7535  391]\n",
      " [1459  815]]\n",
      "Classification Report:\n",
      "              precision    recall  f1-score   support\n",
      "\n",
      "  No Default       0.84      0.95      0.89      7926\n",
      "     Default       0.68      0.36      0.47      2274\n",
      "\n",
      "    accuracy                           0.82     10200\n",
      "   macro avg       0.76      0.65      0.68     10200\n",
      "weighted avg       0.80      0.82      0.80     10200\n",
      "\n",
      "ROC AUC Score: 0.7782\n"
     ]
    }
   ],
   "execution_count": 21
  },
  {
   "cell_type": "markdown",
   "metadata": {
    "id": "5MhCwXroWmf9"
   },
   "source": [
    "## Make predictions (on the provided test set)\n",
    "\n",
    "Based on the results obtained and analyzed during the training and the validation phases, what are your (rather _personal_) expectations with respect to the performances of your model on the blind external test set? Briefly motivate your answer."
   ]
  },
  {
   "cell_type": "code",
   "metadata": {
    "id": "fbtA2vJRWpMY",
    "ExecuteTime": {
     "end_time": "2024-10-25T08:45:13.852165Z",
     "start_time": "2024-10-25T08:45:13.473030Z"
    }
   },
   "source": [
    "import pandas as pd  \n",
    "\n",
    "# Load the test dataset from a CSV file\n",
    "test_df = pd.read_csv('test.csv')\n",
    "\n",
    "# Drop the 'ID' column if it exists, as it is not needed for predictions\n",
    "if 'ID' in test_df.columns:\n",
    "    test_df = test_df.drop(columns=['ID'])\n",
    "\n",
    "# Copy the test dataset to preserve the original data structure\n",
    "X_test = test_df.copy()\n",
    "\n",
    "# Ensure that the number of features in the test set matches the expected number of features\n",
    "if X_test.shape[1] == scaler.n_features_in_:\n",
    "    # Standardize the test set using the same scaler fitted on the training data\n",
    "    X_test_scaled = scaler.transform(X_test)\n",
    "else:\n",
    "    # Raise an error if the number of columns does not match the training data\n",
    "    raise ValueError(\"Impossibile standardizzare i dati: il numero di colonne non corrisponde.\")\n",
    "\n",
    "# Predict the probabilities for the test set using the trained model\n",
    "test_predictions_prob = model.predict(X_test_scaled)\n",
    "\n",
    "# Convert predicted probabilities to binary class predictions using a threshold of 0.5\n",
    "test_predictions = (test_predictions_prob > 0.5).astype(int)\n",
    "\n",
    "# Save the predictions to a CSV file without including the header or index\n",
    "pd.DataFrame(test_predictions, columns=['Predicted']).to_csv('test_predictions.csv', index=False, header=False)"
   ],
   "outputs": [
    {
     "name": "stdout",
     "output_type": "stream",
     "text": [
      "\u001B[1m141/141\u001B[0m \u001B[32m━━━━━━━━━━━━━━━━━━━━\u001B[0m\u001B[37m\u001B[0m \u001B[1m0s\u001B[0m 1ms/step\n"
     ]
    }
   ],
   "execution_count": 22
  },
  {
   "metadata": {
    "ExecuteTime": {
     "end_time": "2024-10-25T08:45:14.334934Z",
     "start_time": "2024-10-25T08:45:14.314602Z"
    }
   },
   "cell_type": "code",
   "source": [
    "from sklearn.metrics import accuracy_score, f1_score\n",
    "\n",
    "true_labels_df = pd.read_csv('test_with_labels_real.csv', header=None)  \n",
    "true_labels = true_labels_df[0].values \n",
    "\n",
    "predictions_df = pd.read_csv('test_predictions.csv', header=None)\n",
    "predictions = predictions_df[0].values \n",
    "\n",
    "accuracy = accuracy_score(true_labels, predictions)\n",
    "f1 = f1_score(true_labels, predictions)\n",
    "\n",
    "print(f'Accuracy: {accuracy:.4f}')\n",
    "print(f'F1 Score: {f1:.4f}')\n"
   ],
   "outputs": [
    {
     "name": "stdout",
     "output_type": "stream",
     "text": [
      "Accuracy: 0.8307\n",
      "F1 Score: 0.4752\n"
     ]
    }
   ],
   "execution_count": 23
  },
  {
   "cell_type": "markdown",
   "metadata": {
    "id": "9w-sa4AlaBJg"
   },
   "source": "# OPTIONAL -- Export the predictions in the format indicated in the assignment release page and verify you prediction on the [assessment page](https://aml-assignmentone-2425.streamlit.app/)."
  },
  {
   "metadata": {
    "ExecuteTime": {
     "end_time": "2024-10-24T08:45:44.689622Z",
     "start_time": "2024-10-24T08:45:44.689388Z"
    }
   },
   "cell_type": "code",
   "source": "",
   "outputs": [],
   "execution_count": null
  }
 ]
}
