{
 "nbformat": 4,
 "nbformat_minor": 0,
 "metadata": {
  "kernelspec": {
   "display_name": "Python 3",
   "language": "python",
   "name": "python3"
  },
  "language_info": {
   "codemirror_mode": {
    "name": "ipython",
    "version": 3
   },
   "file_extension": ".py",
   "mimetype": "text/x-python",
   "name": "python",
   "nbconvert_exporter": "python",
   "pygments_lexer": "ipython3",
   "version": "3.6.4"
  },
  "colab": {
   "provenance": []
  }
 },
 "cells": [
  {
   "cell_type": "markdown",
   "metadata": {
    "id": "FH5ja_uiJbr6"
   },
   "source": [
    "# Predicting Default Payments with Fully-Connected NNs\n",
    "\n",
    "The dataset contains information on default payments, demographic factors, credit data, history of payment, and bill statements of credit card clients in Taiwan from April 2005 to September 2005."
   ]
  },
  {
   "cell_type": "markdown",
   "metadata": {
    "id": "0-FgzT_cJbsH"
   },
   "source": [
    "## Inspecting the data\n",
    "\n",
    "any comment about data dimensionality/distribution goes here"
   ]
  },
  {
   "cell_type": "code",
   "metadata": {
    "id": "8vSiz47HXYYM",
    "ExecuteTime": {
     "end_time": "2024-10-24T17:33:31.780050Z",
     "start_time": "2024-10-24T17:33:31.422441Z"
    }
   },
   "source": [
    "import pandas as pd  \n",
    "import numpy as np   \n",
    "import os            \n",
    "\n",
    "# Set TensorFlow logging level to avoid unnecessary warnings\n",
    "# '1' means only error messages will be printed (ignoring warnings and info messages)\n",
    "os.environ['TF_CPP_MIN_LOG_LEVEL'] = '1'\n",
    "\n",
    "def load_data(path, train=True):\n",
    "    \"\"\"\n",
    "    Loads data from a CSV file and preprocesses it for machine learning tasks.\n",
    "    \n",
    "    Parameters:\n",
    "    path (str): The file path to the CSV data.\n",
    "    train (bool): Specifies if the data being loaded is for training (True) or testing (False).\n",
    "    \n",
    "    Returns:\n",
    "    tuple: \n",
    "        - For training data: A tuple containing feature matrix (X) and labels (y).\n",
    "        - For test data: A tuple containing feature matrix (X) and IDs (used for evaluation or submission purposes).\n",
    "    \n",
    "    The function operates in two modes:\n",
    "    1. Training mode (`train=True`): The data is shuffled and split into features and labels.\n",
    "    2. Test mode (`train=False`): The function skips the label column and loads the feature matrix and IDs.\n",
    "    \"\"\"\n",
    "    \n",
    "    # Read the CSV file using the specified encoding (ISO-8859-2). This encoding is often used for Western European languages.\n",
    "    df = pd.read_csv(path, encoding=\"ISO-8859-2\")\n",
    "    \n",
    "    if train:\n",
    "        # Shuffle the training data to ensure that it is randomized before splitting\n",
    "        # 'frac=1' keeps all the rows while shuffling the data\n",
    "        # 'random_state=42' ensures reproducibility by using a fixed seed\n",
    "        data = df.sample(frac=1, random_state=42).values\n",
    "        \n",
    "        # Return the feature matrix (all columns except the last) and the labels (last column)\n",
    "        # Convert feature matrix to float32 for efficiency in numerical operations (especially useful for ML models)\n",
    "        return data[:, :-1].astype(np.float32), data[:, -1]\n",
    "    \n",
    "    # For test data, return the features (from the second column onward) and IDs (the first column)\n",
    "    # The test set does not have labels, hence the ID is returned for submission or evaluation purposes.\n",
    "    return df.iloc[:, 1:].values.astype(np.float32), df.iloc[:, 0].astype(str)\n",
    "\n",
    "# Load the training data (X_train: features, labels: target values)\n",
    "X_train, labels = load_data('./train.csv')\n",
    "\n",
    "# Load the test data (X_test: features, ids: unique identifiers for test samples)\n",
    "X_test, ids = load_data('./test.csv', train=False)\n",
    "\n",
    "# Display the dimensions of the training set (number of samples and features)\n",
    "print(f\"Training set dimensions: {X_train.shape}\\nFeatures count: {X_train.shape[1]}\")\n",
    "\n",
    "# Display the first 5 rows of the training data (as a pandas DataFrame for readability)\n",
    "print(\"\\nFirst 5 training samples:\\n\", pd.DataFrame(X_train).head())\n",
    "\n",
    "# Display the distribution of labels in the training set\n",
    "# This is useful for understanding the class balance, which can affect the choice of model or metrics\n",
    "print(\"\\nLabels distribution:\\n\", pd.Series(labels).value_counts())\n",
    "\n",
    "# Check and display the number of missing values per column in the training set\n",
    "# This step is essential for identifying data quality issues before model training\n",
    "print(\"\\nMissing values:\\n\", pd.read_csv('./train.csv').isnull().sum())\n",
    "\n",
    "# Show basic summary statistics (mean, standard deviation, etc.) for the training set\n",
    "# Helps to get an overview of the data distribution, which can guide feature engineering or model selection\n",
    "print(\"\\nSummary statistics:\\n\", pd.read_csv('./train.csv').describe())\n",
    "\n",
    "# Display the dimensions of the test set to ensure consistency between training and test features\n",
    "print(\"\\nTest set dimensions:\", X_test.shape)"
   ],
   "outputs": [
    {
     "name": "stdout",
     "output_type": "stream",
     "text": [
      "Training set dimensions: (25500, 24)\n",
      "Features count: 24\n",
      "\n",
      "First 5 training samples:\n",
      "         0         1    2    3    4     5    6    7    8    9   ...       14  \\\n",
      "0  21870.0   70000.0  2.0  3.0  2.0  26.0  0.0  0.0  0.0  0.0  ...   8948.0   \n",
      "1  15211.0  320000.0  2.0  2.0  2.0  28.0 -1.0 -1.0 -1.0 -1.0  ...    944.0   \n",
      "2  20041.0   30000.0  2.0  2.0  2.0  36.0  0.0 -1.0 -1.0  0.0  ...  30452.0   \n",
      "3   9190.0   20000.0  2.0  3.0  1.0  35.0  0.0  0.0  2.0  2.0  ...  18621.0   \n",
      "4   6260.0   80000.0  1.0  2.0  2.0  32.0  1.0  2.0  0.0  0.0  ...  28242.0   \n",
      "\n",
      "        15       16       17      18       19      20      21      22      23  \n",
      "0   9006.0  10570.0  11421.0  2000.0   1200.0  1500.0  2000.0  1000.0  2000.0  \n",
      "1    473.0   1747.0   1193.0   390.0    944.0   473.0  5000.0  1200.0   980.0  \n",
      "2  29667.0  28596.0  29180.0   490.0  33299.0  1400.0   572.0   584.0   400.0  \n",
      "3  18024.0  18434.0  19826.0  3000.0   1000.0     0.0   700.0  1700.0     0.0  \n",
      "4  21400.0      0.0      0.0     7.0   1200.0  1408.0     0.0     0.0     0.0  \n",
      "\n",
      "[5 rows x 24 columns]\n",
      "\n",
      "Labels distribution:\n",
      " 0    19815\n",
      "1     5685\n",
      "Name: count, dtype: int64\n",
      "\n",
      "Missing values:\n",
      " ID                            0\n",
      "LIMIT_BAL                     0\n",
      "SEX                           0\n",
      "EDUCATION                     0\n",
      "MARRIAGE                      0\n",
      "AGE                           0\n",
      "PAY_0                         0\n",
      "PAY_2                         0\n",
      "PAY_3                         0\n",
      "PAY_4                         0\n",
      "PAY_5                         0\n",
      "PAY_6                         0\n",
      "BILL_AMT1                     0\n",
      "BILL_AMT2                     0\n",
      "BILL_AMT3                     0\n",
      "BILL_AMT4                     0\n",
      "BILL_AMT5                     0\n",
      "BILL_AMT6                     0\n",
      "PAY_AMT1                      0\n",
      "PAY_AMT2                      0\n",
      "PAY_AMT3                      0\n",
      "PAY_AMT4                      0\n",
      "PAY_AMT5                      0\n",
      "PAY_AMT6                      0\n",
      "default payment next month    0\n",
      "dtype: int64\n",
      "\n",
      "Summary statistics:\n",
      "                 ID       LIMIT_BAL           SEX     EDUCATION      MARRIAGE  \\\n",
      "count  25500.00000    25500.000000  25500.000000  25500.000000  25500.000000   \n",
      "mean   14956.95702   167569.007059      1.604118      1.852353      1.550392   \n",
      "std     8667.36982   130002.156470      0.489049      0.787991      0.522757   \n",
      "min        1.00000    10000.000000      1.000000      0.000000      0.000000   \n",
      "25%     7432.75000    50000.000000      1.000000      1.000000      1.000000   \n",
      "50%    14942.50000   140000.000000      2.000000      2.000000      2.000000   \n",
      "75%    22431.25000   240000.000000      2.000000      2.000000      2.000000   \n",
      "max    30000.00000  1000000.000000      2.000000      6.000000      3.000000   \n",
      "\n",
      "                AGE         PAY_0         PAY_2         PAY_3         PAY_4  \\\n",
      "count  25500.000000  25500.000000  25500.000000  25500.000000  25500.000000   \n",
      "mean      35.509294     -0.013098     -0.130784     -0.163294     -0.218235   \n",
      "std        9.200408      1.126314      1.199481      1.199697      1.169681   \n",
      "min       21.000000     -2.000000     -2.000000     -2.000000     -2.000000   \n",
      "25%       28.000000     -1.000000     -1.000000     -1.000000     -1.000000   \n",
      "50%       34.000000      0.000000      0.000000      0.000000      0.000000   \n",
      "75%       41.000000      0.000000      0.000000      0.000000      0.000000   \n",
      "max       79.000000      8.000000      8.000000      8.000000      8.000000   \n",
      "\n",
      "       ...      BILL_AMT4      BILL_AMT5      BILL_AMT6       PAY_AMT1  \\\n",
      "count  ...   25500.000000   25500.000000   25500.000000   25500.000000   \n",
      "mean   ...   43336.952196   40307.121059   38924.328157    5594.010863   \n",
      "std    ...   64433.082446   60870.691089   59659.509920   16235.253410   \n",
      "min    ... -170000.000000  -81334.000000 -339603.000000       0.000000   \n",
      "25%    ...    2338.750000    1767.250000    1266.750000    1000.000000   \n",
      "50%    ...   19111.000000   18112.500000   17150.000000    2100.000000   \n",
      "75%    ...   54475.000000   50178.250000   49132.500000    5006.000000   \n",
      "max    ...  891586.000000  927171.000000  961664.000000  873552.000000   \n",
      "\n",
      "           PAY_AMT2       PAY_AMT3       PAY_AMT4       PAY_AMT5  \\\n",
      "count  2.550000e+04   25500.000000   25500.000000   25500.000000   \n",
      "mean   5.934389e+03    5319.529647    4812.161373    4812.480431   \n",
      "std    2.381277e+04   18157.653215   15560.524538   15206.108094   \n",
      "min    0.000000e+00       0.000000       0.000000       0.000000   \n",
      "25%    8.270000e+02     396.000000     291.000000     251.000000   \n",
      "50%    2.002000e+03    1800.000000    1500.000000    1500.000000   \n",
      "75%    5.000000e+03    4560.500000    4000.000000    4071.500000   \n",
      "max    1.684259e+06  896040.000000  621000.000000  426529.000000   \n",
      "\n",
      "            PAY_AMT6  default payment next month  \n",
      "count   25500.000000                25500.000000  \n",
      "mean     5236.509176                    0.222941  \n",
      "std     17958.888070                    0.416227  \n",
      "min         0.000000                    0.000000  \n",
      "25%       125.750000                    0.000000  \n",
      "50%      1500.000000                    0.000000  \n",
      "75%      4000.000000                    0.000000  \n",
      "max    528666.000000                    1.000000  \n",
      "\n",
      "[8 rows x 25 columns]\n",
      "\n",
      "Test set dimensions: (4500, 23)\n"
     ]
    }
   ],
   "execution_count": 138
  },
  {
   "cell_type": "markdown",
   "metadata": {
    "id": "PjWrQr5vWTTG"
   },
   "source": [
    "## Preparing the data\n",
    "\n",
    "describe the choice made during the preprocessing operations, also taking into account the previous considerations during the data inspection."
   ]
  },
  {
   "cell_type": "code",
   "metadata": {
    "id": "J84aUJVUJbsI",
    "ExecuteTime": {
     "end_time": "2024-10-24T17:34:29.142764Z",
     "start_time": "2024-10-24T17:34:28.675389Z"
    }
   },
   "source": [
    "import pandas as pd  \n",
    "from sklearn.model_selection import train_test_split  \n",
    "from sklearn.preprocessing import StandardScaler \n",
    "import matplotlib.pyplot as plt \n",
    "\n",
    "def preprocess_data(X, scaler=None):\n",
    "    \"\"\"\n",
    "    Preprocesses the input data by scaling the features using StandardScaler.\n",
    "    \n",
    "    Parameters:\n",
    "    X (pd.DataFrame or np.array): Feature data to be scaled.\n",
    "    scaler (StandardScaler, optional): Pre-fitted scaler object. If None, a new scaler will be fitted to the data.\n",
    "    \n",
    "    Returns:\n",
    "    tuple:\n",
    "        - Scaled feature matrix (np.array)\n",
    "        - Fitted scaler (StandardScaler object)\n",
    "    \n",
    "    The function either uses an existing scaler to transform the data or fits a new one if none is provided.\n",
    "    \"\"\"\n",
    "    # If no scaler is provided, fit a new StandardScaler to the data\n",
    "    if scaler is None:\n",
    "        scaler = StandardScaler().fit(X)\n",
    "    \n",
    "    # Transform the data using the fitted scaler\n",
    "    return scaler.transform(X), scaler\n",
    "\n",
    "# Load the training dataset\n",
    "df_train = pd.read_csv('./train.csv')\n",
    "\n",
    "# Extract the label column ('default payment next month') from the dataset\n",
    "labels_raw = df_train['default payment next month']\n",
    "\n",
    "# Specify columns to be dropped from the feature matrix (e.g., 'ID' and the label column)\n",
    "columns_to_drop = [\"ID\"]\n",
    "\n",
    "# Drop the specified columns and the label from the training dataset to create the feature matrix\n",
    "X_train_raw = df_train.drop(columns=columns_to_drop + ['default payment next month'])\n",
    "\n",
    "# Check for missing values in the dataset and print the count for each column\n",
    "print(\"Missing values:\\n\", df_train.isnull().sum())\n",
    "\n",
    "# Plot the variance of each feature in the dataset\n",
    "plt.figure(figsize=(10, 6))  # Set the figure size for the plot\n",
    "X_train_raw.var().plot(kind='bar')  # Plot variance as a bar chart\n",
    "plt.title('Variance of Each Feature')  # Set plot title\n",
    "plt.xlabel('Features')  # Label for x-axis\n",
    "plt.ylabel('Variance')  # Label for y-axis\n",
    "plt.xticks(rotation=90)  # Rotate feature names for better readability\n",
    "plt.grid(axis='y')  # Add gridlines to y-axis for clarity\n",
    "plt.tight_layout()  # Adjust layout to prevent overlap\n",
    "plt.show()  # Display the plot\n",
    "\n",
    "# Split the dataset into training and validation sets (60% train, 40% validation)\n",
    "# Stratify ensures that the class distribution is maintained in both train and validation sets\n",
    "X_train, X_val, y_train, y_val = train_test_split(X_train_raw, labels_raw, \n",
    "                                                  test_size=0.4, random_state=42, stratify=labels_raw)\n",
    "\n",
    "# Scale the training data using StandardScaler\n",
    "X_train_scaled, scaler = preprocess_data(X_train)\n",
    "\n",
    "# Use the same scaler to scale the validation data\n",
    "X_val_scaled, _ = preprocess_data(X_val, scaler)\n",
    "\n",
    "# Output the shapes of the scaled training and validation datasets as well as their corresponding label sets\n",
    "print(f\"Shapes -> Train: {X_train_scaled.shape}, Val: {X_val_scaled.shape}, \"\n",
    "      f\"Encoded Train: {y_train.shape}, Encoded Val: {y_val.shape}\")"
   ],
   "outputs": [
    {
     "name": "stdout",
     "output_type": "stream",
     "text": [
      "Missing values:\n",
      " ID                            0\n",
      "LIMIT_BAL                     0\n",
      "SEX                           0\n",
      "EDUCATION                     0\n",
      "MARRIAGE                      0\n",
      "AGE                           0\n",
      "PAY_0                         0\n",
      "PAY_2                         0\n",
      "PAY_3                         0\n",
      "PAY_4                         0\n",
      "PAY_5                         0\n",
      "PAY_6                         0\n",
      "BILL_AMT1                     0\n",
      "BILL_AMT2                     0\n",
      "BILL_AMT3                     0\n",
      "BILL_AMT4                     0\n",
      "BILL_AMT5                     0\n",
      "BILL_AMT6                     0\n",
      "PAY_AMT1                      0\n",
      "PAY_AMT2                      0\n",
      "PAY_AMT3                      0\n",
      "PAY_AMT4                      0\n",
      "PAY_AMT5                      0\n",
      "PAY_AMT6                      0\n",
      "default payment next month    0\n",
      "dtype: int64\n"
     ]
    },
    {
     "data": {
      "text/plain": [
       "<Figure size 1000x600 with 1 Axes>"
      ],
      "image/png": "[encoded data removed]"
     },
     "metadata": {},
     "output_type": "display_data"
    },
    {
     "name": "stdout",
     "output_type": "stream",
     "text": [
      "Shapes -> Train: (15300, 23), Val: (10200, 23), Encoded Train: (15300,), Encoded Val: (10200,)\n"
     ]
    }
   ],
   "execution_count": 139
  },
  {
   "cell_type": "markdown",
   "metadata": {
    "id": "Eb9aljYxJbsK"
   },
   "source": [
    "## Building the network\n",
    "\n",
    "any description/comment about the procedure you followed in the choice of the network structure and hyperparameters goes here, together with consideration about the training/optimization procedure (e.g. optimizer choice, final activations, loss functions, training metrics)"
   ]
  },
  {
   "cell_type": "code",
   "metadata": {
    "id": "AS3zsRlBYHKW",
    "ExecuteTime": {
     "end_time": "2024-10-24T17:39:12.425606Z",
     "start_time": "2024-10-24T17:36:27.950362Z"
    }
   },
   "source": [
    "from keras.optimizers import Adam  \n",
    "from keras.layers import Dense, BatchNormalization, Dropout  \n",
    "from keras.models import Sequential  \n",
    "from tensorflow.keras.callbacks import EarlyStopping, ReduceLROnPlateau, Callback  \n",
    "from sklearn.metrics import f1_score \n",
    "from keras.layers import Input  \n",
    "\n",
    "def build_model(input_shape):\n",
    "    \"\"\"\n",
    "    Builds a fully connected neural network model with regularization and batch normalization.\n",
    "    \n",
    "    Parameters:\n",
    "    input_shape (int): The number of input features (shape of the input data).\n",
    "    \n",
    "    Returns:\n",
    "    model (Sequential): A compiled Keras model ready for training.\n",
    "    \"\"\"\n",
    "    model = Sequential()\n",
    "    \n",
    "    # Input layer with specified input shape\n",
    "    model.add(Input(shape=(input_shape,)))\n",
    "    \n",
    "    # First hidden layer with 512 units, ReLU activation, L2 regularization, and batch normalization\n",
    "    model.add(Dense(512, activation='relu', kernel_regularizer='l2'))\n",
    "    model.add(BatchNormalization())\n",
    "    model.add(Dropout(0.5))  # Dropout to reduce overfitting\n",
    "    \n",
    "    # Second hidden layer with 256 units, ReLU activation, L2 regularization, and batch normalization\n",
    "    model.add(Dense(256, activation='relu', kernel_regularizer='l2'))\n",
    "    model.add(BatchNormalization())\n",
    "    model.add(Dropout(0.5))\n",
    "    \n",
    "    # Third hidden layer with 128 units, ReLU activation, L2 regularization, and batch normalization\n",
    "    model.add(Dense(128, activation='relu', kernel_regularizer='l2'))\n",
    "    model.add(BatchNormalization())\n",
    "    \n",
    "    # Output layer with sigmoid activation for binary classification\n",
    "    model.add(Dense(1, activation='sigmoid'))\n",
    "    \n",
    "    # Compile the model with Adam optimizer, binary cross-entropy loss, and accuracy metric\n",
    "    model.compile(optimizer=Adam(learning_rate=0.0001), \n",
    "                  loss='binary_crossentropy', \n",
    "                  metrics=['accuracy'])\n",
    "    return model\n",
    "\n",
    "# Retrieve the number of input features from the training data\n",
    "input_shape = X_train_scaled.shape[1]  \n",
    "model = build_model(input_shape)  # Build the model\n",
    "\n",
    "# Set hyperparameters for training\n",
    "batch_size = 64\n",
    "epochs = 80  # Define the number of epochs for training\n",
    "\n",
    "# Display the model summary for understanding the architecture\n",
    "model.summary()\n",
    "\n",
    "# EarlyStopping: Stops training when the validation loss does not improve for 10 epochs\n",
    "early_stopping = EarlyStopping(monitor='val_loss', patience=10, restore_best_weights=True)\n",
    "\n",
    "# ReduceLROnPlateau: Reduces the learning rate by a factor of 0.5 when the validation loss plateaus for 10 epochs\n",
    "reduce_lr = ReduceLROnPlateau(monitor='val_loss', factor=0.5, patience=20, min_lr=1e-6)\n",
    "\n",
    "# Custom callback to display progress during training with more informative outputs\n",
    "class ProgressBar(Callback):\n",
    "    def on_epoch_begin(self, epoch, logs=None):\n",
    "        self.epoch = epoch\n",
    "    \n",
    "    def on_epoch_end(self, epoch, logs=None):\n",
    "        metrics = (f\"Epoch {self.epoch + 1}/{self.params['epochs']} - \"\n",
    "                   f\"Loss: {logs['loss']:.4f} - \"\n",
    "                   f\"Val Loss: {logs['val_loss']:.4f} - \"\n",
    "                   f\"Accuracy: {logs['accuracy']:.4f} - \"\n",
    "                   f\"Val Accuracy: {logs['val_accuracy']:.4f}\")\n",
    "        print(\"\\r\" + metrics, end='')\n",
    "\n",
    "# Train the model with training data, using early stopping, learning rate reduction, and custom progress bar\n",
    "history = model.fit(X_train_scaled, y_train, \n",
    "                    validation_data=(X_val_scaled, y_val),  # Validation set to monitor during training\n",
    "                    epochs=epochs, batch_size=batch_size, \n",
    "                    callbacks=[early_stopping, reduce_lr, ProgressBar()],  # List of callbacks\n",
    "                    verbose=1)\n",
    "\n",
    "# Evaluate the model on the validation set and print the loss and accuracy\n",
    "val_loss, val_accuracy = model.evaluate(X_val_scaled, y_val, verbose=0)\n",
    "\n",
    "# Display the final validation results\n",
    "print()\n",
    "print(\"\\nRESULTS:\")\n",
    "print(f\"{'Validation Loss:':<20} {val_loss:.4f}\")\n",
    "print(f\"{'Validation Accuracy:':<20} {val_accuracy:.4f}\")\n",
    "\n",
    "# Predict probabilities for the validation set\n",
    "y_pred_prob = model.predict(X_val_scaled, verbose=0) \n",
    "\n",
    "# Convert probabilities to binary predictions (threshold at 0.5)\n",
    "y_pred = (y_pred_prob > 0.5).astype(int)\n",
    "\n",
    "# Calculate and print the F1 score, which is useful for evaluating imbalanced datasets\n",
    "f1 = f1_score(y_val, y_pred)\n",
    "print(f\"{'F1 Score:':<20} {f1:.4f}\")"
   ],
   "outputs": [
    {
     "data": {
      "text/plain": [
       "\u001B[1mModel: \"sequential_31\"\u001B[0m\n"
      ],
      "text/html": [
       "<pre style=\"white-space:pre;overflow-x:auto;line-height:normal;font-family:Menlo,'DejaVu Sans Mono',consolas,'Courier New',monospace\"><span style=\"font-weight: bold\">Model: \"sequential_31\"</span>\n",
       "</pre>\n"
      ]
     },
     "metadata": {},
     "output_type": "display_data"
    },
    {
     "data": {
      "text/plain": [
       "┏━━━━━━━━━━━━━━━━━━━━━━━━━━━━━━━━━┳━━━━━━━━━━━━━━━━━━━━━━━━┳━━━━━━━━━━━━━━━┓\n",
       "┃\u001B[1m \u001B[0m\u001B[1mLayer (type)                   \u001B[0m\u001B[1m \u001B[0m┃\u001B[1m \u001B[0m\u001B[1mOutput Shape          \u001B[0m\u001B[1m \u001B[0m┃\u001B[1m \u001B[0m\u001B[1m      Param #\u001B[0m\u001B[1m \u001B[0m┃\n",
       "┡━━━━━━━━━━━━━━━━━━━━━━━━━━━━━━━━━╇━━━━━━━━━━━━━━━━━━━━━━━━╇━━━━━━━━━━━━━━━┩\n",
       "│ dense_127 (\u001B[38;5;33mDense\u001B[0m)               │ (\u001B[38;5;45mNone\u001B[0m, \u001B[38;5;34m512\u001B[0m)            │        \u001B[38;5;34m12,288\u001B[0m │\n",
       "├─────────────────────────────────┼────────────────────────┼───────────────┤\n",
       "│ batch_normalization_97          │ (\u001B[38;5;45mNone\u001B[0m, \u001B[38;5;34m512\u001B[0m)            │         \u001B[38;5;34m2,048\u001B[0m │\n",
       "│ (\u001B[38;5;33mBatchNormalization\u001B[0m)            │                        │               │\n",
       "├─────────────────────────────────┼────────────────────────┼───────────────┤\n",
       "│ dropout_67 (\u001B[38;5;33mDropout\u001B[0m)            │ (\u001B[38;5;45mNone\u001B[0m, \u001B[38;5;34m512\u001B[0m)            │             \u001B[38;5;34m0\u001B[0m │\n",
       "├─────────────────────────────────┼────────────────────────┼───────────────┤\n",
       "│ dense_128 (\u001B[38;5;33mDense\u001B[0m)               │ (\u001B[38;5;45mNone\u001B[0m, \u001B[38;5;34m256\u001B[0m)            │       \u001B[38;5;34m131,328\u001B[0m │\n",
       "├─────────────────────────────────┼────────────────────────┼───────────────┤\n",
       "│ batch_normalization_98          │ (\u001B[38;5;45mNone\u001B[0m, \u001B[38;5;34m256\u001B[0m)            │         \u001B[38;5;34m1,024\u001B[0m │\n",
       "│ (\u001B[38;5;33mBatchNormalization\u001B[0m)            │                        │               │\n",
       "├─────────────────────────────────┼────────────────────────┼───────────────┤\n",
       "│ dropout_68 (\u001B[38;5;33mDropout\u001B[0m)            │ (\u001B[38;5;45mNone\u001B[0m, \u001B[38;5;34m256\u001B[0m)            │             \u001B[38;5;34m0\u001B[0m │\n",
       "├─────────────────────────────────┼────────────────────────┼───────────────┤\n",
       "│ dense_129 (\u001B[38;5;33mDense\u001B[0m)               │ (\u001B[38;5;45mNone\u001B[0m, \u001B[38;5;34m128\u001B[0m)            │        \u001B[38;5;34m32,896\u001B[0m │\n",
       "├─────────────────────────────────┼────────────────────────┼───────────────┤\n",
       "│ batch_normalization_99          │ (\u001B[38;5;45mNone\u001B[0m, \u001B[38;5;34m128\u001B[0m)            │           \u001B[38;5;34m512\u001B[0m │\n",
       "│ (\u001B[38;5;33mBatchNormalization\u001B[0m)            │                        │               │\n",
       "├─────────────────────────────────┼────────────────────────┼───────────────┤\n",
       "│ dense_130 (\u001B[38;5;33mDense\u001B[0m)               │ (\u001B[38;5;45mNone\u001B[0m, \u001B[38;5;34m1\u001B[0m)              │           \u001B[38;5;34m129\u001B[0m │\n",
       "└─────────────────────────────────┴────────────────────────┴───────────────┘\n"
      ],
      "text/html": [
       "<pre style=\"white-space:pre;overflow-x:auto;line-height:normal;font-family:Menlo,'DejaVu Sans Mono',consolas,'Courier New',monospace\">┏━━━━━━━━━━━━━━━━━━━━━━━━━━━━━━━━━┳━━━━━━━━━━━━━━━━━━━━━━━━┳━━━━━━━━━━━━━━━┓\n",
       "┃<span style=\"font-weight: bold\"> Layer (type)                    </span>┃<span style=\"font-weight: bold\"> Output Shape           </span>┃<span style=\"font-weight: bold\">       Param # </span>┃\n",
       "┡━━━━━━━━━━━━━━━━━━━━━━━━━━━━━━━━━╇━━━━━━━━━━━━━━━━━━━━━━━━╇━━━━━━━━━━━━━━━┩\n",
       "│ dense_127 (<span style=\"color: #0087ff; text-decoration-color: #0087ff\">Dense</span>)               │ (<span style=\"color: #00d7ff; text-decoration-color: #00d7ff\">None</span>, <span style=\"color: #00af00; text-decoration-color: #00af00\">512</span>)            │        <span style=\"color: #00af00; text-decoration-color: #00af00\">12,288</span> │\n",
       "├─────────────────────────────────┼────────────────────────┼───────────────┤\n",
       "│ batch_normalization_97          │ (<span style=\"color: #00d7ff; text-decoration-color: #00d7ff\">None</span>, <span style=\"color: #00af00; text-decoration-color: #00af00\">512</span>)            │         <span style=\"color: #00af00; text-decoration-color: #00af00\">2,048</span> │\n",
       "│ (<span style=\"color: #0087ff; text-decoration-color: #0087ff\">BatchNormalization</span>)            │                        │               │\n",
       "├─────────────────────────────────┼────────────────────────┼───────────────┤\n",
       "│ dropout_67 (<span style=\"color: #0087ff; text-decoration-color: #0087ff\">Dropout</span>)            │ (<span style=\"color: #00d7ff; text-decoration-color: #00d7ff\">None</span>, <span style=\"color: #00af00; text-decoration-color: #00af00\">512</span>)            │             <span style=\"color: #00af00; text-decoration-color: #00af00\">0</span> │\n",
       "├─────────────────────────────────┼────────────────────────┼───────────────┤\n",
       "│ dense_128 (<span style=\"color: #0087ff; text-decoration-color: #0087ff\">Dense</span>)               │ (<span style=\"color: #00d7ff; text-decoration-color: #00d7ff\">None</span>, <span style=\"color: #00af00; text-decoration-color: #00af00\">256</span>)            │       <span style=\"color: #00af00; text-decoration-color: #00af00\">131,328</span> │\n",
       "├─────────────────────────────────┼────────────────────────┼───────────────┤\n",
       "│ batch_normalization_98          │ (<span style=\"color: #00d7ff; text-decoration-color: #00d7ff\">None</span>, <span style=\"color: #00af00; text-decoration-color: #00af00\">256</span>)            │         <span style=\"color: #00af00; text-decoration-color: #00af00\">1,024</span> │\n",
       "│ (<span style=\"color: #0087ff; text-decoration-color: #0087ff\">BatchNormalization</span>)            │                        │               │\n",
       "├─────────────────────────────────┼────────────────────────┼───────────────┤\n",
       "│ dropout_68 (<span style=\"color: #0087ff; text-decoration-color: #0087ff\">Dropout</span>)            │ (<span style=\"color: #00d7ff; text-decoration-color: #00d7ff\">None</span>, <span style=\"color: #00af00; text-decoration-color: #00af00\">256</span>)            │             <span style=\"color: #00af00; text-decoration-color: #00af00\">0</span> │\n",
       "├─────────────────────────────────┼────────────────────────┼───────────────┤\n",
       "│ dense_129 (<span style=\"color: #0087ff; text-decoration-color: #0087ff\">Dense</span>)               │ (<span style=\"color: #00d7ff; text-decoration-color: #00d7ff\">None</span>, <span style=\"color: #00af00; text-decoration-color: #00af00\">128</span>)            │        <span style=\"color: #00af00; text-decoration-color: #00af00\">32,896</span> │\n",
       "├─────────────────────────────────┼────────────────────────┼───────────────┤\n",
       "│ batch_normalization_99          │ (<span style=\"color: #00d7ff; text-decoration-color: #00d7ff\">None</span>, <span style=\"color: #00af00; text-decoration-color: #00af00\">128</span>)            │           <span style=\"color: #00af00; text-decoration-color: #00af00\">512</span> │\n",
       "│ (<span style=\"color: #0087ff; text-decoration-color: #0087ff\">BatchNormalization</span>)            │                        │               │\n",
       "├─────────────────────────────────┼────────────────────────┼───────────────┤\n",
       "│ dense_130 (<span style=\"color: #0087ff; text-decoration-color: #0087ff\">Dense</span>)               │ (<span style=\"color: #00d7ff; text-decoration-color: #00d7ff\">None</span>, <span style=\"color: #00af00; text-decoration-color: #00af00\">1</span>)              │           <span style=\"color: #00af00; text-decoration-color: #00af00\">129</span> │\n",
       "└─────────────────────────────────┴────────────────────────┴───────────────┘\n",
       "</pre>\n"
      ]
     },
     "metadata": {},
     "output_type": "display_data"
    },
    {
     "data": {
      "text/plain": [
       "\u001B[1m Total params: \u001B[0m\u001B[38;5;34m180,225\u001B[0m (704.00 KB)\n"
      ],
      "text/html": [
       "<pre style=\"white-space:pre;overflow-x:auto;line-height:normal;font-family:Menlo,'DejaVu Sans Mono',consolas,'Courier New',monospace\"><span style=\"font-weight: bold\"> Total params: </span><span style=\"color: #00af00; text-decoration-color: #00af00\">180,225</span> (704.00 KB)\n",
       "</pre>\n"
      ]
     },
     "metadata": {},
     "output_type": "display_data"
    },
    {
     "data": {
      "text/plain": [
       "\u001B[1m Trainable params: \u001B[0m\u001B[38;5;34m178,433\u001B[0m (697.00 KB)\n"
      ],
      "text/html": [
       "<pre style=\"white-space:pre;overflow-x:auto;line-height:normal;font-family:Menlo,'DejaVu Sans Mono',consolas,'Courier New',monospace\"><span style=\"font-weight: bold\"> Trainable params: </span><span style=\"color: #00af00; text-decoration-color: #00af00\">178,433</span> (697.00 KB)\n",
       "</pre>\n"
      ]
     },
     "metadata": {},
     "output_type": "display_data"
    },
    {
     "data": {
      "text/plain": [
       "\u001B[1m Non-trainable params: \u001B[0m\u001B[38;5;34m1,792\u001B[0m (7.00 KB)\n"
      ],
      "text/html": [
       "<pre style=\"white-space:pre;overflow-x:auto;line-height:normal;font-family:Menlo,'DejaVu Sans Mono',consolas,'Courier New',monospace\"><span style=\"font-weight: bold\"> Non-trainable params: </span><span style=\"color: #00af00; text-decoration-color: #00af00\">1,792</span> (7.00 KB)\n",
       "</pre>\n"
      ]
     },
     "metadata": {},
     "output_type": "display_data"
    },
    {
     "name": "stdout",
     "output_type": "stream",
     "text": [
      "Epoch 1/80\n",
      "\u001B[1m240/240\u001B[0m \u001B[32m━━━━━━━━━━━━━━━━━━━━\u001B[0m\u001B[37m\u001B[0m \u001B[1m5s\u001B[0m 8ms/step - accuracy: 0.5595 - loss: 6.1598 - val_accuracy: 0.8075 - val_loss: 5.3129 - learning_rate: 1.0000e-04\n",
      "Epoch 2/80\n",
      "\u001B[1m240/240\u001B[0m \u001B[32m━━━━━━━━━━━━━━━━━━━━\u001B[0m\u001B[37m\u001B[0m \u001B[1m2s\u001B[0m 9ms/step - accuracy: 0.6980 - loss: 5.2211 - val_accuracy: 0.8039 - val_loss: 4.6203 - learning_rate: 1.0000e-04\n",
      "Epoch 3/80\n",
      "\u001B[1m240/240\u001B[0m \u001B[32m━━━━━━━━━━━━━━━━━━━━\u001B[0m\u001B[37m\u001B[0m \u001B[1m2s\u001B[0m 8ms/step - accuracy: 0.7528 - loss: 4.4866 - val_accuracy: 0.8129 - val_loss: 3.9988 - learning_rate: 1.0000e-04\n",
      "Epoch 4/80\n",
      "\u001B[1m240/240\u001B[0m \u001B[32m━━━━━━━━━━━━━━━━━━━━\u001B[0m\u001B[37m\u001B[0m \u001B[1m2s\u001B[0m 8ms/step - accuracy: 0.7833 - loss: 3.8959 - val_accuracy: 0.8160 - val_loss: 3.4817 - learning_rate: 1.0000e-04\n",
      "Epoch 5/80\n",
      "\u001B[1m240/240\u001B[0m \u001B[32m━━━━━━━━━━━━━━━━━━━━\u001B[0m\u001B[37m\u001B[0m \u001B[1m2s\u001B[0m 8ms/step - accuracy: 0.7848 - loss: 3.4076 - val_accuracy: 0.8167 - val_loss: 3.0643 - learning_rate: 1.0000e-04\n",
      "Epoch 6/80\n",
      "\u001B[1m240/240\u001B[0m \u001B[32m━━━━━━━━━━━━━━━━━━━━\u001B[0m\u001B[37m\u001B[0m \u001B[1m2s\u001B[0m 8ms/step - accuracy: 0.7935 - loss: 3.0207 - val_accuracy: 0.8165 - val_loss: 2.7260 - learning_rate: 1.0000e-04\n",
      "Epoch 7/80\n",
      "\u001B[1m240/240\u001B[0m \u001B[32m━━━━━━━━━━━━━━━━━━━━\u001B[0m\u001B[37m\u001B[0m \u001B[1m2s\u001B[0m 8ms/step - accuracy: 0.7994 - loss: 2.6934 - val_accuracy: 0.8175 - val_loss: 2.4475 - learning_rate: 1.0000e-04\n",
      "Epoch 8/80\n",
      "\u001B[1m240/240\u001B[0m \u001B[32m━━━━━━━━━━━━━━━━━━━━\u001B[0m\u001B[37m\u001B[0m \u001B[1m2s\u001B[0m 10ms/step - accuracy: 0.7983 - loss: 2.4145 - val_accuracy: 0.8158 - val_loss: 2.2094 - learning_rate: 1.0000e-04\n",
      "Epoch 9/80\n",
      "\u001B[1m240/240\u001B[0m \u001B[32m━━━━━━━━━━━━━━━━━━━━\u001B[0m\u001B[37m\u001B[0m \u001B[1m2s\u001B[0m 9ms/step - accuracy: 0.7987 - loss: 2.1832 - val_accuracy: 0.8162 - val_loss: 2.0040 - learning_rate: 1.0000e-04\n",
      "Epoch 10/80\n",
      "\u001B[1m240/240\u001B[0m \u001B[32m━━━━━━━━━━━━━━━━━━━━\u001B[0m\u001B[37m\u001B[0m \u001B[1m2s\u001B[0m 8ms/step - accuracy: 0.8007 - loss: 1.9874 - val_accuracy: 0.8150 - val_loss: 1.8264 - learning_rate: 1.0000e-04\n",
      "Epoch 11/80\n",
      "\u001B[1m240/240\u001B[0m \u001B[32m━━━━━━━━━━━━━━━━━━━━\u001B[0m\u001B[37m\u001B[0m \u001B[1m2s\u001B[0m 7ms/step - accuracy: 0.8073 - loss: 1.8107 - val_accuracy: 0.8151 - val_loss: 1.6758 - learning_rate: 1.0000e-04\n",
      "Epoch 12/80\n",
      "\u001B[1m240/240\u001B[0m \u001B[32m━━━━━━━━━━━━━━━━━━━━\u001B[0m\u001B[37m\u001B[0m \u001B[1m2s\u001B[0m 8ms/step - accuracy: 0.8015 - loss: 1.6636 - val_accuracy: 0.8161 - val_loss: 1.5435 - learning_rate: 1.0000e-04\n",
      "Epoch 13/80\n",
      "\u001B[1m240/240\u001B[0m \u001B[32m━━━━━━━━━━━━━━━━━━━━\u001B[0m\u001B[37m\u001B[0m \u001B[1m2s\u001B[0m 7ms/step - accuracy: 0.8005 - loss: 1.5433 - val_accuracy: 0.8164 - val_loss: 1.4248 - learning_rate: 1.0000e-04\n",
      "Epoch 14/80\n",
      "\u001B[1m240/240\u001B[0m \u001B[32m━━━━━━━━━━━━━━━━━━━━\u001B[0m\u001B[37m\u001B[0m \u001B[1m2s\u001B[0m 8ms/step - accuracy: 0.8142 - loss: 1.4059 - val_accuracy: 0.8147 - val_loss: 1.3243 - learning_rate: 1.0000e-04\n",
      "Epoch 15/80\n",
      "\u001B[1m240/240\u001B[0m \u001B[32m━━━━━━━━━━━━━━━━━━━━\u001B[0m\u001B[37m\u001B[0m \u001B[1m2s\u001B[0m 9ms/step - accuracy: 0.8104 - loss: 1.3184 - val_accuracy: 0.8191 - val_loss: 1.2311 - learning_rate: 1.0000e-04\n",
      "Epoch 16/80\n",
      "\u001B[1m240/240\u001B[0m \u001B[32m━━━━━━━━━━━━━━━━━━━━\u001B[0m\u001B[37m\u001B[0m \u001B[1m2s\u001B[0m 8ms/step - accuracy: 0.8104 - loss: 1.2230 - val_accuracy: 0.8171 - val_loss: 1.1502 - learning_rate: 1.0000e-04\n",
      "Epoch 17/80\n",
      "\u001B[1m240/240\u001B[0m \u001B[32m━━━━━━━━━━━━━━━━━━━━\u001B[0m\u001B[37m\u001B[0m \u001B[1m2s\u001B[0m 9ms/step - accuracy: 0.8096 - loss: 1.1470 - val_accuracy: 0.8168 - val_loss: 1.0811 - learning_rate: 1.0000e-04\n",
      "Epoch 18/80\n",
      "\u001B[1m240/240\u001B[0m \u001B[32m━━━━━━━━━━━━━━━━━━━━\u001B[0m\u001B[37m\u001B[0m \u001B[1m2s\u001B[0m 8ms/step - accuracy: 0.8155 - loss: 1.0788 - val_accuracy: 0.8170 - val_loss: 1.0191 - learning_rate: 1.0000e-04\n",
      "Epoch 19/80\n",
      "\u001B[1m240/240\u001B[0m \u001B[32m━━━━━━━━━━━━━━━━━━━━\u001B[0m\u001B[37m\u001B[0m \u001B[1m2s\u001B[0m 8ms/step - accuracy: 0.8076 - loss: 1.0290 - val_accuracy: 0.8179 - val_loss: 0.9608 - learning_rate: 1.0000e-04\n",
      "Epoch 20/80\n",
      "\u001B[1m240/240\u001B[0m \u001B[32m━━━━━━━━━━━━━━━━━━━━\u001B[0m\u001B[37m\u001B[0m \u001B[1m2s\u001B[0m 9ms/step - accuracy: 0.8089 - loss: 0.9608 - val_accuracy: 0.8181 - val_loss: 0.9141 - learning_rate: 1.0000e-04\n",
      "Epoch 21/80\n",
      "\u001B[1m240/240\u001B[0m \u001B[32m━━━━━━━━━━━━━━━━━━━━\u001B[0m\u001B[37m\u001B[0m \u001B[1m2s\u001B[0m 8ms/step - accuracy: 0.8145 - loss: 0.9135 - val_accuracy: 0.8178 - val_loss: 0.8731 - learning_rate: 1.0000e-04\n",
      "Epoch 22/80\n",
      "\u001B[1m240/240\u001B[0m \u001B[32m━━━━━━━━━━━━━━━━━━━━\u001B[0m\u001B[37m\u001B[0m \u001B[1m2s\u001B[0m 7ms/step - accuracy: 0.8116 - loss: 0.8685 - val_accuracy: 0.8184 - val_loss: 0.8366 - learning_rate: 1.0000e-04\n",
      "Epoch 23/80\n",
      "\u001B[1m240/240\u001B[0m \u001B[32m━━━━━━━━━━━━━━━━━━━━\u001B[0m\u001B[37m\u001B[0m \u001B[1m2s\u001B[0m 8ms/step - accuracy: 0.8143 - loss: 0.8322 - val_accuracy: 0.8175 - val_loss: 0.8032 - learning_rate: 1.0000e-04\n",
      "Epoch 24/80\n",
      "\u001B[1m240/240\u001B[0m \u001B[32m━━━━━━━━━━━━━━━━━━━━\u001B[0m\u001B[37m\u001B[0m \u001B[1m2s\u001B[0m 8ms/step - accuracy: 0.8168 - loss: 0.8009 - val_accuracy: 0.8183 - val_loss: 0.7691 - learning_rate: 1.0000e-04\n",
      "Epoch 25/80\n",
      "\u001B[1m240/240\u001B[0m \u001B[32m━━━━━━━━━━━━━━━━━━━━\u001B[0m\u001B[37m\u001B[0m \u001B[1m2s\u001B[0m 8ms/step - accuracy: 0.8095 - loss: 0.7765 - val_accuracy: 0.8152 - val_loss: 0.7481 - learning_rate: 1.0000e-04\n",
      "Epoch 26/80\n",
      "\u001B[1m240/240\u001B[0m \u001B[32m━━━━━━━━━━━━━━━━━━━━\u001B[0m\u001B[37m\u001B[0m \u001B[1m2s\u001B[0m 7ms/step - accuracy: 0.8132 - loss: 0.7394 - val_accuracy: 0.8183 - val_loss: 0.7150 - learning_rate: 1.0000e-04\n",
      "Epoch 27/80\n",
      "\u001B[1m240/240\u001B[0m \u001B[32m━━━━━━━━━━━━━━━━━━━━\u001B[0m\u001B[37m\u001B[0m \u001B[1m2s\u001B[0m 7ms/step - accuracy: 0.8146 - loss: 0.7142 - val_accuracy: 0.8166 - val_loss: 0.6937 - learning_rate: 1.0000e-04\n",
      "Epoch 28/80\n",
      "\u001B[1m240/240\u001B[0m \u001B[32m━━━━━━━━━━━━━━━━━━━━\u001B[0m\u001B[37m\u001B[0m \u001B[1m2s\u001B[0m 8ms/step - accuracy: 0.8149 - loss: 0.6917 - val_accuracy: 0.8189 - val_loss: 0.6707 - learning_rate: 1.0000e-04\n",
      "Epoch 29/80\n",
      "\u001B[1m240/240\u001B[0m \u001B[32m━━━━━━━━━━━━━━━━━━━━\u001B[0m\u001B[37m\u001B[0m \u001B[1m2s\u001B[0m 8ms/step - accuracy: 0.8113 - loss: 0.6824 - val_accuracy: 0.8175 - val_loss: 0.6515 - learning_rate: 1.0000e-04\n",
      "Epoch 30/80\n",
      "\u001B[1m240/240\u001B[0m \u001B[32m━━━━━━━━━━━━━━━━━━━━\u001B[0m\u001B[37m\u001B[0m \u001B[1m2s\u001B[0m 7ms/step - accuracy: 0.8192 - loss: 0.6456 - val_accuracy: 0.8173 - val_loss: 0.6368 - learning_rate: 1.0000e-04\n",
      "Epoch 31/80\n",
      "\u001B[1m240/240\u001B[0m \u001B[32m━━━━━━━━━━━━━━━━━━━━\u001B[0m\u001B[37m\u001B[0m \u001B[1m2s\u001B[0m 7ms/step - accuracy: 0.8153 - loss: 0.6296 - val_accuracy: 0.8168 - val_loss: 0.6200 - learning_rate: 1.0000e-04\n",
      "Epoch 32/80\n",
      "\u001B[1m240/240\u001B[0m \u001B[32m━━━━━━━━━━━━━━━━━━━━\u001B[0m\u001B[37m\u001B[0m \u001B[1m2s\u001B[0m 8ms/step - accuracy: 0.8129 - loss: 0.6209 - val_accuracy: 0.8133 - val_loss: 0.6093 - learning_rate: 1.0000e-04\n",
      "Epoch 33/80\n",
      "\u001B[1m240/240\u001B[0m \u001B[32m━━━━━━━━━━━━━━━━━━━━\u001B[0m\u001B[37m\u001B[0m \u001B[1m2s\u001B[0m 8ms/step - accuracy: 0.8097 - loss: 0.6099 - val_accuracy: 0.8176 - val_loss: 0.5925 - learning_rate: 1.0000e-04\n",
      "Epoch 34/80\n",
      "\u001B[1m240/240\u001B[0m \u001B[32m━━━━━━━━━━━━━━━━━━━━\u001B[0m\u001B[37m\u001B[0m \u001B[1m2s\u001B[0m 7ms/step - accuracy: 0.8160 - loss: 0.5843 - val_accuracy: 0.8165 - val_loss: 0.5829 - learning_rate: 1.0000e-04\n",
      "Epoch 35/80\n",
      "\u001B[1m240/240\u001B[0m \u001B[32m━━━━━━━━━━━━━━━━━━━━\u001B[0m\u001B[37m\u001B[0m \u001B[1m2s\u001B[0m 9ms/step - accuracy: 0.8168 - loss: 0.5750 - val_accuracy: 0.8176 - val_loss: 0.5698 - learning_rate: 1.0000e-04\n",
      "Epoch 36/80\n",
      "\u001B[1m240/240\u001B[0m \u001B[32m━━━━━━━━━━━━━━━━━━━━\u001B[0m\u001B[37m\u001B[0m \u001B[1m2s\u001B[0m 7ms/step - accuracy: 0.8166 - loss: 0.5666 - val_accuracy: 0.8178 - val_loss: 0.5601 - learning_rate: 1.0000e-04\n",
      "Epoch 37/80\n",
      "\u001B[1m240/240\u001B[0m \u001B[32m━━━━━━━━━━━━━━━━━━━━\u001B[0m\u001B[37m\u001B[0m \u001B[1m2s\u001B[0m 10ms/step - accuracy: 0.8134 - loss: 0.5606 - val_accuracy: 0.8176 - val_loss: 0.5539 - learning_rate: 1.0000e-04\n",
      "Epoch 38/80\n",
      "\u001B[1m240/240\u001B[0m \u001B[32m━━━━━━━━━━━━━━━━━━━━\u001B[0m\u001B[37m\u001B[0m \u001B[1m2s\u001B[0m 8ms/step - accuracy: 0.8129 - loss: 0.5547 - val_accuracy: 0.8177 - val_loss: 0.5463 - learning_rate: 1.0000e-04\n",
      "Epoch 39/80\n",
      "\u001B[1m240/240\u001B[0m \u001B[32m━━━━━━━━━━━━━━━━━━━━\u001B[0m\u001B[37m\u001B[0m \u001B[1m2s\u001B[0m 7ms/step - accuracy: 0.8207 - loss: 0.5365 - val_accuracy: 0.8162 - val_loss: 0.5363 - learning_rate: 1.0000e-04\n",
      "Epoch 40/80\n",
      "\u001B[1m240/240\u001B[0m \u001B[32m━━━━━━━━━━━━━━━━━━━━\u001B[0m\u001B[37m\u001B[0m \u001B[1m2s\u001B[0m 8ms/step - accuracy: 0.8131 - loss: 0.5363 - val_accuracy: 0.8171 - val_loss: 0.5305 - learning_rate: 1.0000e-04\n",
      "Epoch 41/80\n",
      "\u001B[1m240/240\u001B[0m \u001B[32m━━━━━━━━━━━━━━━━━━━━\u001B[0m\u001B[37m\u001B[0m \u001B[1m2s\u001B[0m 7ms/step - accuracy: 0.8156 - loss: 0.5300 - val_accuracy: 0.8178 - val_loss: 0.5289 - learning_rate: 1.0000e-04\n",
      "Epoch 42/80\n",
      "\u001B[1m240/240\u001B[0m \u001B[32m━━━━━━━━━━━━━━━━━━━━\u001B[0m\u001B[37m\u001B[0m \u001B[1m2s\u001B[0m 6ms/step - accuracy: 0.8141 - loss: 0.5283 - val_accuracy: 0.8159 - val_loss: 0.5249 - learning_rate: 1.0000e-04\n",
      "Epoch 43/80\n",
      "\u001B[1m240/240\u001B[0m \u001B[32m━━━━━━━━━━━━━━━━━━━━\u001B[0m\u001B[37m\u001B[0m \u001B[1m2s\u001B[0m 7ms/step - accuracy: 0.8169 - loss: 0.5203 - val_accuracy: 0.8173 - val_loss: 0.5169 - learning_rate: 1.0000e-04\n",
      "Epoch 44/80\n",
      "\u001B[1m240/240\u001B[0m \u001B[32m━━━━━━━━━━━━━━━━━━━━\u001B[0m\u001B[37m\u001B[0m \u001B[1m2s\u001B[0m 7ms/step - accuracy: 0.8183 - loss: 0.5104 - val_accuracy: 0.8168 - val_loss: 0.5130 - learning_rate: 1.0000e-04\n",
      "Epoch 45/80\n",
      "\u001B[1m240/240\u001B[0m \u001B[32m━━━━━━━━━━━━━━━━━━━━\u001B[0m\u001B[37m\u001B[0m \u001B[1m2s\u001B[0m 7ms/step - accuracy: 0.8163 - loss: 0.5105 - val_accuracy: 0.8179 - val_loss: 0.5089 - learning_rate: 1.0000e-04\n",
      "Epoch 46/80\n",
      "\u001B[1m240/240\u001B[0m \u001B[32m━━━━━━━━━━━━━━━━━━━━\u001B[0m\u001B[37m\u001B[0m \u001B[1m1s\u001B[0m 6ms/step - accuracy: 0.8142 - loss: 0.5117 - val_accuracy: 0.8183 - val_loss: 0.5059 - learning_rate: 1.0000e-04\n",
      "Epoch 47/80\n",
      "\u001B[1m240/240\u001B[0m \u001B[32m━━━━━━━━━━━━━━━━━━━━\u001B[0m\u001B[37m\u001B[0m \u001B[1m2s\u001B[0m 7ms/step - accuracy: 0.8196 - loss: 0.5018 - val_accuracy: 0.8174 - val_loss: 0.5036 - learning_rate: 1.0000e-04\n",
      "Epoch 48/80\n",
      "\u001B[1m240/240\u001B[0m \u001B[32m━━━━━━━━━━━━━━━━━━━━\u001B[0m\u001B[37m\u001B[0m \u001B[1m2s\u001B[0m 6ms/step - accuracy: 0.8181 - loss: 0.5034 - val_accuracy: 0.8168 - val_loss: 0.5004 - learning_rate: 1.0000e-04\n",
      "Epoch 49/80\n",
      "\u001B[1m240/240\u001B[0m \u001B[32m━━━━━━━━━━━━━━━━━━━━\u001B[0m\u001B[37m\u001B[0m \u001B[1m1s\u001B[0m 6ms/step - accuracy: 0.8206 - loss: 0.4898 - val_accuracy: 0.8187 - val_loss: 0.4985 - learning_rate: 1.0000e-04\n",
      "Epoch 50/80\n",
      "\u001B[1m240/240\u001B[0m \u001B[32m━━━━━━━━━━━━━━━━━━━━\u001B[0m\u001B[37m\u001B[0m \u001B[1m2s\u001B[0m 7ms/step - accuracy: 0.8135 - loss: 0.4983 - val_accuracy: 0.8198 - val_loss: 0.4927 - learning_rate: 1.0000e-04\n",
      "Epoch 51/80\n",
      "\u001B[1m240/240\u001B[0m \u001B[32m━━━━━━━━━━━━━━━━━━━━\u001B[0m\u001B[37m\u001B[0m \u001B[1m2s\u001B[0m 8ms/step - accuracy: 0.8130 - loss: 0.4967 - val_accuracy: 0.8164 - val_loss: 0.4959 - learning_rate: 1.0000e-04\n",
      "Epoch 52/80\n",
      "\u001B[1m240/240\u001B[0m \u001B[32m━━━━━━━━━━━━━━━━━━━━\u001B[0m\u001B[37m\u001B[0m \u001B[1m2s\u001B[0m 7ms/step - accuracy: 0.8137 - loss: 0.4918 - val_accuracy: 0.8161 - val_loss: 0.4956 - learning_rate: 1.0000e-04\n",
      "Epoch 53/80\n",
      "\u001B[1m240/240\u001B[0m \u001B[32m━━━━━━━━━━━━━━━━━━━━\u001B[0m\u001B[37m\u001B[0m \u001B[1m2s\u001B[0m 8ms/step - accuracy: 0.8238 - loss: 0.4803 - val_accuracy: 0.8178 - val_loss: 0.4862 - learning_rate: 1.0000e-04\n",
      "Epoch 54/80\n",
      "\u001B[1m240/240\u001B[0m \u001B[32m━━━━━━━━━━━━━━━━━━━━\u001B[0m\u001B[37m\u001B[0m \u001B[1m2s\u001B[0m 7ms/step - accuracy: 0.8201 - loss: 0.4819 - val_accuracy: 0.8166 - val_loss: 0.4888 - learning_rate: 1.0000e-04\n",
      "Epoch 55/80\n",
      "\u001B[1m240/240\u001B[0m \u001B[32m━━━━━━━━━━━━━━━━━━━━\u001B[0m\u001B[37m\u001B[0m \u001B[1m2s\u001B[0m 7ms/step - accuracy: 0.8216 - loss: 0.4806 - val_accuracy: 0.8164 - val_loss: 0.4820 - learning_rate: 1.0000e-04\n",
      "Epoch 56/80\n",
      "\u001B[1m240/240\u001B[0m \u001B[32m━━━━━━━━━━━━━━━━━━━━\u001B[0m\u001B[37m\u001B[0m \u001B[1m2s\u001B[0m 7ms/step - accuracy: 0.8212 - loss: 0.4802 - val_accuracy: 0.8187 - val_loss: 0.4864 - learning_rate: 1.0000e-04\n",
      "Epoch 57/80\n",
      "\u001B[1m240/240\u001B[0m \u001B[32m━━━━━━━━━━━━━━━━━━━━\u001B[0m\u001B[37m\u001B[0m \u001B[1m2s\u001B[0m 6ms/step - accuracy: 0.8187 - loss: 0.4796 - val_accuracy: 0.8175 - val_loss: 0.4836 - learning_rate: 1.0000e-04\n",
      "Epoch 58/80\n",
      "\u001B[1m240/240\u001B[0m \u001B[32m━━━━━━━━━━━━━━━━━━━━\u001B[0m\u001B[37m\u001B[0m \u001B[1m2s\u001B[0m 7ms/step - accuracy: 0.8191 - loss: 0.4781 - val_accuracy: 0.8192 - val_loss: 0.4798 - learning_rate: 1.0000e-04\n",
      "Epoch 59/80\n",
      "\u001B[1m240/240\u001B[0m \u001B[32m━━━━━━━━━━━━━━━━━━━━\u001B[0m\u001B[37m\u001B[0m \u001B[1m2s\u001B[0m 7ms/step - accuracy: 0.8181 - loss: 0.4732 - val_accuracy: 0.8184 - val_loss: 0.4814 - learning_rate: 1.0000e-04\n",
      "Epoch 60/80\n",
      "\u001B[1m240/240\u001B[0m \u001B[32m━━━━━━━━━━━━━━━━━━━━\u001B[0m\u001B[37m\u001B[0m \u001B[1m2s\u001B[0m 8ms/step - accuracy: 0.8211 - loss: 0.4710 - val_accuracy: 0.8180 - val_loss: 0.4778 - learning_rate: 1.0000e-04\n",
      "Epoch 61/80\n",
      "\u001B[1m240/240\u001B[0m \u001B[32m━━━━━━━━━━━━━━━━━━━━\u001B[0m\u001B[37m\u001B[0m \u001B[1m2s\u001B[0m 6ms/step - accuracy: 0.8163 - loss: 0.4767 - val_accuracy: 0.8170 - val_loss: 0.4780 - learning_rate: 1.0000e-04\n",
      "Epoch 62/80\n",
      "\u001B[1m240/240\u001B[0m \u001B[32m━━━━━━━━━━━━━━━━━━━━\u001B[0m\u001B[37m\u001B[0m \u001B[1m2s\u001B[0m 7ms/step - accuracy: 0.8156 - loss: 0.4744 - val_accuracy: 0.8174 - val_loss: 0.4817 - learning_rate: 1.0000e-04\n",
      "Epoch 63/80\n",
      "\u001B[1m240/240\u001B[0m \u001B[32m━━━━━━━━━━━━━━━━━━━━\u001B[0m\u001B[37m\u001B[0m \u001B[1m2s\u001B[0m 7ms/step - accuracy: 0.8184 - loss: 0.4730 - val_accuracy: 0.8184 - val_loss: 0.4764 - learning_rate: 1.0000e-04\n",
      "Epoch 64/80\n",
      "\u001B[1m240/240\u001B[0m \u001B[32m━━━━━━━━━━━━━━━━━━━━\u001B[0m\u001B[37m\u001B[0m \u001B[1m2s\u001B[0m 7ms/step - accuracy: 0.8228 - loss: 0.4599 - val_accuracy: 0.8187 - val_loss: 0.4762 - learning_rate: 1.0000e-04\n",
      "Epoch 65/80\n",
      "\u001B[1m240/240\u001B[0m \u001B[32m━━━━━━━━━━━━━━━━━━━━\u001B[0m\u001B[37m\u001B[0m \u001B[1m2s\u001B[0m 8ms/step - accuracy: 0.8113 - loss: 0.4792 - val_accuracy: 0.8186 - val_loss: 0.4739 - learning_rate: 1.0000e-04\n",
      "Epoch 66/80\n",
      "\u001B[1m240/240\u001B[0m \u001B[32m━━━━━━━━━━━━━━━━━━━━\u001B[0m\u001B[37m\u001B[0m \u001B[1m2s\u001B[0m 8ms/step - accuracy: 0.8244 - loss: 0.4561 - val_accuracy: 0.8172 - val_loss: 0.4734 - learning_rate: 1.0000e-04\n",
      "Epoch 67/80\n",
      "\u001B[1m240/240\u001B[0m \u001B[32m━━━━━━━━━━━━━━━━━━━━\u001B[0m\u001B[37m\u001B[0m \u001B[1m2s\u001B[0m 7ms/step - accuracy: 0.8205 - loss: 0.4691 - val_accuracy: 0.8178 - val_loss: 0.4714 - learning_rate: 1.0000e-04\n",
      "Epoch 68/80\n",
      "\u001B[1m240/240\u001B[0m \u001B[32m━━━━━━━━━━━━━━━━━━━━\u001B[0m\u001B[37m\u001B[0m \u001B[1m3s\u001B[0m 11ms/step - accuracy: 0.8179 - loss: 0.4630 - val_accuracy: 0.8189 - val_loss: 0.4752 - learning_rate: 1.0000e-04\n",
      "Epoch 69/80\n",
      "\u001B[1m240/240\u001B[0m \u001B[32m━━━━━━━━━━━━━━━━━━━━\u001B[0m\u001B[37m\u001B[0m \u001B[1m3s\u001B[0m 12ms/step - accuracy: 0.8114 - loss: 0.4751 - val_accuracy: 0.8199 - val_loss: 0.4739 - learning_rate: 1.0000e-04\n",
      "Epoch 70/80\n",
      "\u001B[1m240/240\u001B[0m \u001B[32m━━━━━━━━━━━━━━━━━━━━\u001B[0m\u001B[37m\u001B[0m \u001B[1m3s\u001B[0m 14ms/step - accuracy: 0.8182 - loss: 0.4633 - val_accuracy: 0.8193 - val_loss: 0.4714 - learning_rate: 1.0000e-04\n",
      "Epoch 71/80\n",
      "\u001B[1m240/240\u001B[0m \u001B[32m━━━━━━━━━━━━━━━━━━━━\u001B[0m\u001B[37m\u001B[0m \u001B[1m3s\u001B[0m 13ms/step - accuracy: 0.8174 - loss: 0.4659 - val_accuracy: 0.8176 - val_loss: 0.4717 - learning_rate: 1.0000e-04\n",
      "Epoch 72/80\n",
      "\u001B[1m240/240\u001B[0m \u001B[32m━━━━━━━━━━━━━━━━━━━━\u001B[0m\u001B[37m\u001B[0m \u001B[1m4s\u001B[0m 15ms/step - accuracy: 0.8213 - loss: 0.4615 - val_accuracy: 0.8199 - val_loss: 0.4701 - learning_rate: 1.0000e-04\n",
      "Epoch 73/80\n",
      "\u001B[1m240/240\u001B[0m \u001B[32m━━━━━━━━━━━━━━━━━━━━\u001B[0m\u001B[37m\u001B[0m \u001B[1m4s\u001B[0m 15ms/step - accuracy: 0.8193 - loss: 0.4629 - val_accuracy: 0.8173 - val_loss: 0.4737 - learning_rate: 1.0000e-04\n",
      "Epoch 74/80\n",
      "\u001B[1m240/240\u001B[0m \u001B[32m━━━━━━━━━━━━━━━━━━━━\u001B[0m\u001B[37m\u001B[0m \u001B[1m3s\u001B[0m 13ms/step - accuracy: 0.8170 - loss: 0.4653 - val_accuracy: 0.8202 - val_loss: 0.4700 - learning_rate: 1.0000e-04\n",
      "Epoch 75/80\n",
      "\u001B[1m240/240\u001B[0m \u001B[32m━━━━━━━━━━━━━━━━━━━━\u001B[0m\u001B[37m\u001B[0m \u001B[1m4s\u001B[0m 16ms/step - accuracy: 0.8244 - loss: 0.4592 - val_accuracy: 0.8205 - val_loss: 0.4688 - learning_rate: 1.0000e-04\n",
      "Epoch 76/80\n",
      "\u001B[1m240/240\u001B[0m \u001B[32m━━━━━━━━━━━━━━━━━━━━\u001B[0m\u001B[37m\u001B[0m \u001B[1m4s\u001B[0m 15ms/step - accuracy: 0.8193 - loss: 0.4613 - val_accuracy: 0.8167 - val_loss: 0.4693 - learning_rate: 1.0000e-04\n",
      "Epoch 77/80\n",
      "\u001B[1m240/240\u001B[0m \u001B[32m━━━━━━━━━━━━━━━━━━━━\u001B[0m\u001B[37m\u001B[0m \u001B[1m3s\u001B[0m 11ms/step - accuracy: 0.8129 - loss: 0.4680 - val_accuracy: 0.8184 - val_loss: 0.4680 - learning_rate: 1.0000e-04\n",
      "Epoch 78/80\n",
      "\u001B[1m240/240\u001B[0m \u001B[32m━━━━━━━━━━━━━━━━━━━━\u001B[0m\u001B[37m\u001B[0m \u001B[1m1s\u001B[0m 6ms/step - accuracy: 0.8235 - loss: 0.4589 - val_accuracy: 0.8175 - val_loss: 0.4738 - learning_rate: 1.0000e-04\n",
      "Epoch 79/80\n",
      "\u001B[1m240/240\u001B[0m \u001B[32m━━━━━━━━━━━━━━━━━━━━\u001B[0m\u001B[37m\u001B[0m \u001B[1m1s\u001B[0m 6ms/step - accuracy: 0.8213 - loss: 0.4612 - val_accuracy: 0.8188 - val_loss: 0.4703 - learning_rate: 1.0000e-04\n",
      "Epoch 80/80\n",
      "\u001B[1m240/240\u001B[0m \u001B[32m━━━━━━━━━━━━━━━━━━━━\u001B[0m\u001B[37m\u001B[0m \u001B[1m1s\u001B[0m 6ms/step - accuracy: 0.8184 - loss: 0.4571 - val_accuracy: 0.8177 - val_loss: 0.4696 - learning_rate: 1.0000e-04\n",
      "\n",
      "\n",
      "RESULTS:\n",
      "Validation Loss:     0.4680\n",
      "Validation Accuracy: 0.8184\n",
      "F1 Score:            0.4945\n"
     ]
    }
   ],
   "execution_count": 141
  },
  {
   "cell_type": "markdown",
   "metadata": {
    "id": "8w7UIdtIWuCD"
   },
   "source": [
    "## Analyze and comment the training results\n",
    "\n",
    "here goes any comment/visualization of the training history and any initial consideration on the training results  "
   ]
  },
  {
   "metadata": {
    "ExecuteTime": {
     "end_time": "2024-10-24T17:39:40.341905Z",
     "start_time": "2024-10-24T17:39:39.894449Z"
    }
   },
   "cell_type": "code",
   "source": [
    "import matplotlib.pyplot as plt \n",
    "\n",
    "def plot_training_history(history):\n",
    "    \"\"\"\n",
    "    Plots the training and validation loss and accuracy over epochs.\n",
    "    \n",
    "    Parameters:\n",
    "    history: History object returned from model.fit() that contains training and validation metrics for each epoch.\n",
    "    \n",
    "    The function generates two subplots: one for loss and one for accuracy, for both the training and validation sets.\n",
    "    \"\"\"\n",
    "    plt.figure(figsize=(12, 5))  # Set the size of the plot figure\n",
    "\n",
    "    # Plot training and validation loss\n",
    "    plt.subplot(1, 2, 1)  # Create a subplot for loss (1 row, 2 columns, 1st plot)\n",
    "    plt.plot(history.history['loss'], label='Training Loss')  # Plot training loss\n",
    "    plt.plot(history.history['val_loss'], label='Validation Loss')  # Plot validation loss\n",
    "    plt.title('Training and Validation Loss')  # Set the title of the plot\n",
    "    plt.xlabel('Epochs')  # Label x-axis as 'Epochs'\n",
    "    plt.ylabel('Loss')  # Label y-axis as 'Loss'\n",
    "    plt.legend()  # Add a legend to differentiate between training and validation\n",
    "    plt.grid()  # Add a grid for better readability\n",
    "\n",
    "    # Plot training and validation accuracy\n",
    "    plt.subplot(1, 2, 2)  # Create a subplot for accuracy (1 row, 2 columns, 2nd plot)\n",
    "    plt.plot(history.history['accuracy'], label='Training Accuracy')  # Plot training accuracy\n",
    "    plt.plot(history.history['val_accuracy'], label='Validation Accuracy')  # Plot validation accuracy\n",
    "    plt.title('Training and Validation Accuracy')  # Set the title of the plot\n",
    "    plt.xlabel('Epochs')  # Label x-axis as 'Epochs'\n",
    "    plt.ylabel('Accuracy')  # Label y-axis as 'Accuracy'\n",
    "    plt.legend()  # Add a legend to differentiate between training and validation\n",
    "    plt.grid()  # Add a grid for better readability\n",
    "\n",
    "    plt.tight_layout()  # Adjust the layout to prevent overlap between subplots\n",
    "    plt.show()  # Display the plots\n",
    "\n",
    "# Call the function to plot training history\n",
    "plot_training_history(history)\n",
    "\n",
    "# Extract the final training and validation loss and accuracy from the history object\n",
    "final_train_loss = history.history['loss'][-1]\n",
    "final_val_loss = history.history['val_loss'][-1]\n",
    "final_train_accuracy = history.history['accuracy'][-1]\n",
    "final_val_accuracy = history.history['val_accuracy'][-1]\n",
    "\n",
    "# Print final metrics for training and validation\n",
    "print(f\"Final Training Loss: {final_train_loss:.4f}\")\n",
    "print(f\"Final Validation Loss: {final_val_loss:.4f}\")\n",
    "print(f\"Final Training Accuracy: {final_train_accuracy:.4f}\")\n",
    "print(f\"Final Validation Accuracy: {final_val_accuracy:.4f}\")\n",
    "\n",
    "# Compare training and validation performance and interpret the results\n",
    "if final_train_loss < final_val_loss:\n",
    "    print(\"The model performs better on the training set compared to the validation set, which might indicate overfitting.\")\n",
    "elif final_train_loss > final_val_loss:\n",
    "    print(\"The model performs better on the validation set compared to the training set, indicating potential underfitting.\")\n",
    "else:\n",
    "    print(\"The model performs similarly on both sets, suggesting a good fit.\")"
   ],
   "outputs": [
    {
     "data": {
      "text/plain": [
       "<Figure size 1200x500 with 2 Axes>"
      ],
      "image/png": "[encoded data removed]"
     },
     "metadata": {},
     "output_type": "display_data"
    },
    {
     "name": "stdout",
     "output_type": "stream",
     "text": [
      "Final Training Loss: 0.4600\n",
      "Final Validation Loss: 0.4696\n",
      "Final Training Accuracy: 0.8192\n",
      "Final Validation Accuracy: 0.8177\n",
      "The model performs better on the training set compared to the validation set, which might indicate overfitting.\n"
     ]
    }
   ],
   "execution_count": 142
  },
  {
   "cell_type": "markdown",
   "metadata": {
    "id": "2jiOZzvyJbsN"
   },
   "source": [
    "## Validate the model and comment the results\n",
    "\n",
    "please describe the evaluation procedure on a validation set, commenting the generalization capability of your model (e.g. under/overfitting). You may also describe the performance metrics that you choose: what is the most suitable performance measure (or set of performance measures) in this case/dataset, according to you? Why?"
   ]
  },
  {
   "cell_type": "code",
   "metadata": {
    "id": "sgGlAIaEJbsO",
    "ExecuteTime": {
     "end_time": "2024-10-24T17:40:08.196834Z",
     "start_time": "2024-10-24T17:40:07.537888Z"
    }
   },
   "source": [
    "from sklearn.metrics import confusion_matrix, classification_report, roc_auc_score\n",
    "\n",
    "# Predict the probabilities for the validation set\n",
    "y_val_pred_prob = model.predict(X_val_scaled)\n",
    "\n",
    "# Convert predicted probabilities to binary predictions using a threshold of 0.5\n",
    "y_val_pred = (y_val_pred_prob > 0.5).astype(int)\n",
    "\n",
    "# Generate the confusion matrix to compare actual vs predicted values\n",
    "confusion = confusion_matrix(y_val, y_val_pred)\n",
    "print(\"Confusion Matrix:\")\n",
    "print(confusion)\n",
    "\n",
    "# Create a detailed classification report including precision, recall, and F1-score\n",
    "class_report = classification_report(y_val, y_val_pred, target_names=[\"No Default\", \"Default\"])\n",
    "print(\"Classification Report:\")\n",
    "print(class_report)\n",
    "\n",
    "# Calculate the ROC AUC score using the predicted probabilities\n",
    "roc_auc = roc_auc_score(y_val, y_val_pred_prob)\n",
    "print(f\"ROC AUC Score: {roc_auc:.4f}\")"
   ],
   "outputs": [
    {
     "name": "stdout",
     "output_type": "stream",
     "text": [
      "\u001B[1m319/319\u001B[0m \u001B[32m━━━━━━━━━━━━━━━━━━━━\u001B[0m\u001B[37m\u001B[0m \u001B[1m0s\u001B[0m 1ms/step\n",
      "Confusion Matrix:\n",
      "[[7442  484]\n",
      " [1368  906]]\n",
      "Classification Report:\n",
      "              precision    recall  f1-score   support\n",
      "\n",
      "  No Default       0.84      0.94      0.89      7926\n",
      "     Default       0.65      0.40      0.49      2274\n",
      "\n",
      "    accuracy                           0.82     10200\n",
      "   macro avg       0.75      0.67      0.69     10200\n",
      "weighted avg       0.80      0.82      0.80     10200\n",
      "\n",
      "ROC AUC Score: 0.7763\n"
     ]
    }
   ],
   "execution_count": 143
  },
  {
   "cell_type": "markdown",
   "metadata": {
    "id": "5MhCwXroWmf9"
   },
   "source": [
    "## Make predictions (on the provided test set)\n",
    "\n",
    "Based on the results obtained and analyzed during the training and the validation phases, what are your (rather _personal_) expectations with respect to the performances of your model on the blind external test set? Briefly motivate your answer."
   ]
  },
  {
   "cell_type": "code",
   "metadata": {
    "id": "fbtA2vJRWpMY",
    "ExecuteTime": {
     "end_time": "2024-10-24T17:40:51.424835Z",
     "start_time": "2024-10-24T17:40:51.056519Z"
    }
   },
   "source": [
    "import pandas as pd  \n",
    "\n",
    "# Load the test dataset from a CSV file\n",
    "test_df = pd.read_csv('test.csv')\n",
    "\n",
    "# Drop the 'ID' column if it exists, as it is not needed for predictions\n",
    "if 'ID' in test_df.columns:\n",
    "    test_df = test_df.drop(columns=['ID'])\n",
    "\n",
    "# Copy the test dataset to preserve the original data structure\n",
    "X_test = test_df.copy()\n",
    "\n",
    "# Ensure that the number of features in the test set matches the expected number of features\n",
    "if X_test.shape[1] == scaler.n_features_in_:\n",
    "    # Standardize the test set using the same scaler fitted on the training data\n",
    "    X_test_scaled = scaler.transform(X_test)\n",
    "else:\n",
    "    # Raise an error if the number of columns does not match the training data\n",
    "    raise ValueError(\"Impossibile standardizzare i dati: il numero di colonne non corrisponde.\")\n",
    "\n",
    "# Predict the probabilities for the test set using the trained model\n",
    "test_predictions_prob = model.predict(X_test_scaled)\n",
    "\n",
    "# Convert predicted probabilities to binary class predictions using a threshold of 0.5\n",
    "test_predictions = (test_predictions_prob > 0.5).astype(int)\n",
    "\n",
    "# Save the predictions to a CSV file without including the header or index\n",
    "pd.DataFrame(test_predictions, columns=['Predicted']).to_csv('test_predictions.csv', index=False, header=False)"
   ],
   "outputs": [
    {
     "name": "stdout",
     "output_type": "stream",
     "text": [
      "\u001B[1m141/141\u001B[0m \u001B[32m━━━━━━━━━━━━━━━━━━━━\u001B[0m\u001B[37m\u001B[0m \u001B[1m0s\u001B[0m 1ms/step\n"
     ]
    }
   ],
   "execution_count": 144
  },
  {
   "metadata": {
    "ExecuteTime": {
     "end_time": "2024-10-24T17:41:07.056166Z",
     "start_time": "2024-10-24T17:41:07.043877Z"
    }
   },
   "cell_type": "code",
   "source": [
    "from sklearn.metrics import accuracy_score, f1_score\n",
    "\n",
    "true_labels_df = pd.read_csv('test_with_labels_real.csv', header=None)  \n",
    "true_labels = true_labels_df[0].values \n",
    "\n",
    "predictions_df = pd.read_csv('test_predictions.csv', header=None)\n",
    "predictions = predictions_df[0].values \n",
    "\n",
    "accuracy = accuracy_score(true_labels, predictions)\n",
    "f1 = f1_score(true_labels, predictions)\n",
    "\n",
    "print(f'Accuracy: {accuracy:.4f}')\n",
    "print(f'F1 Score: {f1:.4f}')\n"
   ],
   "outputs": [
    {
     "name": "stdout",
     "output_type": "stream",
     "text": [
      "Accuracy: 0.8256\n",
      "F1 Score: 0.4886\n"
     ]
    }
   ],
   "execution_count": 145
  },
  {
   "cell_type": "markdown",
   "metadata": {
    "id": "9w-sa4AlaBJg"
   },
   "source": [
    "# OPTIONAL -- Export the predictions in the format indicated in the assignment release page and verify you prediction on the [assessment page](https://aml-assignmentone-2425.streamlit.app/)."
   ]
  },
  {
   "metadata": {
    "ExecuteTime": {
     "end_time": "2024-10-24T08:45:44.689622Z",
     "start_time": "2024-10-24T08:45:44.689388Z"
    }
   },
   "cell_type": "code",
   "source": "",
   "outputs": [],
   "execution_count": null
  }
 ]
}
